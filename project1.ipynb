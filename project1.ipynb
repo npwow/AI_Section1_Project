{
  "nbformat": 4,
  "nbformat_minor": 0,
  "metadata": {
    "colab": {
      "name": "project1",
      "provenance": [],
      "collapsed_sections": [],
      "toc_visible": true
    },
    "kernelspec": {
      "name": "python3",
      "display_name": "Python 3"
    },
    "language_info": {
      "name": "python"
    }
  },
  "cells": [
    {
      "cell_type": "markdown",
      "source": [
        "# 데이터 전처리"
      ],
      "metadata": {
        "id": "Bwuy2bvj6iOg"
      }
    },
    {
      "cell_type": "code",
      "execution_count": 179,
      "metadata": {
        "colab": {
          "base_uri": "https://localhost:8080/",
          "height": 573
        },
        "id": "v7hGMHrdUd6s",
        "outputId": "2db3cdae-6f6a-48ba-e627-4b8941380bad"
      },
      "outputs": [
        {
          "output_type": "stream",
          "name": "stdout",
          "text": [
            "Name            object\n",
            "Platform        object\n",
            "Year           float64\n",
            "Genre           object\n",
            "Publisher       object\n",
            "NA_Sales        object\n",
            "EU_Sales        object\n",
            "JP_Sales        object\n",
            "Other_Sales     object\n",
            "dtype: object\n",
            "Name             0\n",
            "Platform         0\n",
            "Year           271\n",
            "Genre           50\n",
            "Publisher       58\n",
            "NA_Sales         0\n",
            "EU_Sales         0\n",
            "JP_Sales         0\n",
            "Other_Sales      0\n",
            "dtype: int64\n"
          ]
        },
        {
          "output_type": "execute_result",
          "data": {
            "text/html": [
              "<div>\n",
              "<style scoped>\n",
              "    .dataframe tbody tr th:only-of-type {\n",
              "        vertical-align: middle;\n",
              "    }\n",
              "\n",
              "    .dataframe tbody tr th {\n",
              "        vertical-align: top;\n",
              "    }\n",
              "\n",
              "    .dataframe thead th {\n",
              "        text-align: right;\n",
              "    }\n",
              "</style>\n",
              "<table border=\"1\" class=\"dataframe\">\n",
              "  <thead>\n",
              "    <tr style=\"text-align: right;\">\n",
              "      <th></th>\n",
              "      <th>Name</th>\n",
              "      <th>Platform</th>\n",
              "      <th>Year</th>\n",
              "      <th>Genre</th>\n",
              "      <th>Publisher</th>\n",
              "      <th>NA_Sales</th>\n",
              "      <th>EU_Sales</th>\n",
              "      <th>JP_Sales</th>\n",
              "      <th>Other_Sales</th>\n",
              "    </tr>\n",
              "  </thead>\n",
              "  <tbody>\n",
              "    <tr>\n",
              "      <th>0</th>\n",
              "      <td>Candace Kane's Candy Factory</td>\n",
              "      <td>DS</td>\n",
              "      <td>2008.0</td>\n",
              "      <td>Action</td>\n",
              "      <td>Destineer</td>\n",
              "      <td>0.04</td>\n",
              "      <td>0</td>\n",
              "      <td>0</td>\n",
              "      <td>0</td>\n",
              "    </tr>\n",
              "    <tr>\n",
              "      <th>1</th>\n",
              "      <td>The Munchables</td>\n",
              "      <td>Wii</td>\n",
              "      <td>2009.0</td>\n",
              "      <td>Action</td>\n",
              "      <td>Namco Bandai Games</td>\n",
              "      <td>0.17</td>\n",
              "      <td>0</td>\n",
              "      <td>0</td>\n",
              "      <td>0.01</td>\n",
              "    </tr>\n",
              "    <tr>\n",
              "      <th>2</th>\n",
              "      <td>Otome wa Oanesama Boku ni Koi Shiteru Portable</td>\n",
              "      <td>PSP</td>\n",
              "      <td>2010.0</td>\n",
              "      <td>Adventure</td>\n",
              "      <td>Alchemist</td>\n",
              "      <td>0</td>\n",
              "      <td>0</td>\n",
              "      <td>0.02</td>\n",
              "      <td>0</td>\n",
              "    </tr>\n",
              "    <tr>\n",
              "      <th>3</th>\n",
              "      <td>Deal or No Deal: Special Edition</td>\n",
              "      <td>DS</td>\n",
              "      <td>2010.0</td>\n",
              "      <td>Misc</td>\n",
              "      <td>Zoo Games</td>\n",
              "      <td>0.04</td>\n",
              "      <td>0</td>\n",
              "      <td>0</td>\n",
              "      <td>0</td>\n",
              "    </tr>\n",
              "    <tr>\n",
              "      <th>4</th>\n",
              "      <td>Ben 10 Ultimate Alien: Cosmic Destruction</td>\n",
              "      <td>PS3</td>\n",
              "      <td>2010.0</td>\n",
              "      <td>Platform</td>\n",
              "      <td>D3Publisher</td>\n",
              "      <td>0.12</td>\n",
              "      <td>0.09</td>\n",
              "      <td>0</td>\n",
              "      <td>0.04</td>\n",
              "    </tr>\n",
              "  </tbody>\n",
              "</table>\n",
              "</div>"
            ],
            "text/plain": [
              "                                             Name Platform  ...  JP_Sales Other_Sales\n",
              "0                    Candace Kane's Candy Factory       DS  ...         0           0\n",
              "1                                  The Munchables      Wii  ...         0        0.01\n",
              "2  Otome wa Oanesama Boku ni Koi Shiteru Portable      PSP  ...      0.02           0\n",
              "3                Deal or No Deal: Special Edition       DS  ...         0           0\n",
              "4       Ben 10 Ultimate Alien: Cosmic Destruction      PS3  ...         0        0.04\n",
              "\n",
              "[5 rows x 9 columns]"
            ]
          },
          "metadata": {},
          "execution_count": 179
        }
      ],
      "source": [
        "import pandas as pd\n",
        "import numpy as np\n",
        "import scipy.stats as stats\n",
        "import math\n",
        "import plotly.express as px\n",
        "import plotly.graph_objects as go\n",
        "from plotly.subplots import make_subplots\n",
        "\n",
        "df = pd.read_csv('https://ds-lecture-data.s3.ap-northeast-2.amazonaws.com/datasets/vgames2.csv')\n",
        "df.drop(['Unnamed: 0'], axis = 1, inplace = True)\n",
        "print(df.dtypes)\n",
        "print(df.isna().sum())\n",
        "df.head(5)"
      ]
    },
    {
      "cell_type": "markdown",
      "source": [
        ""
      ],
      "metadata": {
        "id": "lMSm3j6RMaTY"
      }
    },
    {
      "cell_type": "code",
      "source": [
        "def unitConversion(v): #기본 단위를 M으로 통일\n",
        "  if 'K' in v:\n",
        "    return float(v.replace('K','')) * 0.001\n",
        "\n",
        "  return float(v.replace('M', ''))\n",
        "\n",
        "sale_columns = df.filter(regex='_Sales').columns  #_Sales 포함한 컬럼 선택\n",
        "for c in sale_columns:\n",
        "  df[c] = df[c].apply(unitConversion)\n",
        "\n",
        "df['Total_Sales'] = df[sale_columns].sum(axis=1)\n",
        "df.dtypes"
      ],
      "metadata": {
        "colab": {
          "base_uri": "https://localhost:8080/"
        },
        "id": "WC-NeityUxUB",
        "outputId": "ab337914-b5c5-4aad-9a63-6d873d3be9ab"
      },
      "execution_count": 180,
      "outputs": [
        {
          "output_type": "execute_result",
          "data": {
            "text/plain": [
              "Name            object\n",
              "Platform        object\n",
              "Year           float64\n",
              "Genre           object\n",
              "Publisher       object\n",
              "NA_Sales       float64\n",
              "EU_Sales       float64\n",
              "JP_Sales       float64\n",
              "Other_Sales    float64\n",
              "Total_Sales    float64\n",
              "dtype: object"
            ]
          },
          "metadata": {},
          "execution_count": 180
        }
      ]
    },
    {
      "cell_type": "code",
      "source": [
        "since1900 = (df['Year'] < 100) & (df['Year'] >= 30)\n",
        "df[since1900].head(5)"
      ],
      "metadata": {
        "colab": {
          "base_uri": "https://localhost:8080/",
          "height": 206
        },
        "id": "4C9NiiwvVzqv",
        "outputId": "63bcd494-cdc1-401c-dc4f-a230d073d1cf"
      },
      "execution_count": 181,
      "outputs": [
        {
          "output_type": "execute_result",
          "data": {
            "text/html": [
              "<div>\n",
              "<style scoped>\n",
              "    .dataframe tbody tr th:only-of-type {\n",
              "        vertical-align: middle;\n",
              "    }\n",
              "\n",
              "    .dataframe tbody tr th {\n",
              "        vertical-align: top;\n",
              "    }\n",
              "\n",
              "    .dataframe thead th {\n",
              "        text-align: right;\n",
              "    }\n",
              "</style>\n",
              "<table border=\"1\" class=\"dataframe\">\n",
              "  <thead>\n",
              "    <tr style=\"text-align: right;\">\n",
              "      <th></th>\n",
              "      <th>Name</th>\n",
              "      <th>Platform</th>\n",
              "      <th>Year</th>\n",
              "      <th>Genre</th>\n",
              "      <th>Publisher</th>\n",
              "      <th>NA_Sales</th>\n",
              "      <th>EU_Sales</th>\n",
              "      <th>JP_Sales</th>\n",
              "      <th>Other_Sales</th>\n",
              "      <th>Total_Sales</th>\n",
              "    </tr>\n",
              "  </thead>\n",
              "  <tbody>\n",
              "    <tr>\n",
              "      <th>81</th>\n",
              "      <td>Treasures of the Deep</td>\n",
              "      <td>PS</td>\n",
              "      <td>97.0</td>\n",
              "      <td>Action</td>\n",
              "      <td>Namco Bandai Games</td>\n",
              "      <td>0.10</td>\n",
              "      <td>0.07</td>\n",
              "      <td>0.00</td>\n",
              "      <td>0.01</td>\n",
              "      <td>0.18</td>\n",
              "    </tr>\n",
              "    <tr>\n",
              "      <th>906</th>\n",
              "      <td>Mini-Yonku Shining Scorpion: Let's &amp; Go!!</td>\n",
              "      <td>SNES</td>\n",
              "      <td>96.0</td>\n",
              "      <td>Racing</td>\n",
              "      <td>ASCII Entertainment</td>\n",
              "      <td>0.00</td>\n",
              "      <td>0.00</td>\n",
              "      <td>0.90</td>\n",
              "      <td>0.00</td>\n",
              "      <td>0.90</td>\n",
              "    </tr>\n",
              "    <tr>\n",
              "      <th>2429</th>\n",
              "      <td>Casper</td>\n",
              "      <td>PS</td>\n",
              "      <td>96.0</td>\n",
              "      <td>Adventure</td>\n",
              "      <td>Interplay</td>\n",
              "      <td>0.46</td>\n",
              "      <td>0.31</td>\n",
              "      <td>0.00</td>\n",
              "      <td>0.05</td>\n",
              "      <td>0.82</td>\n",
              "    </tr>\n",
              "    <tr>\n",
              "      <th>3492</th>\n",
              "      <td>Glover</td>\n",
              "      <td>N64</td>\n",
              "      <td>98.0</td>\n",
              "      <td>Platform</td>\n",
              "      <td>Hasbro Interactive</td>\n",
              "      <td>0.72</td>\n",
              "      <td>0.17</td>\n",
              "      <td>0.00</td>\n",
              "      <td>0.01</td>\n",
              "      <td>0.90</td>\n",
              "    </tr>\n",
              "    <tr>\n",
              "      <th>4365</th>\n",
              "      <td>Adventure Island</td>\n",
              "      <td>NES</td>\n",
              "      <td>86.0</td>\n",
              "      <td>Platform</td>\n",
              "      <td>Hudson Soft</td>\n",
              "      <td>0.00</td>\n",
              "      <td>0.00</td>\n",
              "      <td>1.05</td>\n",
              "      <td>0.00</td>\n",
              "      <td>1.05</td>\n",
              "    </tr>\n",
              "  </tbody>\n",
              "</table>\n",
              "</div>"
            ],
            "text/plain": [
              "                                           Name  ... Total_Sales\n",
              "81                        Treasures of the Deep  ...        0.18\n",
              "906   Mini-Yonku Shining Scorpion: Let's & Go!!  ...        0.90\n",
              "2429                                     Casper  ...        0.82\n",
              "3492                                     Glover  ...        0.90\n",
              "4365                           Adventure Island  ...        1.05\n",
              "\n",
              "[5 rows x 10 columns]"
            ]
          },
          "metadata": {},
          "execution_count": 181
        }
      ]
    },
    {
      "cell_type": "code",
      "source": [
        "since2000 = (df['Year'] >= 0) & (df['Year'] < 30)\n",
        "df[since2000].head(5)"
      ],
      "metadata": {
        "colab": {
          "base_uri": "https://localhost:8080/",
          "height": 206
        },
        "id": "qSfBi_pNWBbC",
        "outputId": "b7a41f81-2932-4197-a489-7bdd9f1ba75d"
      },
      "execution_count": 182,
      "outputs": [
        {
          "output_type": "execute_result",
          "data": {
            "text/html": [
              "<div>\n",
              "<style scoped>\n",
              "    .dataframe tbody tr th:only-of-type {\n",
              "        vertical-align: middle;\n",
              "    }\n",
              "\n",
              "    .dataframe tbody tr th {\n",
              "        vertical-align: top;\n",
              "    }\n",
              "\n",
              "    .dataframe thead th {\n",
              "        text-align: right;\n",
              "    }\n",
              "</style>\n",
              "<table border=\"1\" class=\"dataframe\">\n",
              "  <thead>\n",
              "    <tr style=\"text-align: right;\">\n",
              "      <th></th>\n",
              "      <th>Name</th>\n",
              "      <th>Platform</th>\n",
              "      <th>Year</th>\n",
              "      <th>Genre</th>\n",
              "      <th>Publisher</th>\n",
              "      <th>NA_Sales</th>\n",
              "      <th>EU_Sales</th>\n",
              "      <th>JP_Sales</th>\n",
              "      <th>Other_Sales</th>\n",
              "      <th>Total_Sales</th>\n",
              "    </tr>\n",
              "  </thead>\n",
              "  <tbody>\n",
              "    <tr>\n",
              "      <th>74</th>\n",
              "      <td>Age of Empires III: Complete Collection</td>\n",
              "      <td>PC</td>\n",
              "      <td>9.0</td>\n",
              "      <td>Strategy</td>\n",
              "      <td>Microsoft Game Studios</td>\n",
              "      <td>0.01</td>\n",
              "      <td>0.12</td>\n",
              "      <td>0.0</td>\n",
              "      <td>0.03</td>\n",
              "      <td>0.16</td>\n",
              "    </tr>\n",
              "    <tr>\n",
              "      <th>213</th>\n",
              "      <td>NASCAR Unleashed</td>\n",
              "      <td>PS3</td>\n",
              "      <td>11.0</td>\n",
              "      <td>Racing</td>\n",
              "      <td>Activision</td>\n",
              "      <td>0.09</td>\n",
              "      <td>0.00</td>\n",
              "      <td>0.0</td>\n",
              "      <td>0.01</td>\n",
              "      <td>0.10</td>\n",
              "    </tr>\n",
              "    <tr>\n",
              "      <th>304</th>\n",
              "      <td>Kung Fu Panda: Showdown of Legendary Legends</td>\n",
              "      <td>PS3</td>\n",
              "      <td>15.0</td>\n",
              "      <td>Action</td>\n",
              "      <td>Little Orbit</td>\n",
              "      <td>0.00</td>\n",
              "      <td>0.02</td>\n",
              "      <td>0.0</td>\n",
              "      <td>0.00</td>\n",
              "      <td>0.02</td>\n",
              "    </tr>\n",
              "    <tr>\n",
              "      <th>768</th>\n",
              "      <td>NASCAR Thunder 2004</td>\n",
              "      <td>PS2</td>\n",
              "      <td>3.0</td>\n",
              "      <td>Racing</td>\n",
              "      <td>Electronic Arts</td>\n",
              "      <td>0.53</td>\n",
              "      <td>0.41</td>\n",
              "      <td>0.0</td>\n",
              "      <td>0.14</td>\n",
              "      <td>1.08</td>\n",
              "    </tr>\n",
              "    <tr>\n",
              "      <th>1015</th>\n",
              "      <td>Wolfenstein</td>\n",
              "      <td>PC</td>\n",
              "      <td>9.0</td>\n",
              "      <td>Shooter</td>\n",
              "      <td>Activision</td>\n",
              "      <td>0.01</td>\n",
              "      <td>0.03</td>\n",
              "      <td>0.0</td>\n",
              "      <td>0.01</td>\n",
              "      <td>0.05</td>\n",
              "    </tr>\n",
              "  </tbody>\n",
              "</table>\n",
              "</div>"
            ],
            "text/plain": [
              "                                              Name  ... Total_Sales\n",
              "74         Age of Empires III: Complete Collection  ...        0.16\n",
              "213                               NASCAR Unleashed  ...        0.10\n",
              "304   Kung Fu Panda: Showdown of Legendary Legends  ...        0.02\n",
              "768                            NASCAR Thunder 2004  ...        1.08\n",
              "1015                                   Wolfenstein  ...        0.05\n",
              "\n",
              "[5 rows x 10 columns]"
            ]
          },
          "metadata": {},
          "execution_count": 182
        }
      ]
    },
    {
      "cell_type": "code",
      "source": [
        "def cleanYear(year):\n",
        "  if year < 30:\n",
        "    return year + 2000\n",
        "  elif year < 100:\n",
        "    return year + 1900\n",
        "  else:\n",
        "    return year\n",
        "\n",
        "df['Year'] = df['Year'].apply(cleanYear)\n",
        "df['Year'].fillna(df['Year'].mean(), inplace = True)  #결측치 평균값으로 처리\n",
        "df['Year'] = df['Year'].apply(int)  #연도 int로 변경\n",
        "\n",
        "since1900 = (df['Year'] < 100) & (df['Year'] >= 30)\n",
        "since2000 = (df['Year'] >= 0) & (df['Year'] < 30)\n",
        "\n",
        "print('1900년대 2자리수 연도 데이터 수:', len(df[since1900]))\n",
        "print('2000년대 2자리수 연도 데이터 수:', len(df[since2000]))\n",
        "print('년도 빈값:', df['Year'].isna().sum())\n"
      ],
      "metadata": {
        "colab": {
          "base_uri": "https://localhost:8080/"
        },
        "id": "4rx4f0M1Lstt",
        "outputId": "6e3c76c4-23bb-49a8-c91c-508a46fc5713"
      },
      "execution_count": 183,
      "outputs": [
        {
          "output_type": "stream",
          "name": "stdout",
          "text": [
            "1900년대 2자리수 연도 데이터 수: 0\n",
            "2000년대 2자리수 연도 데이터 수: 0\n",
            "년도 빈값: 0\n"
          ]
        }
      ]
    },
    {
      "cell_type": "code",
      "source": [
        "df.sort_values('Year', ascending=True, inplace=True)"
      ],
      "metadata": {
        "id": "dUm-xjNUnS2K"
      },
      "execution_count": 184,
      "outputs": []
    },
    {
      "cell_type": "code",
      "source": [
        "df.dropna(inplace=True)"
      ],
      "metadata": {
        "id": "dFCBpV_HkHr2"
      },
      "execution_count": 185,
      "outputs": []
    },
    {
      "cell_type": "code",
      "source": [
        "genres = df.Genre.value_counts()\n",
        "genres.index"
      ],
      "metadata": {
        "colab": {
          "base_uri": "https://localhost:8080/"
        },
        "id": "Gmhkhhf6rARC",
        "outputId": "30641ed7-c8ef-4fd0-b742-c47d01b923ad"
      },
      "execution_count": 186,
      "outputs": [
        {
          "output_type": "execute_result",
          "data": {
            "text/plain": [
              "Index(['Action', 'Sports', 'Misc', 'Role-Playing', 'Shooter', 'Adventure',\n",
              "       'Racing', 'Platform', 'Simulation', 'Fighting', 'Strategy', 'Puzzle'],\n",
              "      dtype='object')"
            ]
          },
          "metadata": {},
          "execution_count": 186
        }
      ]
    },
    {
      "cell_type": "markdown",
      "source": [
        "# 지역별 선호 게임 장르"
      ],
      "metadata": {
        "id": "Bp_QLcgV6Cu5"
      }
    },
    {
      "cell_type": "code",
      "source": [
        "def updateTitleLayout(f, title):\n",
        "  f.update_layout(\n",
        "    title=title,\n",
        "    title_x=0.5,\n",
        "    title_font_size = 25,\n",
        "    font=dict(\n",
        "        size=11,\n",
        "        color=\"black\"\n",
        "    )\n",
        ")\n",
        "\n",
        "def getPreferenceGenre(area, start, end, top = 5):\n",
        "  con = (df['Year'] >= start) & (df['Year'] <= end)\n",
        "  data = df[con].groupby(['Genre'])[area].agg(**{'value':'sum'})\n",
        "  data.sort_values(by='value', ascending=False, inplace=True)\n",
        "  data.reset_index(inplace=True)\n",
        "  return data[0:top]\n",
        "\n",
        "def ShowPreferenceGenre(start, end):\n",
        "  NA_Sales = getPreferenceGenre('NA_Sales', start, end)\n",
        "  EU_Sales = getPreferenceGenre('EU_Sales', start, end)\n",
        "  JP_Sales = getPreferenceGenre('JP_Sales', start, end)\n",
        "  Other_Sales = getPreferenceGenre('Other_Sales', start, end)\n",
        "\n",
        "  fig = make_subplots(rows = 2, cols = 2, subplot_titles=['NA','EU','JP','Other'], horizontal_spacing = 0.1, vertical_spacing=0.1)\n",
        "  fig.add_bar (row = 1, col = 1, x = NA_Sales.Genre, y = NA_Sales.value)\n",
        "  fig.add_bar (row = 1, col = 2, x = EU_Sales.Genre, y = EU_Sales.value)\n",
        "  fig.add_bar (row = 2, col = 1, x = JP_Sales.Genre, y = JP_Sales.value)\n",
        "  fig.add_bar (row = 2, col = 2, x = Other_Sales.Genre, y = Other_Sales.value)\n",
        "  fig.update_layout(height = 800, width = 800, showlegend = False)\n",
        "  fig.show()\n",
        "\n",
        "ShowPreferenceGenre(1980, 2020)"
      ],
      "metadata": {
        "colab": {
          "base_uri": "https://localhost:8080/",
          "height": 817
        },
        "id": "MjQFX58gC0Gl",
        "outputId": "c2751998-8e49-42aa-af0c-d368c59a175e"
      },
      "execution_count": 187,
      "outputs": [
        {
          "output_type": "display_data",
          "data": {
            "text/html": [
              "<html>\n",
              "<head><meta charset=\"utf-8\" /></head>\n",
              "<body>\n",
              "    <div>\n",
              "            <script src=\"https://cdnjs.cloudflare.com/ajax/libs/mathjax/2.7.5/MathJax.js?config=TeX-AMS-MML_SVG\"></script><script type=\"text/javascript\">if (window.MathJax) {MathJax.Hub.Config({SVG: {font: \"STIX-Web\"}});}</script>\n",
              "                <script type=\"text/javascript\">window.PlotlyConfig = {MathJaxConfig: 'local'};</script>\n",
              "        <script src=\"https://cdn.plot.ly/plotly-latest.min.js\"></script>    \n",
              "            <div id=\"da56e02a-c998-4a41-9deb-f9fe710efcb0\" class=\"plotly-graph-div\" style=\"height:800px; width:800px;\"></div>\n",
              "            <script type=\"text/javascript\">\n",
              "                \n",
              "                    window.PLOTLYENV=window.PLOTLYENV || {};\n",
              "                    \n",
              "                if (document.getElementById(\"da56e02a-c998-4a41-9deb-f9fe710efcb0\")) {\n",
              "                    Plotly.newPlot(\n",
              "                        'da56e02a-c998-4a41-9deb-f9fe710efcb0',\n",
              "                        [{\"type\": \"bar\", \"x\": [\"Action\", \"Sports\", \"Shooter\", \"Platform\", \"Misc\"], \"xaxis\": \"x\", \"y\": [874.5199999999969, 679.7099999999966, 581.9099999999993, 446.43999999999966, 402.4800000000001], \"yaxis\": \"y\"}, {\"type\": \"bar\", \"x\": [\"Action\", \"Sports\", \"Shooter\", \"Racing\", \"Misc\"], \"xaxis\": \"x2\", \"y\": [522.0799999999955, 375.92999999999864, 313.02000000000055, 237.0900000000002, 210.3100000000003], \"yaxis\": \"y2\"}, {\"type\": \"bar\", \"x\": [\"Role-Playing\", \"Action\", \"Sports\", \"Platform\", \"Misc\"], \"xaxis\": \"x3\", \"y\": [344.89999999999884, 157.4400000000006, 135.25000000000009, 130.65000000000015, 105.2300000000002], \"yaxis\": \"y3\"}, {\"type\": \"bar\", \"x\": [\"Action\", \"Sports\", \"Shooter\", \"Racing\", \"Misc\"], \"xaxis\": \"x4\", \"y\": [186.4200000000004, 134.57000000000068, 102.65000000000012, 77.1000000000002, 73.94000000000007], \"yaxis\": \"y4\"}],\n",
              "                        {\"annotations\": [{\"font\": {\"size\": 16}, \"showarrow\": false, \"text\": \"NA\", \"x\": 0.225, \"xanchor\": \"center\", \"xref\": \"paper\", \"y\": 1.0, \"yanchor\": \"bottom\", \"yref\": \"paper\"}, {\"font\": {\"size\": 16}, \"showarrow\": false, \"text\": \"EU\", \"x\": 0.775, \"xanchor\": \"center\", \"xref\": \"paper\", \"y\": 1.0, \"yanchor\": \"bottom\", \"yref\": \"paper\"}, {\"font\": {\"size\": 16}, \"showarrow\": false, \"text\": \"JP\", \"x\": 0.225, \"xanchor\": \"center\", \"xref\": \"paper\", \"y\": 0.45, \"yanchor\": \"bottom\", \"yref\": \"paper\"}, {\"font\": {\"size\": 16}, \"showarrow\": false, \"text\": \"Other\", \"x\": 0.775, \"xanchor\": \"center\", \"xref\": \"paper\", \"y\": 0.45, \"yanchor\": \"bottom\", \"yref\": \"paper\"}], \"height\": 800, \"showlegend\": false, \"template\": {\"data\": {\"bar\": [{\"error_x\": {\"color\": \"#2a3f5f\"}, \"error_y\": {\"color\": \"#2a3f5f\"}, \"marker\": {\"line\": {\"color\": \"#E5ECF6\", \"width\": 0.5}}, \"type\": \"bar\"}], \"barpolar\": [{\"marker\": {\"line\": {\"color\": \"#E5ECF6\", \"width\": 0.5}}, \"type\": \"barpolar\"}], \"carpet\": [{\"aaxis\": {\"endlinecolor\": \"#2a3f5f\", \"gridcolor\": \"white\", \"linecolor\": \"white\", \"minorgridcolor\": \"white\", \"startlinecolor\": \"#2a3f5f\"}, \"baxis\": {\"endlinecolor\": \"#2a3f5f\", \"gridcolor\": \"white\", \"linecolor\": \"white\", \"minorgridcolor\": \"white\", \"startlinecolor\": \"#2a3f5f\"}, \"type\": \"carpet\"}], \"choropleth\": [{\"colorbar\": {\"outlinewidth\": 0, \"ticks\": \"\"}, \"type\": \"choropleth\"}], \"contour\": [{\"colorbar\": {\"outlinewidth\": 0, \"ticks\": \"\"}, \"colorscale\": [[0.0, \"#0d0887\"], [0.1111111111111111, \"#46039f\"], [0.2222222222222222, \"#7201a8\"], [0.3333333333333333, \"#9c179e\"], [0.4444444444444444, \"#bd3786\"], [0.5555555555555556, \"#d8576b\"], [0.6666666666666666, \"#ed7953\"], [0.7777777777777778, \"#fb9f3a\"], [0.8888888888888888, \"#fdca26\"], [1.0, \"#f0f921\"]], \"type\": \"contour\"}], \"contourcarpet\": [{\"colorbar\": {\"outlinewidth\": 0, \"ticks\": \"\"}, \"type\": \"contourcarpet\"}], \"heatmap\": [{\"colorbar\": {\"outlinewidth\": 0, \"ticks\": \"\"}, \"colorscale\": [[0.0, \"#0d0887\"], [0.1111111111111111, \"#46039f\"], [0.2222222222222222, \"#7201a8\"], [0.3333333333333333, \"#9c179e\"], [0.4444444444444444, \"#bd3786\"], [0.5555555555555556, \"#d8576b\"], [0.6666666666666666, \"#ed7953\"], [0.7777777777777778, \"#fb9f3a\"], [0.8888888888888888, \"#fdca26\"], [1.0, \"#f0f921\"]], \"type\": \"heatmap\"}], \"heatmapgl\": [{\"colorbar\": {\"outlinewidth\": 0, \"ticks\": \"\"}, \"colorscale\": [[0.0, \"#0d0887\"], [0.1111111111111111, \"#46039f\"], [0.2222222222222222, \"#7201a8\"], [0.3333333333333333, \"#9c179e\"], [0.4444444444444444, \"#bd3786\"], [0.5555555555555556, \"#d8576b\"], [0.6666666666666666, \"#ed7953\"], [0.7777777777777778, \"#fb9f3a\"], [0.8888888888888888, \"#fdca26\"], [1.0, \"#f0f921\"]], \"type\": \"heatmapgl\"}], \"histogram\": [{\"marker\": {\"colorbar\": {\"outlinewidth\": 0, \"ticks\": \"\"}}, \"type\": \"histogram\"}], \"histogram2d\": [{\"colorbar\": {\"outlinewidth\": 0, \"ticks\": \"\"}, \"colorscale\": [[0.0, \"#0d0887\"], [0.1111111111111111, \"#46039f\"], [0.2222222222222222, \"#7201a8\"], [0.3333333333333333, \"#9c179e\"], [0.4444444444444444, \"#bd3786\"], [0.5555555555555556, \"#d8576b\"], [0.6666666666666666, \"#ed7953\"], [0.7777777777777778, \"#fb9f3a\"], [0.8888888888888888, \"#fdca26\"], [1.0, \"#f0f921\"]], \"type\": \"histogram2d\"}], \"histogram2dcontour\": [{\"colorbar\": {\"outlinewidth\": 0, \"ticks\": \"\"}, \"colorscale\": [[0.0, \"#0d0887\"], [0.1111111111111111, \"#46039f\"], [0.2222222222222222, \"#7201a8\"], [0.3333333333333333, \"#9c179e\"], [0.4444444444444444, \"#bd3786\"], [0.5555555555555556, \"#d8576b\"], [0.6666666666666666, \"#ed7953\"], [0.7777777777777778, \"#fb9f3a\"], [0.8888888888888888, \"#fdca26\"], [1.0, \"#f0f921\"]], \"type\": \"histogram2dcontour\"}], \"mesh3d\": [{\"colorbar\": {\"outlinewidth\": 0, \"ticks\": \"\"}, \"type\": \"mesh3d\"}], \"parcoords\": [{\"line\": {\"colorbar\": {\"outlinewidth\": 0, \"ticks\": \"\"}}, \"type\": \"parcoords\"}], \"pie\": [{\"automargin\": true, \"type\": \"pie\"}], \"scatter\": [{\"marker\": {\"colorbar\": {\"outlinewidth\": 0, \"ticks\": \"\"}}, \"type\": \"scatter\"}], \"scatter3d\": [{\"line\": {\"colorbar\": {\"outlinewidth\": 0, \"ticks\": \"\"}}, \"marker\": {\"colorbar\": {\"outlinewidth\": 0, \"ticks\": \"\"}}, \"type\": \"scatter3d\"}], \"scattercarpet\": [{\"marker\": {\"colorbar\": {\"outlinewidth\": 0, \"ticks\": \"\"}}, \"type\": \"scattercarpet\"}], \"scattergeo\": [{\"marker\": {\"colorbar\": {\"outlinewidth\": 0, \"ticks\": \"\"}}, \"type\": \"scattergeo\"}], \"scattergl\": [{\"marker\": {\"colorbar\": {\"outlinewidth\": 0, \"ticks\": \"\"}}, \"type\": \"scattergl\"}], \"scattermapbox\": [{\"marker\": {\"colorbar\": {\"outlinewidth\": 0, \"ticks\": \"\"}}, \"type\": \"scattermapbox\"}], \"scatterpolar\": [{\"marker\": {\"colorbar\": {\"outlinewidth\": 0, \"ticks\": \"\"}}, \"type\": \"scatterpolar\"}], \"scatterpolargl\": [{\"marker\": {\"colorbar\": {\"outlinewidth\": 0, \"ticks\": \"\"}}, \"type\": \"scatterpolargl\"}], \"scatterternary\": [{\"marker\": {\"colorbar\": {\"outlinewidth\": 0, \"ticks\": \"\"}}, \"type\": \"scatterternary\"}], \"surface\": [{\"colorbar\": {\"outlinewidth\": 0, \"ticks\": \"\"}, \"colorscale\": [[0.0, \"#0d0887\"], [0.1111111111111111, \"#46039f\"], [0.2222222222222222, \"#7201a8\"], [0.3333333333333333, \"#9c179e\"], [0.4444444444444444, \"#bd3786\"], [0.5555555555555556, \"#d8576b\"], [0.6666666666666666, \"#ed7953\"], [0.7777777777777778, \"#fb9f3a\"], [0.8888888888888888, \"#fdca26\"], [1.0, \"#f0f921\"]], \"type\": \"surface\"}], \"table\": [{\"cells\": {\"fill\": {\"color\": \"#EBF0F8\"}, \"line\": {\"color\": \"white\"}}, \"header\": {\"fill\": {\"color\": \"#C8D4E3\"}, \"line\": {\"color\": \"white\"}}, \"type\": \"table\"}]}, \"layout\": {\"annotationdefaults\": {\"arrowcolor\": \"#2a3f5f\", \"arrowhead\": 0, \"arrowwidth\": 1}, \"coloraxis\": {\"colorbar\": {\"outlinewidth\": 0, \"ticks\": \"\"}}, \"colorscale\": {\"diverging\": [[0, \"#8e0152\"], [0.1, \"#c51b7d\"], [0.2, \"#de77ae\"], [0.3, \"#f1b6da\"], [0.4, \"#fde0ef\"], [0.5, \"#f7f7f7\"], [0.6, \"#e6f5d0\"], [0.7, \"#b8e186\"], [0.8, \"#7fbc41\"], [0.9, \"#4d9221\"], [1, \"#276419\"]], \"sequential\": [[0.0, \"#0d0887\"], [0.1111111111111111, \"#46039f\"], [0.2222222222222222, \"#7201a8\"], [0.3333333333333333, \"#9c179e\"], [0.4444444444444444, \"#bd3786\"], [0.5555555555555556, \"#d8576b\"], [0.6666666666666666, \"#ed7953\"], [0.7777777777777778, \"#fb9f3a\"], [0.8888888888888888, \"#fdca26\"], [1.0, \"#f0f921\"]], \"sequentialminus\": [[0.0, \"#0d0887\"], [0.1111111111111111, \"#46039f\"], [0.2222222222222222, \"#7201a8\"], [0.3333333333333333, \"#9c179e\"], [0.4444444444444444, \"#bd3786\"], [0.5555555555555556, \"#d8576b\"], [0.6666666666666666, \"#ed7953\"], [0.7777777777777778, \"#fb9f3a\"], [0.8888888888888888, \"#fdca26\"], [1.0, \"#f0f921\"]]}, \"colorway\": [\"#636efa\", \"#EF553B\", \"#00cc96\", \"#ab63fa\", \"#FFA15A\", \"#19d3f3\", \"#FF6692\", \"#B6E880\", \"#FF97FF\", \"#FECB52\"], \"font\": {\"color\": \"#2a3f5f\"}, \"geo\": {\"bgcolor\": \"white\", \"lakecolor\": \"white\", \"landcolor\": \"#E5ECF6\", \"showlakes\": true, \"showland\": true, \"subunitcolor\": \"white\"}, \"hoverlabel\": {\"align\": \"left\"}, \"hovermode\": \"closest\", \"mapbox\": {\"style\": \"light\"}, \"paper_bgcolor\": \"white\", \"plot_bgcolor\": \"#E5ECF6\", \"polar\": {\"angularaxis\": {\"gridcolor\": \"white\", \"linecolor\": \"white\", \"ticks\": \"\"}, \"bgcolor\": \"#E5ECF6\", \"radialaxis\": {\"gridcolor\": \"white\", \"linecolor\": \"white\", \"ticks\": \"\"}}, \"scene\": {\"xaxis\": {\"backgroundcolor\": \"#E5ECF6\", \"gridcolor\": \"white\", \"gridwidth\": 2, \"linecolor\": \"white\", \"showbackground\": true, \"ticks\": \"\", \"zerolinecolor\": \"white\"}, \"yaxis\": {\"backgroundcolor\": \"#E5ECF6\", \"gridcolor\": \"white\", \"gridwidth\": 2, \"linecolor\": \"white\", \"showbackground\": true, \"ticks\": \"\", \"zerolinecolor\": \"white\"}, \"zaxis\": {\"backgroundcolor\": \"#E5ECF6\", \"gridcolor\": \"white\", \"gridwidth\": 2, \"linecolor\": \"white\", \"showbackground\": true, \"ticks\": \"\", \"zerolinecolor\": \"white\"}}, \"shapedefaults\": {\"line\": {\"color\": \"#2a3f5f\"}}, \"ternary\": {\"aaxis\": {\"gridcolor\": \"white\", \"linecolor\": \"white\", \"ticks\": \"\"}, \"baxis\": {\"gridcolor\": \"white\", \"linecolor\": \"white\", \"ticks\": \"\"}, \"bgcolor\": \"#E5ECF6\", \"caxis\": {\"gridcolor\": \"white\", \"linecolor\": \"white\", \"ticks\": \"\"}}, \"title\": {\"x\": 0.05}, \"xaxis\": {\"automargin\": true, \"gridcolor\": \"white\", \"linecolor\": \"white\", \"ticks\": \"\", \"title\": {\"standoff\": 15}, \"zerolinecolor\": \"white\", \"zerolinewidth\": 2}, \"yaxis\": {\"automargin\": true, \"gridcolor\": \"white\", \"linecolor\": \"white\", \"ticks\": \"\", \"title\": {\"standoff\": 15}, \"zerolinecolor\": \"white\", \"zerolinewidth\": 2}}}, \"width\": 800, \"xaxis\": {\"anchor\": \"y\", \"domain\": [0.0, 0.45]}, \"xaxis2\": {\"anchor\": \"y2\", \"domain\": [0.55, 1.0]}, \"xaxis3\": {\"anchor\": \"y3\", \"domain\": [0.0, 0.45]}, \"xaxis4\": {\"anchor\": \"y4\", \"domain\": [0.55, 1.0]}, \"yaxis\": {\"anchor\": \"x\", \"domain\": [0.55, 1.0]}, \"yaxis2\": {\"anchor\": \"x2\", \"domain\": [0.55, 1.0]}, \"yaxis3\": {\"anchor\": \"x3\", \"domain\": [0.0, 0.45]}, \"yaxis4\": {\"anchor\": \"x4\", \"domain\": [0.0, 0.45]}},\n",
              "                        {\"responsive\": true}\n",
              "                    ).then(function(){\n",
              "                            \n",
              "var gd = document.getElementById('da56e02a-c998-4a41-9deb-f9fe710efcb0');\n",
              "var x = new MutationObserver(function (mutations, observer) {{\n",
              "        var display = window.getComputedStyle(gd).display;\n",
              "        if (!display || display === 'none') {{\n",
              "            console.log([gd, 'removed!']);\n",
              "            Plotly.purge(gd);\n",
              "            observer.disconnect();\n",
              "        }}\n",
              "}});\n",
              "\n",
              "// Listen for the removal of the full notebook cells\n",
              "var notebookContainer = gd.closest('#notebook-container');\n",
              "if (notebookContainer) {{\n",
              "    x.observe(notebookContainer, {childList: true});\n",
              "}}\n",
              "\n",
              "// Listen for the clearing of the current output cell\n",
              "var outputEl = gd.closest('.output');\n",
              "if (outputEl) {{\n",
              "    x.observe(outputEl, {childList: true});\n",
              "}}\n",
              "\n",
              "                        })\n",
              "                };\n",
              "                \n",
              "            </script>\n",
              "        </div>\n",
              "</body>\n",
              "</html>"
            ]
          },
          "metadata": {}
        }
      ]
    },
    {
      "cell_type": "markdown",
      "source": [
        "# 연도별 게임 트렌드"
      ],
      "metadata": {
        "id": "aKF5WR2d6Mgj"
      }
    },
    {
      "cell_type": "code",
      "source": [
        "def PreferenceByYear(area, target, start, end):\n",
        "  con = (df['Year'] >= start) & (df['Year'] <= end)\n",
        "  melt = pd.melt(df[con], id_vars=[target,'Year'], value_vars=area)\n",
        "  melt_sum = melt.groupby(['Year', target])['value'].agg(**{'value':'sum'}).sort_values(by=['Year','value'], ascending=False)\n",
        "  melt_sum.reset_index(inplace=True)\n",
        "  return melt_sum\n",
        "\n",
        "def showScatterByYear(data, target):\n",
        "  fig = px.scatter(data, x = 'Year', y = 'value',\n",
        "                color = target,\n",
        "                hover_data=[target],\n",
        "                height=800, width=1200).for_each_trace(lambda t: t.update(name=t.name.split(\"=\")[1]))\n",
        "  fig.update_layout(yaxis_title=\"출고량\")\n",
        "  for d in fig.data:\n",
        "    d.update(mode='markers+lines')\n",
        "  fig.show()\n",
        "\n",
        "allArea = ['NA_Sales','EU_Sales','JP_Sales','Other_Sales']\n",
        "data = PreferenceByYear('Total_Sales', 'Genre', 1980, 2020)\n",
        "showScatterByYear(data, 'Genre')"
      ],
      "metadata": {
        "colab": {
          "base_uri": "https://localhost:8080/",
          "height": 817
        },
        "id": "3tW4P2GyIyLS",
        "outputId": "23479c0f-6d70-4db4-8627-18f0f3eafb53"
      },
      "execution_count": 188,
      "outputs": [
        {
          "output_type": "display_data",
          "data": {
            "text/html": [
              "<html>\n",
              "<head><meta charset=\"utf-8\" /></head>\n",
              "<body>\n",
              "    <div>\n",
              "            <script src=\"https://cdnjs.cloudflare.com/ajax/libs/mathjax/2.7.5/MathJax.js?config=TeX-AMS-MML_SVG\"></script><script type=\"text/javascript\">if (window.MathJax) {MathJax.Hub.Config({SVG: {font: \"STIX-Web\"}});}</script>\n",
              "                <script type=\"text/javascript\">window.PlotlyConfig = {MathJaxConfig: 'local'};</script>\n",
              "        <script src=\"https://cdn.plot.ly/plotly-latest.min.js\"></script>    \n",
              "            <div id=\"4ccac4dd-15d6-4532-a4f3-a2c4a278c86e\" class=\"plotly-graph-div\" style=\"height:800px; width:1200px;\"></div>\n",
              "            <script type=\"text/javascript\">\n",
              "                \n",
              "                    window.PLOTLYENV=window.PLOTLYENV || {};\n",
              "                    \n",
              "                if (document.getElementById(\"4ccac4dd-15d6-4532-a4f3-a2c4a278c86e\")) {\n",
              "                    Plotly.newPlot(\n",
              "                        '4ccac4dd-15d6-4532-a4f3-a2c4a278c86e',\n",
              "                        [{\"customdata\": [[\"Simulation\"], [\"Simulation\"], [\"Simulation\"], [\"Simulation\"], [\"Simulation\"], [\"Simulation\"], [\"Simulation\"], [\"Simulation\"], [\"Simulation\"], [\"Simulation\"], [\"Simulation\"], [\"Simulation\"], [\"Simulation\"], [\"Simulation\"], [\"Simulation\"], [\"Simulation\"], [\"Simulation\"], [\"Simulation\"], [\"Simulation\"], [\"Simulation\"], [\"Simulation\"], [\"Simulation\"], [\"Simulation\"], [\"Simulation\"], [\"Simulation\"], [\"Simulation\"], [\"Simulation\"], [\"Simulation\"], [\"Simulation\"], [\"Simulation\"], [\"Simulation\"]], \"hoverlabel\": {\"namelength\": 0}, \"hovertemplate\": \"Genre=%{customdata[0]}<br>Year=%{x}<br>value=%{y}\", \"legendgroup\": \"Genre=Simulation\", \"marker\": {\"color\": \"#636efa\", \"symbol\": \"circle\"}, \"mode\": \"markers+lines\", \"name\": \"Simulation\", \"showlegend\": true, \"type\": \"scatter\", \"x\": [2020, 2016, 2015, 2014, 2013, 2012, 2011, 2010, 2009, 2008, 2007, 2006, 2005, 2004, 2003, 2002, 2001, 2000, 1999, 1998, 1997, 1996, 1995, 1994, 1993, 1992, 1991, 1990, 1988, 1985, 1981], \"xaxis\": \"x\", \"y\": [0.29000000000000004, 0.39000000000000007, 5.61, 5.540000000000001, 8.680000000000001, 13.370000000000003, 15.309999999999997, 21.9, 33.550000000000004, 46.400000000000006, 48.849999999999994, 23.70000000000001, 49.28000000000001, 10.89, 21.21, 10.82, 19.540000000000003, 3.37, 11.46, 7.109999999999999, 9.64, 11.330000000000002, 4.17, 2.7200000000000006, 0.19, 2.14, 2.1500000000000004, 1.13, 0.03, 0.04, 0.44], \"yaxis\": \"y\"}, {\"customdata\": [[\"Role-Playing\"], [\"Role-Playing\"], [\"Role-Playing\"], [\"Role-Playing\"], [\"Role-Playing\"], [\"Role-Playing\"], [\"Role-Playing\"], [\"Role-Playing\"], [\"Role-Playing\"], [\"Role-Playing\"], [\"Role-Playing\"], [\"Role-Playing\"], [\"Role-Playing\"], [\"Role-Playing\"], [\"Role-Playing\"], [\"Role-Playing\"], [\"Role-Playing\"], [\"Role-Playing\"], [\"Role-Playing\"], [\"Role-Playing\"], [\"Role-Playing\"], [\"Role-Playing\"], [\"Role-Playing\"], [\"Role-Playing\"], [\"Role-Playing\"], [\"Role-Playing\"], [\"Role-Playing\"], [\"Role-Playing\"], [\"Role-Playing\"], [\"Role-Playing\"], [\"Role-Playing\"], [\"Role-Playing\"]], \"hoverlabel\": {\"namelength\": 0}, \"hovertemplate\": \"Genre=%{customdata[0]}<br>Year=%{x}<br>value=%{y}\", \"legendgroup\": \"Genre=Role-Playing\", \"marker\": {\"color\": \"#EF553B\", \"symbol\": \"circle\"}, \"mode\": \"markers+lines\", \"name\": \"Role-Playing\", \"showlegend\": true, \"type\": \"scatter\", \"x\": [2017, 2016, 2015, 2014, 2013, 2012, 2011, 2010, 2009, 2008, 2007, 2006, 2005, 2004, 2003, 2002, 2001, 2000, 1999, 1998, 1997, 1996, 1995, 1994, 1993, 1992, 1991, 1990, 1989, 1988, 1987, 1986], \"xaxis\": \"x\", \"y\": [0.04, 6.7499999999999964, 36.42999999999999, 45.879999999999995, 30.54, 47.77, 53.32000000000003, 70.55999999999999, 47.960000000000015, 59.69000000000001, 43.85999999999999, 55.250000000000014, 28.509999999999998, 53.95, 30.29, 45.08999999999999, 22.019999999999996, 29.039999999999996, 47.239999999999995, 28.090000000000003, 21.82, 43.99, 14.27, 7.130000000000001, 5.59, 6.859999999999999, 3.2600000000000007, 4.52, 2.2, 5.88, 4.65, 2.52], \"yaxis\": \"y\"}, {\"customdata\": [[\"Action\"], [\"Action\"], [\"Action\"], [\"Action\"], [\"Action\"], [\"Action\"], [\"Action\"], [\"Action\"], [\"Action\"], [\"Action\"], [\"Action\"], [\"Action\"], [\"Action\"], [\"Action\"], [\"Action\"], [\"Action\"], [\"Action\"], [\"Action\"], [\"Action\"], [\"Action\"], [\"Action\"], [\"Action\"], [\"Action\"], [\"Action\"], [\"Action\"], [\"Action\"], [\"Action\"], [\"Action\"], [\"Action\"], [\"Action\"], [\"Action\"], [\"Action\"], [\"Action\"], [\"Action\"], [\"Action\"], [\"Action\"], [\"Action\"], [\"Action\"]], \"hoverlabel\": {\"namelength\": 0}, \"hovertemplate\": \"Genre=%{customdata[0]}<br>Year=%{x}<br>value=%{y}\", \"legendgroup\": \"Genre=Action\", \"marker\": {\"color\": \"#00cc96\", \"symbol\": \"circle\"}, \"mode\": \"markers+lines\", \"name\": \"Action\", \"showlegend\": true, \"type\": \"scatter\", \"x\": [2017, 2016, 2015, 2014, 2013, 2012, 2011, 2010, 2009, 2008, 2007, 2006, 2005, 2004, 2003, 2002, 2001, 2000, 1999, 1998, 1997, 1996, 1995, 1994, 1993, 1992, 1991, 1990, 1989, 1988, 1987, 1986, 1985, 1984, 1983, 1982, 1981, 1980], \"xaxis\": \"x\", \"y\": [0.01, 19.839999999999993, 68.25000000000001, 99.01000000000002, 125.21000000000008, 120.78000000000002, 118.99999999999999, 117.50000000000004, 138.32000000000005, 135.45999999999998, 105.99000000000004, 93.97000000000004, 85.52, 76.14999999999998, 67.97999999999998, 86.64999999999999, 56.679999999999986, 33.89, 27.620000000000005, 39.41000000000001, 27.590000000000003, 20.599999999999998, 3.580000000000001, 1.55, 1.81, 3.84, 6.76, 6.390000000000001, 4.65, 1.74, 1.11, 13.74, 3.52, 1.8499999999999999, 2.86, 6.500000000000001, 14.790000000000001, 0.34], \"yaxis\": \"y\"}, {\"customdata\": [[\"Shooter\"], [\"Shooter\"], [\"Shooter\"], [\"Shooter\"], [\"Shooter\"], [\"Shooter\"], [\"Shooter\"], [\"Shooter\"], [\"Shooter\"], [\"Shooter\"], [\"Shooter\"], [\"Shooter\"], [\"Shooter\"], [\"Shooter\"], [\"Shooter\"], [\"Shooter\"], [\"Shooter\"], [\"Shooter\"], [\"Shooter\"], [\"Shooter\"], [\"Shooter\"], [\"Shooter\"], [\"Shooter\"], [\"Shooter\"], [\"Shooter\"], [\"Shooter\"], [\"Shooter\"], [\"Shooter\"], [\"Shooter\"], [\"Shooter\"], [\"Shooter\"], [\"Shooter\"], [\"Shooter\"], [\"Shooter\"], [\"Shooter\"], [\"Shooter\"]], \"hoverlabel\": {\"namelength\": 0}, \"hovertemplate\": \"Genre=%{customdata[0]}<br>Year=%{x}<br>value=%{y}\", \"legendgroup\": \"Genre=Shooter\", \"marker\": {\"color\": \"#ab63fa\", \"symbol\": \"circle\"}, \"mode\": \"markers+lines\", \"name\": \"Shooter\", \"showlegend\": true, \"type\": \"scatter\", \"x\": [2016, 2015, 2014, 2013, 2012, 2011, 2010, 2009, 2008, 2007, 2006, 2005, 2004, 2003, 2002, 2001, 2000, 1999, 1998, 1997, 1996, 1995, 1994, 1993, 1992, 1991, 1989, 1988, 1987, 1986, 1985, 1984, 1983, 1982, 1981, 1980], \"xaxis\": \"x\", \"y\": [18.169999999999995, 66.11999999999999, 65.99000000000002, 62.72999999999999, 72.84, 99.34999999999997, 77.44000000000001, 69.84, 59.51, 70.88000000000002, 49.46, 41.569999999999986, 46.919999999999995, 27.100000000000012, 47.639999999999986, 24.810000000000002, 6.83, 12.229999999999999, 9.799999999999999, 22.16, 6.900000000000002, 4.15, 8.3, 3.0799999999999996, 0.28, 1.9899999999999998, 1.19, 0.51, 0.69, 3.8899999999999997, 1.0, 31.099999999999998, 0.49, 3.8100000000000005, 10.02, 7.069999999999999], \"yaxis\": \"y\"}, {\"customdata\": [[\"Sports\"], [\"Sports\"], [\"Sports\"], [\"Sports\"], [\"Sports\"], [\"Sports\"], [\"Sports\"], [\"Sports\"], [\"Sports\"], [\"Sports\"], [\"Sports\"], [\"Sports\"], [\"Sports\"], [\"Sports\"], [\"Sports\"], [\"Sports\"], [\"Sports\"], [\"Sports\"], [\"Sports\"], [\"Sports\"], [\"Sports\"], [\"Sports\"], [\"Sports\"], [\"Sports\"], [\"Sports\"], [\"Sports\"], [\"Sports\"], [\"Sports\"], [\"Sports\"], [\"Sports\"], [\"Sports\"], [\"Sports\"], [\"Sports\"], [\"Sports\"], [\"Sports\"], [\"Sports\"]], \"hoverlabel\": {\"namelength\": 0}, \"hovertemplate\": \"Genre=%{customdata[0]}<br>Year=%{x}<br>value=%{y}\", \"legendgroup\": \"Genre=Sports\", \"marker\": {\"color\": \"#FFA15A\", \"symbol\": \"circle\"}, \"mode\": \"markers+lines\", \"name\": \"Sports\", \"showlegend\": true, \"type\": \"scatter\", \"x\": [2016, 2015, 2014, 2013, 2012, 2011, 2010, 2009, 2008, 2007, 2006, 2005, 2004, 2003, 2002, 2001, 2000, 1999, 1998, 1997, 1996, 1995, 1994, 1993, 1992, 1991, 1990, 1989, 1988, 1987, 1986, 1985, 1984, 1983, 1982, 1981], \"xaxis\": \"x\", \"y\": [14.629999999999997, 41.49, 46.640000000000015, 41.539999999999985, 30.899999999999995, 57.059999999999995, 92.02000000000008, 138.59000000000006, 95.24000000000001, 98.24000000000001, 156.23999999999998, 59.52999999999999, 61.110000000000014, 55.96000000000003, 65.31000000000002, 51.469999999999985, 41.240000000000016, 30.209999999999994, 41.75000000000001, 30.040000000000003, 17.42, 7.99, 8.409999999999998, 3.18, 2.9499999999999997, 2.41, 2.1100000000000003, 5.720000000000001, 3.6, 3.71, 5.579999999999999, 1.96, 6.17, 3.2, 1.06, 0.78], \"yaxis\": \"y\"}, {\"customdata\": [[\"Fighting\"], [\"Fighting\"], [\"Fighting\"], [\"Fighting\"], [\"Fighting\"], [\"Fighting\"], [\"Fighting\"], [\"Fighting\"], [\"Fighting\"], [\"Fighting\"], [\"Fighting\"], [\"Fighting\"], [\"Fighting\"], [\"Fighting\"], [\"Fighting\"], [\"Fighting\"], [\"Fighting\"], [\"Fighting\"], [\"Fighting\"], [\"Fighting\"], [\"Fighting\"], [\"Fighting\"], [\"Fighting\"], [\"Fighting\"], [\"Fighting\"], [\"Fighting\"], [\"Fighting\"], [\"Fighting\"], [\"Fighting\"]], \"hoverlabel\": {\"namelength\": 0}, \"hovertemplate\": \"Genre=%{customdata[0]}<br>Year=%{x}<br>value=%{y}\", \"legendgroup\": \"Genre=Fighting\", \"marker\": {\"color\": \"#19d3f3\", \"symbol\": \"circle\"}, \"mode\": \"markers+lines\", \"name\": \"Fighting\", \"showlegend\": true, \"type\": \"scatter\", \"x\": [2016, 2015, 2014, 2013, 2012, 2011, 2010, 2009, 2008, 2007, 2006, 2005, 2004, 2003, 2002, 2001, 2000, 1999, 1998, 1997, 1996, 1995, 1994, 1993, 1992, 1991, 1987, 1985, 1980], \"xaxis\": \"x\", \"y\": [3.8499999999999996, 7.78, 16.15, 7.23, 9.530000000000001, 22.11, 14.880000000000003, 32.17999999999999, 35.410000000000004, 17.63, 24.180000000000007, 19.68, 16.759999999999998, 23.790000000000003, 24.919999999999998, 18.099999999999998, 20.259999999999998, 14.309999999999999, 31.680000000000003, 11.8, 18.040000000000003, 14.840000000000002, 8.469999999999999, 8.750000000000002, 15.230000000000002, 0.39, 5.42, 1.05, 0.77], \"yaxis\": \"y\"}, {\"customdata\": [[\"Platform\"], [\"Platform\"], [\"Platform\"], [\"Platform\"], [\"Platform\"], [\"Platform\"], [\"Platform\"], [\"Platform\"], [\"Platform\"], [\"Platform\"], [\"Platform\"], [\"Platform\"], [\"Platform\"], [\"Platform\"], [\"Platform\"], [\"Platform\"], [\"Platform\"], [\"Platform\"], [\"Platform\"], [\"Platform\"], [\"Platform\"], [\"Platform\"], [\"Platform\"], [\"Platform\"], [\"Platform\"], [\"Platform\"], [\"Platform\"], [\"Platform\"], [\"Platform\"], [\"Platform\"], [\"Platform\"], [\"Platform\"], [\"Platform\"], [\"Platform\"], [\"Platform\"], [\"Platform\"]], \"hoverlabel\": {\"namelength\": 0}, \"hovertemplate\": \"Genre=%{customdata[0]}<br>Year=%{x}<br>value=%{y}\", \"legendgroup\": \"Genre=Platform\", \"marker\": {\"color\": \"#FF6692\", \"symbol\": \"circle\"}, \"mode\": \"markers+lines\", \"name\": \"Platform\", \"showlegend\": true, \"type\": \"scatter\", \"x\": [2016, 2015, 2014, 2013, 2012, 2011, 2010, 2009, 2008, 2007, 2006, 2005, 2004, 2003, 2002, 2001, 2000, 1999, 1998, 1997, 1996, 1995, 1994, 1993, 1992, 1991, 1990, 1989, 1988, 1987, 1986, 1985, 1984, 1983, 1982, 1981], \"xaxis\": \"x\", \"y\": [2.08, 6.050000000000002, 8.87, 25.09, 18.540000000000003, 28.119999999999994, 31.979999999999997, 40.949999999999996, 35.64999999999999, 35.53, 51.440000000000005, 22.810000000000002, 47.34000000000001, 42.819999999999986, 45.94999999999999, 39.32999999999999, 16.05, 20.800000000000004, 29.829999999999995, 21.86, 28.23, 16.689999999999998, 28.759999999999998, 18.679999999999996, 13.41, 7.630000000000001, 22.98, 20.660000000000004, 27.73, 1.74, 9.39, 43.17, 0.69, 6.93, 5.03, 6.92], \"yaxis\": \"y\"}, {\"customdata\": [[\"Adventure\"], [\"Adventure\"], [\"Adventure\"], [\"Adventure\"], [\"Adventure\"], [\"Adventure\"], [\"Adventure\"], [\"Adventure\"], [\"Adventure\"], [\"Adventure\"], [\"Adventure\"], [\"Adventure\"], [\"Adventure\"], [\"Adventure\"], [\"Adventure\"], [\"Adventure\"], [\"Adventure\"], [\"Adventure\"], [\"Adventure\"], [\"Adventure\"], [\"Adventure\"], [\"Adventure\"], [\"Adventure\"], [\"Adventure\"], [\"Adventure\"], [\"Adventure\"], [\"Adventure\"], [\"Adventure\"]], \"hoverlabel\": {\"namelength\": 0}, \"hovertemplate\": \"Genre=%{customdata[0]}<br>Year=%{x}<br>value=%{y}\", \"legendgroup\": \"Genre=Adventure\", \"marker\": {\"color\": \"#B6E880\", \"symbol\": \"circle\"}, \"mode\": \"markers+lines\", \"name\": \"Adventure\", \"showlegend\": true, \"type\": \"scatter\", \"x\": [2016, 2015, 2014, 2013, 2012, 2011, 2010, 2009, 2008, 2007, 2006, 2005, 2004, 2003, 2002, 2001, 2000, 1999, 1998, 1997, 1996, 1995, 1994, 1993, 1992, 1991, 1987, 1983], \"xaxis\": \"x\", \"y\": [1.7900000000000005, 8.009999999999998, 6.089999999999995, 6.609999999999996, 5.8999999999999995, 15.879999999999983, 16.56999999999998, 20.669999999999987, 24.90999999999999, 24.43999999999999, 15.66999999999999, 8.529999999999998, 8.450000000000001, 2.12, 11.069999999999999, 8.959999999999999, 2.96, 7.610000000000001, 9.040000000000001, 4.97, 4.180000000000001, 0.7100000000000002, 3.74, 0.07, 12.239999999999998, 2.24, 4.38, 0.4], \"yaxis\": \"y\"}, {\"customdata\": [[\"Racing\"], [\"Racing\"], [\"Racing\"], [\"Racing\"], [\"Racing\"], [\"Racing\"], [\"Racing\"], [\"Racing\"], [\"Racing\"], [\"Racing\"], [\"Racing\"], [\"Racing\"], [\"Racing\"], [\"Racing\"], [\"Racing\"], [\"Racing\"], [\"Racing\"], [\"Racing\"], [\"Racing\"], [\"Racing\"], [\"Racing\"], [\"Racing\"], [\"Racing\"], [\"Racing\"], [\"Racing\"], [\"Racing\"], [\"Racing\"], [\"Racing\"], [\"Racing\"], [\"Racing\"], [\"Racing\"], [\"Racing\"]], \"hoverlabel\": {\"namelength\": 0}, \"hovertemplate\": \"Genre=%{customdata[0]}<br>Year=%{x}<br>value=%{y}\", \"legendgroup\": \"Genre=Racing\", \"marker\": {\"color\": \"#FF97FF\", \"symbol\": \"circle\"}, \"mode\": \"markers+lines\", \"name\": \"Racing\", \"showlegend\": true, \"type\": \"scatter\", \"x\": [2016, 2015, 2014, 2013, 2012, 2011, 2010, 2009, 2008, 2007, 2006, 2005, 2004, 2003, 2002, 2001, 2000, 1999, 1998, 1997, 1996, 1995, 1994, 1993, 1992, 1991, 1990, 1988, 1986, 1984, 1982, 1981], \"xaxis\": \"x\", \"y\": [1.6700000000000004, 7.92, 16.71, 13.02, 14.43, 34.96, 34.929999999999986, 34.089999999999996, 70.73000000000008, 38.949999999999996, 39.28999999999999, 56.40000000000001, 45.61000000000001, 52.18000000000001, 30.15000000000001, 55.829999999999984, 20.0, 37.19, 26.779999999999998, 31.919999999999998, 27.849999999999998, 6.09, 2.18, 0.36, 9.049999999999999, 1.14, 6.25, 2.14, 1.96, 5.949999999999999, 1.5700000000000003, 0.48], \"yaxis\": \"y\"}, {\"customdata\": [[\"Misc\"], [\"Misc\"], [\"Misc\"], [\"Misc\"], [\"Misc\"], [\"Misc\"], [\"Misc\"], [\"Misc\"], [\"Misc\"], [\"Misc\"], [\"Misc\"], [\"Misc\"], [\"Misc\"], [\"Misc\"], [\"Misc\"], [\"Misc\"], [\"Misc\"], [\"Misc\"], [\"Misc\"], [\"Misc\"], [\"Misc\"], [\"Misc\"], [\"Misc\"], [\"Misc\"], [\"Misc\"], [\"Misc\"], [\"Misc\"], [\"Misc\"], [\"Misc\"], [\"Misc\"], [\"Misc\"]], \"hoverlabel\": {\"namelength\": 0}, \"hovertemplate\": \"Genre=%{customdata[0]}<br>Year=%{x}<br>value=%{y}\", \"legendgroup\": \"Genre=Misc\", \"marker\": {\"color\": \"#FECB52\", \"symbol\": \"circle\"}, \"mode\": \"markers+lines\", \"name\": \"Misc\", \"showlegend\": true, \"type\": \"scatter\", \"x\": [2016, 2015, 2014, 2013, 2012, 2011, 2010, 2009, 2008, 2007, 2006, 2005, 2004, 2003, 2002, 2001, 2000, 1999, 1998, 1997, 1996, 1995, 1994, 1993, 1992, 1991, 1989, 1984, 1983, 1982, 1980], \"xaxis\": \"x\", \"y\": [1.1500000000000004, 11.659999999999995, 23.73, 25.659999999999997, 22.930000000000003, 55.77, 88.40000000000009, 76.89999999999999, 86.18000000000004, 91.07000000000002, 79.48999999999995, 59.690000000000005, 26.10000000000001, 23.789999999999996, 15.629999999999997, 16.39, 15.550000000000002, 20.679999999999996, 11.840000000000003, 5.68, 10.660000000000002, 6.390000000000002, 2.86, 0.3, 4.9399999999999995, 0.08, 1.28, 1.45, 2.1399999999999997, 0.8700000000000001, 2.7], \"yaxis\": \"y\"}, {\"customdata\": [[\"Strategy\"], [\"Strategy\"], [\"Strategy\"], [\"Strategy\"], [\"Strategy\"], [\"Strategy\"], [\"Strategy\"], [\"Strategy\"], [\"Strategy\"], [\"Strategy\"], [\"Strategy\"], [\"Strategy\"], [\"Strategy\"], [\"Strategy\"], [\"Strategy\"], [\"Strategy\"], [\"Strategy\"], [\"Strategy\"], [\"Strategy\"], [\"Strategy\"], [\"Strategy\"], [\"Strategy\"], [\"Strategy\"], [\"Strategy\"], [\"Strategy\"], [\"Strategy\"]], \"hoverlabel\": {\"namelength\": 0}, \"hovertemplate\": \"Genre=%{customdata[0]}<br>Year=%{x}<br>value=%{y}\", \"legendgroup\": \"Genre=Strategy\", \"marker\": {\"color\": \"#636efa\", \"symbol\": \"circle\"}, \"mode\": \"markers+lines\", \"name\": \"Strategy\", \"showlegend\": true, \"type\": \"scatter\", \"x\": [2016, 2015, 2014, 2013, 2012, 2011, 2010, 2009, 2008, 2007, 2006, 2005, 2004, 2003, 2002, 2001, 2000, 1999, 1998, 1997, 1996, 1995, 1994, 1993, 1992, 1991], \"xaxis\": \"x\", \"y\": [0.52, 1.82, 0.9700000000000001, 6.32, 3.3299999999999996, 8.869999999999997, 13.819999999999995, 12.509999999999996, 11.699999999999994, 9.379999999999997, 5.799999999999998, 5.339999999999999, 7.140000000000001, 7.949999999999999, 5.51, 7.539999999999999, 8.52, 18.47, 13.489999999999998, 7.7200000000000015, 5.61, 6.540000000000001, 3.5700000000000003, 0.81, 0.36, 0.94], \"yaxis\": \"y\"}, {\"customdata\": [[\"Puzzle\"], [\"Puzzle\"], [\"Puzzle\"], [\"Puzzle\"], [\"Puzzle\"], [\"Puzzle\"], [\"Puzzle\"], [\"Puzzle\"], [\"Puzzle\"], [\"Puzzle\"], [\"Puzzle\"], [\"Puzzle\"], [\"Puzzle\"], [\"Puzzle\"], [\"Puzzle\"], [\"Puzzle\"], [\"Puzzle\"], [\"Puzzle\"], [\"Puzzle\"], [\"Puzzle\"], [\"Puzzle\"], [\"Puzzle\"], [\"Puzzle\"], [\"Puzzle\"], [\"Puzzle\"], [\"Puzzle\"], [\"Puzzle\"], [\"Puzzle\"], [\"Puzzle\"], [\"Puzzle\"], [\"Puzzle\"], [\"Puzzle\"], [\"Puzzle\"]], \"hoverlabel\": {\"namelength\": 0}, \"hovertemplate\": \"Genre=%{customdata[0]}<br>Year=%{x}<br>value=%{y}\", \"legendgroup\": \"Genre=Puzzle\", \"marker\": {\"color\": \"#EF553B\", \"symbol\": \"circle\"}, \"mode\": \"markers+lines\", \"name\": \"Puzzle\", \"showlegend\": true, \"type\": \"scatter\", \"x\": [2015, 2014, 2013, 2012, 2011, 2010, 2009, 2008, 2007, 2006, 2005, 2004, 2003, 2002, 2001, 2000, 1999, 1998, 1997, 1996, 1995, 1994, 1993, 1992, 1991, 1990, 1989, 1988, 1985, 1984, 1983, 1982, 1981], \"xaxis\": \"x\", \"y\": [0.6900000000000001, 1.5000000000000002, 1.0, 1.7400000000000002, 5.1, 11.149999999999995, 20.28, 15.529999999999996, 23.77999999999999, 13.52, 20.26, 8.41, 1.71, 5.33, 7.9399999999999995, 3.83, 1.3400000000000003, 6.35, 5.870000000000001, 3.92, 2.69, 1.53, 3.17, 4.84, 3.2399999999999998, 5.99, 37.75, 5.580000000000001, 3.21, 3.14, 0.78, 10.040000000000001, 2.25], \"yaxis\": \"y\"}],\n",
              "                        {\"height\": 800, \"legend\": {\"tracegroupgap\": 0}, \"margin\": {\"t\": 60}, \"template\": {\"data\": {\"bar\": [{\"error_x\": {\"color\": \"#2a3f5f\"}, \"error_y\": {\"color\": \"#2a3f5f\"}, \"marker\": {\"line\": {\"color\": \"#E5ECF6\", \"width\": 0.5}}, \"type\": \"bar\"}], \"barpolar\": [{\"marker\": {\"line\": {\"color\": \"#E5ECF6\", \"width\": 0.5}}, \"type\": \"barpolar\"}], \"carpet\": [{\"aaxis\": {\"endlinecolor\": \"#2a3f5f\", \"gridcolor\": \"white\", \"linecolor\": \"white\", \"minorgridcolor\": \"white\", \"startlinecolor\": \"#2a3f5f\"}, \"baxis\": {\"endlinecolor\": \"#2a3f5f\", \"gridcolor\": \"white\", \"linecolor\": \"white\", \"minorgridcolor\": \"white\", \"startlinecolor\": \"#2a3f5f\"}, \"type\": \"carpet\"}], \"choropleth\": [{\"colorbar\": {\"outlinewidth\": 0, \"ticks\": \"\"}, \"type\": \"choropleth\"}], \"contour\": [{\"colorbar\": {\"outlinewidth\": 0, \"ticks\": \"\"}, \"colorscale\": [[0.0, \"#0d0887\"], [0.1111111111111111, \"#46039f\"], [0.2222222222222222, \"#7201a8\"], [0.3333333333333333, \"#9c179e\"], [0.4444444444444444, \"#bd3786\"], [0.5555555555555556, \"#d8576b\"], [0.6666666666666666, \"#ed7953\"], [0.7777777777777778, \"#fb9f3a\"], [0.8888888888888888, \"#fdca26\"], [1.0, \"#f0f921\"]], \"type\": \"contour\"}], \"contourcarpet\": [{\"colorbar\": {\"outlinewidth\": 0, \"ticks\": \"\"}, \"type\": \"contourcarpet\"}], \"heatmap\": [{\"colorbar\": {\"outlinewidth\": 0, \"ticks\": \"\"}, \"colorscale\": [[0.0, \"#0d0887\"], [0.1111111111111111, \"#46039f\"], [0.2222222222222222, \"#7201a8\"], [0.3333333333333333, \"#9c179e\"], [0.4444444444444444, \"#bd3786\"], [0.5555555555555556, \"#d8576b\"], [0.6666666666666666, \"#ed7953\"], [0.7777777777777778, \"#fb9f3a\"], [0.8888888888888888, \"#fdca26\"], [1.0, \"#f0f921\"]], \"type\": \"heatmap\"}], \"heatmapgl\": [{\"colorbar\": {\"outlinewidth\": 0, \"ticks\": \"\"}, \"colorscale\": [[0.0, \"#0d0887\"], [0.1111111111111111, \"#46039f\"], [0.2222222222222222, \"#7201a8\"], [0.3333333333333333, \"#9c179e\"], [0.4444444444444444, \"#bd3786\"], [0.5555555555555556, \"#d8576b\"], [0.6666666666666666, \"#ed7953\"], [0.7777777777777778, \"#fb9f3a\"], [0.8888888888888888, \"#fdca26\"], [1.0, \"#f0f921\"]], \"type\": \"heatmapgl\"}], \"histogram\": [{\"marker\": {\"colorbar\": {\"outlinewidth\": 0, \"ticks\": \"\"}}, \"type\": \"histogram\"}], \"histogram2d\": [{\"colorbar\": {\"outlinewidth\": 0, \"ticks\": \"\"}, \"colorscale\": [[0.0, \"#0d0887\"], [0.1111111111111111, \"#46039f\"], [0.2222222222222222, \"#7201a8\"], [0.3333333333333333, \"#9c179e\"], [0.4444444444444444, \"#bd3786\"], [0.5555555555555556, \"#d8576b\"], [0.6666666666666666, \"#ed7953\"], [0.7777777777777778, \"#fb9f3a\"], [0.8888888888888888, \"#fdca26\"], [1.0, \"#f0f921\"]], \"type\": \"histogram2d\"}], \"histogram2dcontour\": [{\"colorbar\": {\"outlinewidth\": 0, \"ticks\": \"\"}, \"colorscale\": [[0.0, \"#0d0887\"], [0.1111111111111111, \"#46039f\"], [0.2222222222222222, \"#7201a8\"], [0.3333333333333333, \"#9c179e\"], [0.4444444444444444, \"#bd3786\"], [0.5555555555555556, \"#d8576b\"], [0.6666666666666666, \"#ed7953\"], [0.7777777777777778, \"#fb9f3a\"], [0.8888888888888888, \"#fdca26\"], [1.0, \"#f0f921\"]], \"type\": \"histogram2dcontour\"}], \"mesh3d\": [{\"colorbar\": {\"outlinewidth\": 0, \"ticks\": \"\"}, \"type\": \"mesh3d\"}], \"parcoords\": [{\"line\": {\"colorbar\": {\"outlinewidth\": 0, \"ticks\": \"\"}}, \"type\": \"parcoords\"}], \"pie\": [{\"automargin\": true, \"type\": \"pie\"}], \"scatter\": [{\"marker\": {\"colorbar\": {\"outlinewidth\": 0, \"ticks\": \"\"}}, \"type\": \"scatter\"}], \"scatter3d\": [{\"line\": {\"colorbar\": {\"outlinewidth\": 0, \"ticks\": \"\"}}, \"marker\": {\"colorbar\": {\"outlinewidth\": 0, \"ticks\": \"\"}}, \"type\": \"scatter3d\"}], \"scattercarpet\": [{\"marker\": {\"colorbar\": {\"outlinewidth\": 0, \"ticks\": \"\"}}, \"type\": \"scattercarpet\"}], \"scattergeo\": [{\"marker\": {\"colorbar\": {\"outlinewidth\": 0, \"ticks\": \"\"}}, \"type\": \"scattergeo\"}], \"scattergl\": [{\"marker\": {\"colorbar\": {\"outlinewidth\": 0, \"ticks\": \"\"}}, \"type\": \"scattergl\"}], \"scattermapbox\": [{\"marker\": {\"colorbar\": {\"outlinewidth\": 0, \"ticks\": \"\"}}, \"type\": \"scattermapbox\"}], \"scatterpolar\": [{\"marker\": {\"colorbar\": {\"outlinewidth\": 0, \"ticks\": \"\"}}, \"type\": \"scatterpolar\"}], \"scatterpolargl\": [{\"marker\": {\"colorbar\": {\"outlinewidth\": 0, \"ticks\": \"\"}}, \"type\": \"scatterpolargl\"}], \"scatterternary\": [{\"marker\": {\"colorbar\": {\"outlinewidth\": 0, \"ticks\": \"\"}}, \"type\": \"scatterternary\"}], \"surface\": [{\"colorbar\": {\"outlinewidth\": 0, \"ticks\": \"\"}, \"colorscale\": [[0.0, \"#0d0887\"], [0.1111111111111111, \"#46039f\"], [0.2222222222222222, \"#7201a8\"], [0.3333333333333333, \"#9c179e\"], [0.4444444444444444, \"#bd3786\"], [0.5555555555555556, \"#d8576b\"], [0.6666666666666666, \"#ed7953\"], [0.7777777777777778, \"#fb9f3a\"], [0.8888888888888888, \"#fdca26\"], [1.0, \"#f0f921\"]], \"type\": \"surface\"}], \"table\": [{\"cells\": {\"fill\": {\"color\": \"#EBF0F8\"}, \"line\": {\"color\": \"white\"}}, \"header\": {\"fill\": {\"color\": \"#C8D4E3\"}, \"line\": {\"color\": \"white\"}}, \"type\": \"table\"}]}, \"layout\": {\"annotationdefaults\": {\"arrowcolor\": \"#2a3f5f\", \"arrowhead\": 0, \"arrowwidth\": 1}, \"coloraxis\": {\"colorbar\": {\"outlinewidth\": 0, \"ticks\": \"\"}}, \"colorscale\": {\"diverging\": [[0, \"#8e0152\"], [0.1, \"#c51b7d\"], [0.2, \"#de77ae\"], [0.3, \"#f1b6da\"], [0.4, \"#fde0ef\"], [0.5, \"#f7f7f7\"], [0.6, \"#e6f5d0\"], [0.7, \"#b8e186\"], [0.8, \"#7fbc41\"], [0.9, \"#4d9221\"], [1, \"#276419\"]], \"sequential\": [[0.0, \"#0d0887\"], [0.1111111111111111, \"#46039f\"], [0.2222222222222222, \"#7201a8\"], [0.3333333333333333, \"#9c179e\"], [0.4444444444444444, \"#bd3786\"], [0.5555555555555556, \"#d8576b\"], [0.6666666666666666, \"#ed7953\"], [0.7777777777777778, \"#fb9f3a\"], [0.8888888888888888, \"#fdca26\"], [1.0, \"#f0f921\"]], \"sequentialminus\": [[0.0, \"#0d0887\"], [0.1111111111111111, \"#46039f\"], [0.2222222222222222, \"#7201a8\"], [0.3333333333333333, \"#9c179e\"], [0.4444444444444444, \"#bd3786\"], [0.5555555555555556, \"#d8576b\"], [0.6666666666666666, \"#ed7953\"], [0.7777777777777778, \"#fb9f3a\"], [0.8888888888888888, \"#fdca26\"], [1.0, \"#f0f921\"]]}, \"colorway\": [\"#636efa\", \"#EF553B\", \"#00cc96\", \"#ab63fa\", \"#FFA15A\", \"#19d3f3\", \"#FF6692\", \"#B6E880\", \"#FF97FF\", \"#FECB52\"], \"font\": {\"color\": \"#2a3f5f\"}, \"geo\": {\"bgcolor\": \"white\", \"lakecolor\": \"white\", \"landcolor\": \"#E5ECF6\", \"showlakes\": true, \"showland\": true, \"subunitcolor\": \"white\"}, \"hoverlabel\": {\"align\": \"left\"}, \"hovermode\": \"closest\", \"mapbox\": {\"style\": \"light\"}, \"paper_bgcolor\": \"white\", \"plot_bgcolor\": \"#E5ECF6\", \"polar\": {\"angularaxis\": {\"gridcolor\": \"white\", \"linecolor\": \"white\", \"ticks\": \"\"}, \"bgcolor\": \"#E5ECF6\", \"radialaxis\": {\"gridcolor\": \"white\", \"linecolor\": \"white\", \"ticks\": \"\"}}, \"scene\": {\"xaxis\": {\"backgroundcolor\": \"#E5ECF6\", \"gridcolor\": \"white\", \"gridwidth\": 2, \"linecolor\": \"white\", \"showbackground\": true, \"ticks\": \"\", \"zerolinecolor\": \"white\"}, \"yaxis\": {\"backgroundcolor\": \"#E5ECF6\", \"gridcolor\": \"white\", \"gridwidth\": 2, \"linecolor\": \"white\", \"showbackground\": true, \"ticks\": \"\", \"zerolinecolor\": \"white\"}, \"zaxis\": {\"backgroundcolor\": \"#E5ECF6\", \"gridcolor\": \"white\", \"gridwidth\": 2, \"linecolor\": \"white\", \"showbackground\": true, \"ticks\": \"\", \"zerolinecolor\": \"white\"}}, \"shapedefaults\": {\"line\": {\"color\": \"#2a3f5f\"}}, \"ternary\": {\"aaxis\": {\"gridcolor\": \"white\", \"linecolor\": \"white\", \"ticks\": \"\"}, \"baxis\": {\"gridcolor\": \"white\", \"linecolor\": \"white\", \"ticks\": \"\"}, \"bgcolor\": \"#E5ECF6\", \"caxis\": {\"gridcolor\": \"white\", \"linecolor\": \"white\", \"ticks\": \"\"}}, \"title\": {\"x\": 0.05}, \"xaxis\": {\"automargin\": true, \"gridcolor\": \"white\", \"linecolor\": \"white\", \"ticks\": \"\", \"title\": {\"standoff\": 15}, \"zerolinecolor\": \"white\", \"zerolinewidth\": 2}, \"yaxis\": {\"automargin\": true, \"gridcolor\": \"white\", \"linecolor\": \"white\", \"ticks\": \"\", \"title\": {\"standoff\": 15}, \"zerolinecolor\": \"white\", \"zerolinewidth\": 2}}}, \"width\": 1200, \"xaxis\": {\"anchor\": \"y\", \"domain\": [0.0, 1.0], \"title\": {\"text\": \"Year\"}}, \"yaxis\": {\"anchor\": \"x\", \"domain\": [0.0, 1.0], \"title\": {\"text\": \"\\ucd9c\\uace0\\ub7c9\"}}},\n",
              "                        {\"responsive\": true}\n",
              "                    ).then(function(){\n",
              "                            \n",
              "var gd = document.getElementById('4ccac4dd-15d6-4532-a4f3-a2c4a278c86e');\n",
              "var x = new MutationObserver(function (mutations, observer) {{\n",
              "        var display = window.getComputedStyle(gd).display;\n",
              "        if (!display || display === 'none') {{\n",
              "            console.log([gd, 'removed!']);\n",
              "            Plotly.purge(gd);\n",
              "            observer.disconnect();\n",
              "        }}\n",
              "}});\n",
              "\n",
              "// Listen for the removal of the full notebook cells\n",
              "var notebookContainer = gd.closest('#notebook-container');\n",
              "if (notebookContainer) {{\n",
              "    x.observe(notebookContainer, {childList: true});\n",
              "}}\n",
              "\n",
              "// Listen for the clearing of the current output cell\n",
              "var outputEl = gd.closest('.output');\n",
              "if (outputEl) {{\n",
              "    x.observe(outputEl, {childList: true});\n",
              "}}\n",
              "\n",
              "                        })\n",
              "                };\n",
              "                \n",
              "            </script>\n",
              "        </div>\n",
              "</body>\n",
              "</html>"
            ]
          },
          "metadata": {}
        }
      ]
    },
    {
      "cell_type": "markdown",
      "source": [
        "# 출고량 분석 및 시각화"
      ],
      "metadata": {
        "id": "x41Rfizs6QuQ"
      }
    },
    {
      "cell_type": "code",
      "source": [
        "def getPreferenceGameByYear(area, start, end):\n",
        "  con = (df_melt['Year'] >= start) & (df_melt['Year'] <= end) & (df_melt['variable'] == area)\n",
        "  data = df_melt[con]\n",
        "  data = data.groupby(['Year','Name','Genre']).sum()  #플랫폼 다른것 합침\n",
        "  data.reset_index(inplace=True)\n",
        "  return data"
      ],
      "metadata": {
        "id": "YclThYxGT2UH"
      },
      "execution_count": 189,
      "outputs": []
    },
    {
      "cell_type": "code",
      "source": [
        "def showPreferenceGameByYear(area, title, start, end, top = 5):\n",
        "  data = getPreferenceGameByYear(area, start, end)\n",
        "  data = data.groupby(['Year']).apply(lambda grb: grb.nlargest(top, 'value'))\n",
        "  data.reset_index(level=0, drop=True, inplace=True)\n",
        "  data.reset_index(drop=True, inplace=True)\n",
        "\n",
        "  fig = px.bar(data, x = 'Year', y = 'value',\n",
        "                color = 'Genre',\n",
        "                text = 'Name',\n",
        "                height=800, width=1200, title=title).for_each_trace(lambda t: t.update(name=t.name.split(\"=\")[1]))\n",
        "  fig.update_layout(yaxis_title=\"출고량\")\n",
        "  updateTitleLayout(fig, title)\n",
        "  fig.show()\n",
        "\n",
        "df_melt = pd.melt(df, id_vars=['Name','Year','Genre','Platform'], value_vars=['NA_Sales','EU_Sales','JP_Sales','Other_Sales','Total_Sales'])\n",
        "showPreferenceGameByYear('Total_Sales', '게임 순위 TOP 5', 1980, 2020)"
      ],
      "metadata": {
        "colab": {
          "base_uri": "https://localhost:8080/",
          "height": 817
        },
        "id": "FTLFW_hdK3Jn",
        "outputId": "9d8210c0-f53b-4577-9cd5-77242180975b"
      },
      "execution_count": 196,
      "outputs": [
        {
          "output_type": "display_data",
          "data": {
            "text/html": [
              "<html>\n",
              "<head><meta charset=\"utf-8\" /></head>\n",
              "<body>\n",
              "    <div>\n",
              "            <script src=\"https://cdnjs.cloudflare.com/ajax/libs/mathjax/2.7.5/MathJax.js?config=TeX-AMS-MML_SVG\"></script><script type=\"text/javascript\">if (window.MathJax) {MathJax.Hub.Config({SVG: {font: \"STIX-Web\"}});}</script>\n",
              "                <script type=\"text/javascript\">window.PlotlyConfig = {MathJaxConfig: 'local'};</script>\n",
              "        <script src=\"https://cdn.plot.ly/plotly-latest.min.js\"></script>    \n",
              "            <div id=\"3969d6cc-c5db-4a2d-8731-98ed154491c5\" class=\"plotly-graph-div\" style=\"height:800px; width:1200px;\"></div>\n",
              "            <script type=\"text/javascript\">\n",
              "                \n",
              "                    window.PLOTLYENV=window.PLOTLYENV || {};\n",
              "                    \n",
              "                if (document.getElementById(\"3969d6cc-c5db-4a2d-8731-98ed154491c5\")) {\n",
              "                    Plotly.newPlot(\n",
              "                        '3969d6cc-c5db-4a2d-8731-98ed154491c5',\n",
              "                        [{\"alignmentgroup\": \"True\", \"hoverlabel\": {\"namelength\": 0}, \"hovertemplate\": \"Genre=Shooter<br>Year=%{x}<br>value=%{y}<br>Name=%{text}\", \"legendgroup\": \"Genre=Shooter\", \"marker\": {\"color\": \"#636efa\"}, \"name\": \"Shooter\", \"offsetgroup\": \"Genre=Shooter\", \"orientation\": \"v\", \"showlegend\": true, \"text\": [\"Asteroids\", \"Missile Command\", \"Demon Attack\", \"Moon Patrol\", \"Duck Hunt\", \"Star Fox\", \"Doom II: Hell on Earth\", \"GoldenEye 007\", \"Medal of Honor: Frontline\", \"Medal of Honor: Rising Sun\", \"Call of Duty 4: Modern Warfare\", \"Halo 3\", \"Call of Duty: World at War\", \"Call of Duty: Modern Warfare 2\", \"Call of Duty: Black Ops\", \"Call of Duty: Modern Warfare 3\", \"Battlefield 3\", \"Call of Duty: Black Ops II\", \"Halo 4\", \"Call of Duty: Ghosts\", \"Battlefield 4\", \"Call of Duty: Advanced Warfare\", \"Destiny\", \"Call of Duty: Black Ops 3\", \"Star Wars Battlefront (2015)\", \"Tom Clancy's The Division\", \"Uncharted 4: A Thief's End\", \"Overwatch\"], \"textposition\": \"auto\", \"type\": \"bar\", \"x\": [1980, 1980, 1981, 1982, 1984, 1993, 1994, 1997, 2002, 2003, 2007, 2007, 2008, 2009, 2010, 2011, 2011, 2012, 2012, 2013, 2013, 2014, 2014, 2015, 2015, 2016, 2016, 2016], \"xaxis\": \"x\", \"y\": [4.31, 2.76, 2.13, 1.12, 28.31, 2.9899999999999998, 3.61, 8.09, 8.93, 6.74, 18.259999999999998, 12.14, 15.879999999999999, 25.1, 29.410000000000004, 30.839999999999996, 17.37, 29.730000000000004, 9.76, 27.369999999999997, 14.04, 21.889999999999997, 12.61, 25.299999999999997, 11.7, 5.9799999999999995, 4.2, 3.01], \"yaxis\": \"y\"}, {\"alignmentgroup\": \"True\", \"hoverlabel\": {\"namelength\": 0}, \"hovertemplate\": \"Genre=Misc<br>Year=%{x}<br>value=%{y}<br>Name=%{text}\", \"legendgroup\": \"Genre=Misc\", \"marker\": {\"color\": \"#EF553B\"}, \"name\": \"Misc\", \"offsetgroup\": \"Genre=Misc\", \"orientation\": \"v\", \"showlegend\": true, \"text\": [\"Kaboom!\", \"Defender\", \"Mahjong\", \"Namco Museum Vol.1\", \"Brain Age: Train Your Brain in Minutes a Day\", \"Wii Play\", \"Guitar Hero III: Legends of Rock\", \"Kinect Adventures!\", \"Just Dance 3\", \"Minecraft\"], \"textposition\": \"auto\", \"type\": \"bar\", \"x\": [1980, 1980, 1983, 1995, 2005, 2006, 2007, 2010, 2011, 2014], \"xaxis\": \"x\", \"y\": [1.1500000000000001, 1.05, 2.1399999999999997, 3.8400000000000003, 20.220000000000002, 29.009999999999998, 16.42, 21.82, 12.930000000000001, 14.11], \"yaxis\": \"y\"}, {\"alignmentgroup\": \"True\", \"hoverlabel\": {\"namelength\": 0}, \"hovertemplate\": \"Genre=Fighting<br>Year=%{x}<br>value=%{y}<br>Name=%{text}\", \"legendgroup\": \"Genre=Fighting\", \"marker\": {\"color\": \"#00cc96\"}, \"name\": \"Fighting\", \"offsetgroup\": \"Genre=Fighting\", \"orientation\": \"v\", \"showlegend\": true, \"text\": [\"Boxing\", \"Mike Tyson's Punch-Out!!\", \"Pro Wrestling\", \"Street Fighter II: The World Warrior\", \"Super Street Fighter II\", \"Mortal Kombat II\", \"Tekken\", \"Tekken 2\", \"Tekken 3\", \"Super Smash Bros.\", \"Super Smash Bros. Melee\", \"Super Smash Bros. Brawl\"], \"textposition\": \"auto\", \"type\": \"bar\", \"x\": [1980, 1987, 1987, 1992, 1993, 1993, 1995, 1996, 1998, 1999, 2001, 2008], \"xaxis\": \"x\", \"y\": [0.77, 3.02, 2.4, 6.29, 2.15, 1.9300000000000002, 3.24, 5.74, 7.180000000000001, 5.5600000000000005, 7.06, 13.04], \"yaxis\": \"y\"}, {\"alignmentgroup\": \"True\", \"hoverlabel\": {\"namelength\": 0}, \"hovertemplate\": \"Genre=Platform<br>Year=%{x}<br>value=%{y}<br>Name=%{text}\", \"legendgroup\": \"Genre=Platform\", \"marker\": {\"color\": \"#ab63fa\"}, \"name\": \"Platform\", \"offsetgroup\": \"Genre=Platform\", \"orientation\": \"v\", \"showlegend\": true, \"text\": [\"Pitfall!\", \"Mario Bros.\", \"Mario Bros.\", \"Pitfall II: Lost Caverns\", \"Donkey Kong\", \"Super Mario Bros.\", \"Ice Climber\", \"Super Mario Bros.: The Lost Levels\", \"Super Mario Bros. 3\", \"Super Mario Bros. 2\", \"Super Mario Land\", \"Super Mario World\", \"Sonic the Hedgehog\", \"Sonic the Hedgehog 2\", \"Kirby's Dream Land\", \"Super Mario All-Stars\", \"Donkey Kong Country\", \"Super Mario Land 3: Wario Land\", \"Donkey Kong Land\", \"Donkey Kong Country 2: Diddy's Kong Quest\", \"Super Mario World 2: Yoshi's Island\", \"Super Mario 64\", \"Crash Bandicoot\", \"Crash Bandicoot 2: Cortex Strikes Back\", \"Crash Bandicoot 3: Warped\", \"Super Mario 64\", \"New Super Mario Bros.\", \"New Super Mario Bros. Wii\", \"New Super Mario Bros. 2\"], \"textposition\": \"auto\", \"type\": \"bar\", \"x\": [1981, 1982, 1983, 1983, 1983, 1985, 1985, 1986, 1988, 1988, 1989, 1990, 1991, 1992, 1992, 1993, 1994, 1994, 1994, 1995, 1995, 1996, 1996, 1997, 1998, 2004, 2006, 2009, 2012], \"xaxis\": \"x\", \"y\": [4.5, 1.59, 2.28, 1.31, 1.1300000000000001, 40.24, 1.5, 2.65, 17.28, 7.46, 18.14, 20.62, 4.33, 6.0200000000000005, 5.13, 10.55, 9.3, 5.19, 3.9099999999999997, 5.15, 4.109999999999999, 11.9, 6.819999999999999, 7.569999999999999, 7.13, 10.42, 30.009999999999998, 28.61, 9.830000000000002], \"yaxis\": \"y\"}, {\"alignmentgroup\": \"True\", \"hoverlabel\": {\"namelength\": 0}, \"hovertemplate\": \"Genre=Action<br>Year=%{x}<br>value=%{y}<br>Name=%{text}\", \"legendgroup\": \"Genre=Action\", \"marker\": {\"color\": \"#FFA15A\"}, \"name\": \"Action\", \"offsetgroup\": \"Genre=Action\", \"orientation\": \"v\", \"showlegend\": true, \"text\": [\"Frogger\", \"E.T.: The Extra Terrestrial\", \"Pinball\", \"Kung Fu\", \"The Legend of Zelda\", \"Metroid\", \"Teenage Mutant Ninja Turtles\", \"The Legend of Zelda: A Link to the Past\", \"Tomb Raider II\", \"The Legend of Zelda: Ocarina of Time\", \"Metal Gear Solid\", \"Driver\", \"Driver 2\", \"Grand Theft Auto III\", \"Harry Potter and the Sorcerer's Stone\", \"Grand Theft Auto: Vice City\", \"Spider-Man: The Movie\", \"Harry Potter and the Chamber of Secrets\", \"Finding Nemo\", \"Grand Theft Auto: San Andreas\", \"LEGO Star Wars: The Complete Saga\", \"Grand Theft Auto IV\", \"Star Wars: The Force Unleashed\", \"Pokemon HeartGold/Pokemon SoulSilver\", \"Red Dead Redemption\", \"FIFA Soccer 13\", \"Assassin's Creed III\", \"Grand Theft Auto V\", \"Assassin's Creed IV: Black Flag\", \"Grand Theft Auto V\", \"Far Cry: Primal\", \"Brothers Conflict: Precious Baby\"], \"textposition\": \"auto\", \"type\": \"bar\", \"x\": [1981, 1981, 1984, 1985, 1986, 1986, 1989, 1991, 1997, 1998, 1998, 1999, 2000, 2001, 2001, 2002, 2002, 2002, 2003, 2004, 2007, 2008, 2008, 2009, 2010, 2012, 2012, 2013, 2013, 2014, 2016, 2017], \"xaxis\": \"x\", \"y\": [2.2, 1.9700000000000002, 1.8499999999999999, 3.5, 6.499999999999999, 2.73, 4.17, 4.61, 7.53, 7.6, 6.03, 6.26, 4.7299999999999995, 13.100000000000001, 7.210000000000001, 16.150000000000002, 8.39, 7.63, 6.46, 20.810000000000002, 15.73, 21.61, 10.21, 11.899999999999999, 12.93, 16.150000000000002, 13.1, 37.77, 13.2, 17.07, 3.1300000000000003, 0.01], \"yaxis\": \"y\"}, {\"alignmentgroup\": \"True\", \"hoverlabel\": {\"namelength\": 0}, \"hovertemplate\": \"Genre=Puzzle<br>Year=%{x}<br>value=%{y}<br>Name=%{text}\", \"legendgroup\": \"Genre=Puzzle\", \"marker\": {\"color\": \"#19d3f3\"}, \"name\": \"Puzzle\", \"offsetgroup\": \"Genre=Puzzle\", \"orientation\": \"v\", \"showlegend\": true, \"text\": [\"Ms. Pac-Man\", \"Pac-Man\", \"Dig Dug\", \"Gyromite\", \"Tetris\", \"Tetris\", \"Dr. Mario\", \"Dr. Mario\", \"Yoshi\", \"Brain Age 2: More Training in Minutes a Day\"], \"textposition\": \"auto\", \"type\": \"bar\", \"x\": [1981, 1982, 1982, 1985, 1988, 1989, 1989, 1990, 1991, 2005], \"xaxis\": \"x\", \"y\": [1.6600000000000001, 7.8100000000000005, 1.6400000000000001, 1.32, 5.580000000000001, 30.259999999999998, 5.340000000000001, 4.84, 2.48, 15.3], \"yaxis\": \"y\"}, {\"alignmentgroup\": \"True\", \"hoverlabel\": {\"namelength\": 0}, \"hovertemplate\": \"Genre=Racing<br>Year=%{x}<br>value=%{y}<br>Name=%{text}\", \"legendgroup\": \"Genre=Racing\", \"marker\": {\"color\": \"#FF6692\"}, \"name\": \"Racing\", \"offsetgroup\": \"Genre=Racing\", \"orientation\": \"v\", \"showlegend\": true, \"text\": [\"Pole Position\", \"Excitebike\", \"F-1 Race\", \"F-Zero\", \"Super Mario Kart\", \"Mario Kart 64\", \"Gran Turismo\", \"Gran Turismo 2\", \"Gran Turismo 3: A-Spec\", \"Need for Speed Underground\", \"The Simpsons: Hit & Run\", \"Mario Kart: Double Dash!!\", \"Gran Turismo 4\", \"Need for Speed Underground 2\", \"Mario Kart DS\", \"Mario Kart Wii\"], \"textposition\": \"auto\", \"type\": \"bar\", \"x\": [1982, 1984, 1990, 1990, 1992, 1996, 1997, 1999, 2001, 2003, 2003, 2003, 2004, 2004, 2005, 2008], \"xaxis\": \"x\", \"y\": [1.1800000000000002, 4.16, 3.4099999999999997, 2.84, 8.77, 9.870000000000001, 10.95, 9.49, 14.969999999999999, 10.469999999999999, 7.06, 6.950000000000001, 11.649999999999999, 8.540000000000001, 23.43, 35.830000000000005], \"yaxis\": \"y\"}, {\"alignmentgroup\": \"True\", \"hoverlabel\": {\"namelength\": 0}, \"hovertemplate\": \"Genre=Sports<br>Year=%{x}<br>value=%{y}<br>Name=%{text}\", \"legendgroup\": \"Genre=Sports\", \"marker\": {\"color\": \"#B6E880\"}, \"name\": \"Sports\", \"offsetgroup\": \"Genre=Sports\", \"orientation\": \"v\", \"showlegend\": true, \"text\": [\"Baseball\", \"Golf\", \"Tennis\", \"Soccer\", \"World Class Track Meet\", \"Volleyball\", \"Ice Hockey\", \"Golf\", \"Tony Hawk's Pro Skater 2\", \"Wii Sports\", \"Madden NFL 07\", \"Wii Fit\", \"Wii Sports Resort\", \"Wii Fit Plus\", \"FIFA Soccer 11\", \"FIFA 12\", \"FIFA 14\", \"FIFA 15\", \"FIFA 16\", \"NBA 2K16\", \"FIFA 17\"], \"textposition\": \"auto\", \"type\": \"bar\", \"x\": [1983, 1984, 1984, 1985, 1986, 1987, 1988, 1989, 2000, 2006, 2006, 2007, 2009, 2009, 2010, 2011, 2013, 2014, 2015, 2015, 2016], \"xaxis\": \"x\", \"y\": [3.2, 4.0, 2.17, 1.96, 3.08, 2.15, 2.42, 2.12, 4.68, 82.74000000000001, 10.06, 22.72, 33.0, 22.0, 12.55, 13.14, 17.160000000000004, 19.02, 16.43, 8.009999999999998, 6.8999999999999995], \"yaxis\": \"y\"}, {\"alignmentgroup\": \"True\", \"hoverlabel\": {\"namelength\": 0}, \"hovertemplate\": \"Genre=Role-Playing<br>Year=%{x}<br>value=%{y}<br>Name=%{text}\", \"legendgroup\": \"Genre=Role-Playing\", \"marker\": {\"color\": \"#FF97FF\"}, \"name\": \"Role-Playing\", \"offsetgroup\": \"Genre=Role-Playing\", \"orientation\": \"v\", \"showlegend\": true, \"text\": [\"Dragon Warrior\", \"Dragon Warrior II\", \"Dragon Warrior III\", \"Dragon Warrior IV\", \"Final Fantasy II\", \"Secret of Mana\", \"Final Fantasy III\", \"Pokemon Red/Pokemon Blue\", \"Final Fantasy VII\", \"Pok\\u00e9mon Yellow: Special Pikachu Edition\", \"Pokemon Gold/Pokemon Silver\", \"Final Fantasy VIII\", \"Pok\\u00e9mon Crystal Version\", \"Final Fantasy IX\", \"Dragon Quest VII: Warriors of Eden\", \"Final Fantasy X\", \"Pokemon Ruby/Pokemon Sapphire\", \"Pokemon FireRed/Pokemon LeafGreen\", \"Pokemon Diamond/Pokemon Pearl\", \"Pokemon Black/Pokemon White\", \"The Elder Scrolls V: Skyrim\", \"Fallout 4\", \"Phantasy Star Online 2 Episode 4: Deluxe Package\"], \"textposition\": \"auto\", \"type\": \"bar\", \"x\": [1986, 1987, 1988, 1990, 1991, 1993, 1994, 1996, 1997, 1998, 1999, 1999, 2000, 2000, 2000, 2001, 2002, 2004, 2006, 2010, 2011, 2015, 2017], \"xaxis\": \"x\", \"y\": [2.52, 2.56, 3.87, 3.1199999999999997, 1.7800000000000002, 1.83, 3.4299999999999997, 31.380000000000003, 9.719999999999999, 14.64, 23.09, 7.86, 6.39, 5.31, 4.459999999999999, 8.040000000000001, 15.84, 10.49, 18.35, 15.32, 19.279999999999998, 12.280000000000001, 0.04], \"yaxis\": \"y\"}, {\"alignmentgroup\": \"True\", \"hoverlabel\": {\"namelength\": 0}, \"hovertemplate\": \"Genre=Adventure<br>Year=%{x}<br>value=%{y}<br>Name=%{text}\", \"legendgroup\": \"Genre=Adventure\", \"marker\": {\"color\": \"#FECB52\"}, \"name\": \"Adventure\", \"offsetgroup\": \"Genre=Adventure\", \"orientation\": \"v\", \"showlegend\": true, \"text\": [\"Zelda II: The Adventure of Link\", \"Super Mario Land 2: 6 Golden Coins\"], \"textposition\": \"auto\", \"type\": \"bar\", \"x\": [1987, 1992], \"xaxis\": \"x\", \"y\": [4.38, 11.179999999999998], \"yaxis\": \"y\"}, {\"alignmentgroup\": \"True\", \"hoverlabel\": {\"namelength\": 0}, \"hovertemplate\": \"Genre=Simulation<br>Year=%{x}<br>value=%{y}<br>Name=%{text}\", \"legendgroup\": \"Genre=Simulation\", \"marker\": {\"color\": \"#636efa\"}, \"name\": \"Simulation\", \"offsetgroup\": \"Genre=Simulation\", \"orientation\": \"v\", \"showlegend\": true, \"text\": [\"SimCity\", \"Nintendogs\", \"Animal Crossing: Wild World\", \"Imagine: Makeup Artist\"], \"textposition\": \"auto\", \"type\": \"bar\", \"x\": [1991, 2005, 2005, 2020], \"xaxis\": \"x\", \"y\": [1.9900000000000002, 24.75, 12.280000000000001, 0.29000000000000004], \"yaxis\": \"y\"}, {\"alignmentgroup\": \"True\", \"hoverlabel\": {\"namelength\": 0}, \"hovertemplate\": \"Genre=Strategy<br>Year=%{x}<br>value=%{y}<br>Name=%{text}\", \"legendgroup\": \"Genre=Strategy\", \"marker\": {\"color\": \"#EF553B\"}, \"name\": \"Strategy\", \"offsetgroup\": \"Genre=Strategy\", \"orientation\": \"v\", \"showlegend\": true, \"text\": [\"Warcraft II: Tides of Darkness\"], \"textposition\": \"auto\", \"type\": \"bar\", \"x\": [1995], \"xaxis\": \"x\", \"y\": [4.2], \"yaxis\": \"y\"}],\n",
              "                        {\"barmode\": \"relative\", \"font\": {\"color\": \"black\", \"size\": 11}, \"height\": 800, \"legend\": {\"tracegroupgap\": 0}, \"template\": {\"data\": {\"bar\": [{\"error_x\": {\"color\": \"#2a3f5f\"}, \"error_y\": {\"color\": \"#2a3f5f\"}, \"marker\": {\"line\": {\"color\": \"#E5ECF6\", \"width\": 0.5}}, \"type\": \"bar\"}], \"barpolar\": [{\"marker\": {\"line\": {\"color\": \"#E5ECF6\", \"width\": 0.5}}, \"type\": \"barpolar\"}], \"carpet\": [{\"aaxis\": {\"endlinecolor\": \"#2a3f5f\", \"gridcolor\": \"white\", \"linecolor\": \"white\", \"minorgridcolor\": \"white\", \"startlinecolor\": \"#2a3f5f\"}, \"baxis\": {\"endlinecolor\": \"#2a3f5f\", \"gridcolor\": \"white\", \"linecolor\": \"white\", \"minorgridcolor\": \"white\", \"startlinecolor\": \"#2a3f5f\"}, \"type\": \"carpet\"}], \"choropleth\": [{\"colorbar\": {\"outlinewidth\": 0, \"ticks\": \"\"}, \"type\": \"choropleth\"}], \"contour\": [{\"colorbar\": {\"outlinewidth\": 0, \"ticks\": \"\"}, \"colorscale\": [[0.0, \"#0d0887\"], [0.1111111111111111, \"#46039f\"], [0.2222222222222222, \"#7201a8\"], [0.3333333333333333, \"#9c179e\"], [0.4444444444444444, \"#bd3786\"], [0.5555555555555556, \"#d8576b\"], [0.6666666666666666, \"#ed7953\"], [0.7777777777777778, \"#fb9f3a\"], [0.8888888888888888, \"#fdca26\"], [1.0, \"#f0f921\"]], \"type\": \"contour\"}], \"contourcarpet\": [{\"colorbar\": {\"outlinewidth\": 0, \"ticks\": \"\"}, \"type\": \"contourcarpet\"}], \"heatmap\": [{\"colorbar\": {\"outlinewidth\": 0, \"ticks\": \"\"}, \"colorscale\": [[0.0, \"#0d0887\"], [0.1111111111111111, \"#46039f\"], [0.2222222222222222, \"#7201a8\"], [0.3333333333333333, \"#9c179e\"], [0.4444444444444444, \"#bd3786\"], [0.5555555555555556, \"#d8576b\"], [0.6666666666666666, \"#ed7953\"], [0.7777777777777778, \"#fb9f3a\"], [0.8888888888888888, \"#fdca26\"], [1.0, \"#f0f921\"]], \"type\": \"heatmap\"}], \"heatmapgl\": [{\"colorbar\": {\"outlinewidth\": 0, \"ticks\": \"\"}, \"colorscale\": [[0.0, \"#0d0887\"], [0.1111111111111111, \"#46039f\"], [0.2222222222222222, \"#7201a8\"], [0.3333333333333333, \"#9c179e\"], [0.4444444444444444, \"#bd3786\"], [0.5555555555555556, \"#d8576b\"], [0.6666666666666666, \"#ed7953\"], [0.7777777777777778, \"#fb9f3a\"], [0.8888888888888888, \"#fdca26\"], [1.0, \"#f0f921\"]], \"type\": \"heatmapgl\"}], \"histogram\": [{\"marker\": {\"colorbar\": {\"outlinewidth\": 0, \"ticks\": \"\"}}, \"type\": \"histogram\"}], \"histogram2d\": [{\"colorbar\": {\"outlinewidth\": 0, \"ticks\": \"\"}, \"colorscale\": [[0.0, \"#0d0887\"], [0.1111111111111111, \"#46039f\"], [0.2222222222222222, \"#7201a8\"], [0.3333333333333333, \"#9c179e\"], [0.4444444444444444, \"#bd3786\"], [0.5555555555555556, \"#d8576b\"], [0.6666666666666666, \"#ed7953\"], [0.7777777777777778, \"#fb9f3a\"], [0.8888888888888888, \"#fdca26\"], [1.0, \"#f0f921\"]], \"type\": \"histogram2d\"}], \"histogram2dcontour\": [{\"colorbar\": {\"outlinewidth\": 0, \"ticks\": \"\"}, \"colorscale\": [[0.0, \"#0d0887\"], [0.1111111111111111, \"#46039f\"], [0.2222222222222222, \"#7201a8\"], [0.3333333333333333, \"#9c179e\"], [0.4444444444444444, \"#bd3786\"], [0.5555555555555556, \"#d8576b\"], [0.6666666666666666, \"#ed7953\"], [0.7777777777777778, \"#fb9f3a\"], [0.8888888888888888, \"#fdca26\"], [1.0, \"#f0f921\"]], \"type\": \"histogram2dcontour\"}], \"mesh3d\": [{\"colorbar\": {\"outlinewidth\": 0, \"ticks\": \"\"}, \"type\": \"mesh3d\"}], \"parcoords\": [{\"line\": {\"colorbar\": {\"outlinewidth\": 0, \"ticks\": \"\"}}, \"type\": \"parcoords\"}], \"pie\": [{\"automargin\": true, \"type\": \"pie\"}], \"scatter\": [{\"marker\": {\"colorbar\": {\"outlinewidth\": 0, \"ticks\": \"\"}}, \"type\": \"scatter\"}], \"scatter3d\": [{\"line\": {\"colorbar\": {\"outlinewidth\": 0, \"ticks\": \"\"}}, \"marker\": {\"colorbar\": {\"outlinewidth\": 0, \"ticks\": \"\"}}, \"type\": \"scatter3d\"}], \"scattercarpet\": [{\"marker\": {\"colorbar\": {\"outlinewidth\": 0, \"ticks\": \"\"}}, \"type\": \"scattercarpet\"}], \"scattergeo\": [{\"marker\": {\"colorbar\": {\"outlinewidth\": 0, \"ticks\": \"\"}}, \"type\": \"scattergeo\"}], \"scattergl\": [{\"marker\": {\"colorbar\": {\"outlinewidth\": 0, \"ticks\": \"\"}}, \"type\": \"scattergl\"}], \"scattermapbox\": [{\"marker\": {\"colorbar\": {\"outlinewidth\": 0, \"ticks\": \"\"}}, \"type\": \"scattermapbox\"}], \"scatterpolar\": [{\"marker\": {\"colorbar\": {\"outlinewidth\": 0, \"ticks\": \"\"}}, \"type\": \"scatterpolar\"}], \"scatterpolargl\": [{\"marker\": {\"colorbar\": {\"outlinewidth\": 0, \"ticks\": \"\"}}, \"type\": \"scatterpolargl\"}], \"scatterternary\": [{\"marker\": {\"colorbar\": {\"outlinewidth\": 0, \"ticks\": \"\"}}, \"type\": \"scatterternary\"}], \"surface\": [{\"colorbar\": {\"outlinewidth\": 0, \"ticks\": \"\"}, \"colorscale\": [[0.0, \"#0d0887\"], [0.1111111111111111, \"#46039f\"], [0.2222222222222222, \"#7201a8\"], [0.3333333333333333, \"#9c179e\"], [0.4444444444444444, \"#bd3786\"], [0.5555555555555556, \"#d8576b\"], [0.6666666666666666, \"#ed7953\"], [0.7777777777777778, \"#fb9f3a\"], [0.8888888888888888, \"#fdca26\"], [1.0, \"#f0f921\"]], \"type\": \"surface\"}], \"table\": [{\"cells\": {\"fill\": {\"color\": \"#EBF0F8\"}, \"line\": {\"color\": \"white\"}}, \"header\": {\"fill\": {\"color\": \"#C8D4E3\"}, \"line\": {\"color\": \"white\"}}, \"type\": \"table\"}]}, \"layout\": {\"annotationdefaults\": {\"arrowcolor\": \"#2a3f5f\", \"arrowhead\": 0, \"arrowwidth\": 1}, \"coloraxis\": {\"colorbar\": {\"outlinewidth\": 0, \"ticks\": \"\"}}, \"colorscale\": {\"diverging\": [[0, \"#8e0152\"], [0.1, \"#c51b7d\"], [0.2, \"#de77ae\"], [0.3, \"#f1b6da\"], [0.4, \"#fde0ef\"], [0.5, \"#f7f7f7\"], [0.6, \"#e6f5d0\"], [0.7, \"#b8e186\"], [0.8, \"#7fbc41\"], [0.9, \"#4d9221\"], [1, \"#276419\"]], \"sequential\": [[0.0, \"#0d0887\"], [0.1111111111111111, \"#46039f\"], [0.2222222222222222, \"#7201a8\"], [0.3333333333333333, \"#9c179e\"], [0.4444444444444444, \"#bd3786\"], [0.5555555555555556, \"#d8576b\"], [0.6666666666666666, \"#ed7953\"], [0.7777777777777778, \"#fb9f3a\"], [0.8888888888888888, \"#fdca26\"], [1.0, \"#f0f921\"]], \"sequentialminus\": [[0.0, \"#0d0887\"], [0.1111111111111111, \"#46039f\"], [0.2222222222222222, \"#7201a8\"], [0.3333333333333333, \"#9c179e\"], [0.4444444444444444, \"#bd3786\"], [0.5555555555555556, \"#d8576b\"], [0.6666666666666666, \"#ed7953\"], [0.7777777777777778, \"#fb9f3a\"], [0.8888888888888888, \"#fdca26\"], [1.0, \"#f0f921\"]]}, \"colorway\": [\"#636efa\", \"#EF553B\", \"#00cc96\", \"#ab63fa\", \"#FFA15A\", \"#19d3f3\", \"#FF6692\", \"#B6E880\", \"#FF97FF\", \"#FECB52\"], \"font\": {\"color\": \"#2a3f5f\"}, \"geo\": {\"bgcolor\": \"white\", \"lakecolor\": \"white\", \"landcolor\": \"#E5ECF6\", \"showlakes\": true, \"showland\": true, \"subunitcolor\": \"white\"}, \"hoverlabel\": {\"align\": \"left\"}, \"hovermode\": \"closest\", \"mapbox\": {\"style\": \"light\"}, \"paper_bgcolor\": \"white\", \"plot_bgcolor\": \"#E5ECF6\", \"polar\": {\"angularaxis\": {\"gridcolor\": \"white\", \"linecolor\": \"white\", \"ticks\": \"\"}, \"bgcolor\": \"#E5ECF6\", \"radialaxis\": {\"gridcolor\": \"white\", \"linecolor\": \"white\", \"ticks\": \"\"}}, \"scene\": {\"xaxis\": {\"backgroundcolor\": \"#E5ECF6\", \"gridcolor\": \"white\", \"gridwidth\": 2, \"linecolor\": \"white\", \"showbackground\": true, \"ticks\": \"\", \"zerolinecolor\": \"white\"}, \"yaxis\": {\"backgroundcolor\": \"#E5ECF6\", \"gridcolor\": \"white\", \"gridwidth\": 2, \"linecolor\": \"white\", \"showbackground\": true, \"ticks\": \"\", \"zerolinecolor\": \"white\"}, \"zaxis\": {\"backgroundcolor\": \"#E5ECF6\", \"gridcolor\": \"white\", \"gridwidth\": 2, \"linecolor\": \"white\", \"showbackground\": true, \"ticks\": \"\", \"zerolinecolor\": \"white\"}}, \"shapedefaults\": {\"line\": {\"color\": \"#2a3f5f\"}}, \"ternary\": {\"aaxis\": {\"gridcolor\": \"white\", \"linecolor\": \"white\", \"ticks\": \"\"}, \"baxis\": {\"gridcolor\": \"white\", \"linecolor\": \"white\", \"ticks\": \"\"}, \"bgcolor\": \"#E5ECF6\", \"caxis\": {\"gridcolor\": \"white\", \"linecolor\": \"white\", \"ticks\": \"\"}}, \"title\": {\"x\": 0.05}, \"xaxis\": {\"automargin\": true, \"gridcolor\": \"white\", \"linecolor\": \"white\", \"ticks\": \"\", \"title\": {\"standoff\": 15}, \"zerolinecolor\": \"white\", \"zerolinewidth\": 2}, \"yaxis\": {\"automargin\": true, \"gridcolor\": \"white\", \"linecolor\": \"white\", \"ticks\": \"\", \"title\": {\"standoff\": 15}, \"zerolinecolor\": \"white\", \"zerolinewidth\": 2}}}, \"title\": {\"font\": {\"size\": 25}, \"text\": \"\\uac8c\\uc784 \\uc21c\\uc704 TOP 5\", \"x\": 0.5}, \"width\": 1200, \"xaxis\": {\"anchor\": \"y\", \"domain\": [0.0, 1.0], \"title\": {\"text\": \"Year\"}}, \"yaxis\": {\"anchor\": \"x\", \"domain\": [0.0, 1.0], \"title\": {\"text\": \"\\ucd9c\\uace0\\ub7c9\"}}},\n",
              "                        {\"responsive\": true}\n",
              "                    ).then(function(){\n",
              "                            \n",
              "var gd = document.getElementById('3969d6cc-c5db-4a2d-8731-98ed154491c5');\n",
              "var x = new MutationObserver(function (mutations, observer) {{\n",
              "        var display = window.getComputedStyle(gd).display;\n",
              "        if (!display || display === 'none') {{\n",
              "            console.log([gd, 'removed!']);\n",
              "            Plotly.purge(gd);\n",
              "            observer.disconnect();\n",
              "        }}\n",
              "}});\n",
              "\n",
              "// Listen for the removal of the full notebook cells\n",
              "var notebookContainer = gd.closest('#notebook-container');\n",
              "if (notebookContainer) {{\n",
              "    x.observe(notebookContainer, {childList: true});\n",
              "}}\n",
              "\n",
              "// Listen for the clearing of the current output cell\n",
              "var outputEl = gd.closest('.output');\n",
              "if (outputEl) {{\n",
              "    x.observe(outputEl, {childList: true});\n",
              "}}\n",
              "\n",
              "                        })\n",
              "                };\n",
              "                \n",
              "            </script>\n",
              "        </div>\n",
              "</body>\n",
              "</html>"
            ]
          },
          "metadata": {}
        }
      ]
    },
    {
      "cell_type": "code",
      "source": [
        "showPreferenceGameByYear('NA_Sales', 'NA 게임 순위 TOP 5', 2010, 2016)\n",
        "showPreferenceGameByYear('EU_Sales', 'EU 게임 순위 TOP 5', 2010, 2016)\n",
        "showPreferenceGameByYear('JP_Sales', 'JP 게임 순위 TOP 5', 2010, 2016)\n",
        "showPreferenceGameByYear('Other_Sales', 'Other 게임 순위 TOP 5', 2010, 2016)"
      ],
      "metadata": {
        "colab": {
          "base_uri": "https://localhost:8080/",
          "height": 1000
        },
        "id": "CfpYLKL2Y7Jw",
        "outputId": "48d6a907-67eb-43c1-9179-e29036a3103e"
      },
      "execution_count": 197,
      "outputs": [
        {
          "output_type": "display_data",
          "data": {
            "text/html": [
              "<html>\n",
              "<head><meta charset=\"utf-8\" /></head>\n",
              "<body>\n",
              "    <div>\n",
              "            <script src=\"https://cdnjs.cloudflare.com/ajax/libs/mathjax/2.7.5/MathJax.js?config=TeX-AMS-MML_SVG\"></script><script type=\"text/javascript\">if (window.MathJax) {MathJax.Hub.Config({SVG: {font: \"STIX-Web\"}});}</script>\n",
              "                <script type=\"text/javascript\">window.PlotlyConfig = {MathJaxConfig: 'local'};</script>\n",
              "        <script src=\"https://cdn.plot.ly/plotly-latest.min.js\"></script>    \n",
              "            <div id=\"dbdb4b2d-67ce-432f-b5b9-68d2673f2641\" class=\"plotly-graph-div\" style=\"height:800px; width:1200px;\"></div>\n",
              "            <script type=\"text/javascript\">\n",
              "                \n",
              "                    window.PLOTLYENV=window.PLOTLYENV || {};\n",
              "                    \n",
              "                if (document.getElementById(\"dbdb4b2d-67ce-432f-b5b9-68d2673f2641\")) {\n",
              "                    Plotly.newPlot(\n",
              "                        'dbdb4b2d-67ce-432f-b5b9-68d2673f2641',\n",
              "                        [{\"alignmentgroup\": \"True\", \"hoverlabel\": {\"namelength\": 0}, \"hovertemplate\": \"Genre=Shooter<br>Year=%{x}<br>value=%{y}<br>Name=%{text}\", \"legendgroup\": \"Genre=Shooter\", \"marker\": {\"color\": \"#636efa\"}, \"name\": \"Shooter\", \"offsetgroup\": \"Genre=Shooter\", \"orientation\": \"v\", \"showlegend\": true, \"text\": [\"Call of Duty: Black Ops\", \"Halo: Reach\", \"Call of Duty: Modern Warfare 3\", \"Battlefield 3\", \"Call of Duty: Black Ops II\", \"Halo 4\", \"Call of Duty: Ghosts\", \"Battlefield 4\", \"Call of Duty: Advanced Warfare\", \"Destiny\", \"Call of Duty: Black Ops 3\", \"Star Wars Battlefront (2015)\", \"Tom Clancy's The Division\", \"Overwatch\", \"Uncharted 4: A Thief's End\"], \"textposition\": \"auto\", \"type\": \"bar\", \"x\": [2010, 2010, 2011, 2011, 2012, 2012, 2013, 2013, 2014, 2014, 2015, 2015, 2016, 2016, 2016], \"xaxis\": \"x\", \"y\": [17.009999999999998, 7.03, 15.58, 8.200000000000001, 14.08, 6.63, 14.919999999999998, 6.41, 10.44, 6.59, 11.889999999999999, 5.0, 2.6799999999999997, 1.3800000000000001, 1.3], \"yaxis\": \"y\"}, {\"alignmentgroup\": \"True\", \"hoverlabel\": {\"namelength\": 0}, \"hovertemplate\": \"Genre=Misc<br>Year=%{x}<br>value=%{y}<br>Name=%{text}\", \"legendgroup\": \"Genre=Misc\", \"marker\": {\"color\": \"#EF553B\"}, \"name\": \"Misc\", \"offsetgroup\": \"Genre=Misc\", \"orientation\": \"v\", \"showlegend\": true, \"text\": [\"Kinect Adventures!\", \"Just Dance 2\", \"Just Dance 3\", \"Just Dance 4\", \"Minecraft\"], \"textposition\": \"auto\", \"type\": \"bar\", \"x\": [2010, 2010, 2011, 2012, 2013], \"xaxis\": \"x\", \"y\": [14.97, 5.84, 7.85, 5.52, 5.58], \"yaxis\": \"y\"}, {\"alignmentgroup\": \"True\", \"hoverlabel\": {\"namelength\": 0}, \"hovertemplate\": \"Genre=Action<br>Year=%{x}<br>value=%{y}<br>Name=%{text}\", \"legendgroup\": \"Genre=Action\", \"marker\": {\"color\": \"#00cc96\"}, \"name\": \"Action\", \"offsetgroup\": \"Genre=Action\", \"orientation\": \"v\", \"showlegend\": true, \"text\": [\"Red Dead Redemption\", \"Batman: Arkham City\", \"Assassin's Creed III\", \"Grand Theft Auto V\", \"Assassin's Creed IV: Black Flag\", \"Grand Theft Auto V\"], \"textposition\": \"auto\", \"type\": \"bar\", \"x\": [2010, 2011, 2012, 2013, 2013, 2014], \"xaxis\": \"x\", \"y\": [6.49, 5.8500000000000005, 6.24, 16.64, 6.17, 6.46], \"yaxis\": \"y\"}, {\"alignmentgroup\": \"True\", \"hoverlabel\": {\"namelength\": 0}, \"hovertemplate\": \"Genre=Role-Playing<br>Year=%{x}<br>value=%{y}<br>Name=%{text}\", \"legendgroup\": \"Genre=Role-Playing\", \"marker\": {\"color\": \"#ab63fa\"}, \"name\": \"Role-Playing\", \"offsetgroup\": \"Genre=Role-Playing\", \"orientation\": \"v\", \"showlegend\": true, \"text\": [\"The Elder Scrolls V: Skyrim\", \"Fallout 4\"], \"textposition\": \"auto\", \"type\": \"bar\", \"x\": [2011, 2015], \"xaxis\": \"x\", \"y\": [8.73, 5.42], \"yaxis\": \"y\"}, {\"alignmentgroup\": \"True\", \"hoverlabel\": {\"namelength\": 0}, \"hovertemplate\": \"Genre=Sports<br>Year=%{x}<br>value=%{y}<br>Name=%{text}\", \"legendgroup\": \"Genre=Sports\", \"marker\": {\"color\": \"#FFA15A\"}, \"name\": \"Sports\", \"offsetgroup\": \"Genre=Sports\", \"orientation\": \"v\", \"showlegend\": true, \"text\": [\"Madden NFL 13\", \"Madden NFL 15\", \"Madden NFL 16\", \"NBA 2K16\", \"Madden NFL 17\", \"NBA 2K17\"], \"textposition\": \"auto\", \"type\": \"bar\", \"x\": [2012, 2014, 2015, 2015, 2016, 2016], \"xaxis\": \"x\", \"y\": [5.67, 5.66, 5.779999999999999, 5.640000000000001, 1.75, 1.4400000000000002], \"yaxis\": \"y\"}, {\"alignmentgroup\": \"True\", \"hoverlabel\": {\"namelength\": 0}, \"hovertemplate\": \"Genre=Fighting<br>Year=%{x}<br>value=%{y}<br>Name=%{text}\", \"legendgroup\": \"Genre=Fighting\", \"marker\": {\"color\": \"#19d3f3\"}, \"name\": \"Fighting\", \"offsetgroup\": \"Genre=Fighting\", \"orientation\": \"v\", \"showlegend\": true, \"text\": [\"Super Smash Bros. for Wii U and 3DS\"], \"textposition\": \"auto\", \"type\": \"bar\", \"x\": [2014], \"xaxis\": \"x\", \"y\": [5.83], \"yaxis\": \"y\"}],\n",
              "                        {\"barmode\": \"relative\", \"font\": {\"color\": \"black\", \"size\": 11}, \"height\": 800, \"legend\": {\"tracegroupgap\": 0}, \"template\": {\"data\": {\"bar\": [{\"error_x\": {\"color\": \"#2a3f5f\"}, \"error_y\": {\"color\": \"#2a3f5f\"}, \"marker\": {\"line\": {\"color\": \"#E5ECF6\", \"width\": 0.5}}, \"type\": \"bar\"}], \"barpolar\": [{\"marker\": {\"line\": {\"color\": \"#E5ECF6\", \"width\": 0.5}}, \"type\": \"barpolar\"}], \"carpet\": [{\"aaxis\": {\"endlinecolor\": \"#2a3f5f\", \"gridcolor\": \"white\", \"linecolor\": \"white\", \"minorgridcolor\": \"white\", \"startlinecolor\": \"#2a3f5f\"}, \"baxis\": {\"endlinecolor\": \"#2a3f5f\", \"gridcolor\": \"white\", \"linecolor\": \"white\", \"minorgridcolor\": \"white\", \"startlinecolor\": \"#2a3f5f\"}, \"type\": \"carpet\"}], \"choropleth\": [{\"colorbar\": {\"outlinewidth\": 0, \"ticks\": \"\"}, \"type\": \"choropleth\"}], \"contour\": [{\"colorbar\": {\"outlinewidth\": 0, \"ticks\": \"\"}, \"colorscale\": [[0.0, \"#0d0887\"], [0.1111111111111111, \"#46039f\"], [0.2222222222222222, \"#7201a8\"], [0.3333333333333333, \"#9c179e\"], [0.4444444444444444, \"#bd3786\"], [0.5555555555555556, \"#d8576b\"], [0.6666666666666666, \"#ed7953\"], [0.7777777777777778, \"#fb9f3a\"], [0.8888888888888888, \"#fdca26\"], [1.0, \"#f0f921\"]], \"type\": \"contour\"}], \"contourcarpet\": [{\"colorbar\": {\"outlinewidth\": 0, \"ticks\": \"\"}, \"type\": \"contourcarpet\"}], \"heatmap\": [{\"colorbar\": {\"outlinewidth\": 0, \"ticks\": \"\"}, \"colorscale\": [[0.0, \"#0d0887\"], [0.1111111111111111, \"#46039f\"], [0.2222222222222222, \"#7201a8\"], [0.3333333333333333, \"#9c179e\"], [0.4444444444444444, \"#bd3786\"], [0.5555555555555556, \"#d8576b\"], [0.6666666666666666, \"#ed7953\"], [0.7777777777777778, \"#fb9f3a\"], [0.8888888888888888, \"#fdca26\"], [1.0, \"#f0f921\"]], \"type\": \"heatmap\"}], \"heatmapgl\": [{\"colorbar\": {\"outlinewidth\": 0, \"ticks\": \"\"}, \"colorscale\": [[0.0, \"#0d0887\"], [0.1111111111111111, \"#46039f\"], [0.2222222222222222, \"#7201a8\"], [0.3333333333333333, \"#9c179e\"], [0.4444444444444444, \"#bd3786\"], [0.5555555555555556, \"#d8576b\"], [0.6666666666666666, \"#ed7953\"], [0.7777777777777778, \"#fb9f3a\"], [0.8888888888888888, \"#fdca26\"], [1.0, \"#f0f921\"]], \"type\": \"heatmapgl\"}], \"histogram\": [{\"marker\": {\"colorbar\": {\"outlinewidth\": 0, \"ticks\": \"\"}}, \"type\": \"histogram\"}], \"histogram2d\": [{\"colorbar\": {\"outlinewidth\": 0, \"ticks\": \"\"}, \"colorscale\": [[0.0, \"#0d0887\"], [0.1111111111111111, \"#46039f\"], [0.2222222222222222, \"#7201a8\"], [0.3333333333333333, \"#9c179e\"], [0.4444444444444444, \"#bd3786\"], [0.5555555555555556, \"#d8576b\"], [0.6666666666666666, \"#ed7953\"], [0.7777777777777778, \"#fb9f3a\"], [0.8888888888888888, \"#fdca26\"], [1.0, \"#f0f921\"]], \"type\": \"histogram2d\"}], \"histogram2dcontour\": [{\"colorbar\": {\"outlinewidth\": 0, \"ticks\": \"\"}, \"colorscale\": [[0.0, \"#0d0887\"], [0.1111111111111111, \"#46039f\"], [0.2222222222222222, \"#7201a8\"], [0.3333333333333333, \"#9c179e\"], [0.4444444444444444, \"#bd3786\"], [0.5555555555555556, \"#d8576b\"], [0.6666666666666666, \"#ed7953\"], [0.7777777777777778, \"#fb9f3a\"], [0.8888888888888888, \"#fdca26\"], [1.0, \"#f0f921\"]], \"type\": \"histogram2dcontour\"}], \"mesh3d\": [{\"colorbar\": {\"outlinewidth\": 0, \"ticks\": \"\"}, \"type\": \"mesh3d\"}], \"parcoords\": [{\"line\": {\"colorbar\": {\"outlinewidth\": 0, \"ticks\": \"\"}}, \"type\": \"parcoords\"}], \"pie\": [{\"automargin\": true, \"type\": \"pie\"}], \"scatter\": [{\"marker\": {\"colorbar\": {\"outlinewidth\": 0, \"ticks\": \"\"}}, \"type\": \"scatter\"}], \"scatter3d\": [{\"line\": {\"colorbar\": {\"outlinewidth\": 0, \"ticks\": \"\"}}, \"marker\": {\"colorbar\": {\"outlinewidth\": 0, \"ticks\": \"\"}}, \"type\": \"scatter3d\"}], \"scattercarpet\": [{\"marker\": {\"colorbar\": {\"outlinewidth\": 0, \"ticks\": \"\"}}, \"type\": \"scattercarpet\"}], \"scattergeo\": [{\"marker\": {\"colorbar\": {\"outlinewidth\": 0, \"ticks\": \"\"}}, \"type\": \"scattergeo\"}], \"scattergl\": [{\"marker\": {\"colorbar\": {\"outlinewidth\": 0, \"ticks\": \"\"}}, \"type\": \"scattergl\"}], \"scattermapbox\": [{\"marker\": {\"colorbar\": {\"outlinewidth\": 0, \"ticks\": \"\"}}, \"type\": \"scattermapbox\"}], \"scatterpolar\": [{\"marker\": {\"colorbar\": {\"outlinewidth\": 0, \"ticks\": \"\"}}, \"type\": \"scatterpolar\"}], \"scatterpolargl\": [{\"marker\": {\"colorbar\": {\"outlinewidth\": 0, \"ticks\": \"\"}}, \"type\": \"scatterpolargl\"}], \"scatterternary\": [{\"marker\": {\"colorbar\": {\"outlinewidth\": 0, \"ticks\": \"\"}}, \"type\": \"scatterternary\"}], \"surface\": [{\"colorbar\": {\"outlinewidth\": 0, \"ticks\": \"\"}, \"colorscale\": [[0.0, \"#0d0887\"], [0.1111111111111111, \"#46039f\"], [0.2222222222222222, \"#7201a8\"], [0.3333333333333333, \"#9c179e\"], [0.4444444444444444, \"#bd3786\"], [0.5555555555555556, \"#d8576b\"], [0.6666666666666666, \"#ed7953\"], [0.7777777777777778, \"#fb9f3a\"], [0.8888888888888888, \"#fdca26\"], [1.0, \"#f0f921\"]], \"type\": \"surface\"}], \"table\": [{\"cells\": {\"fill\": {\"color\": \"#EBF0F8\"}, \"line\": {\"color\": \"white\"}}, \"header\": {\"fill\": {\"color\": \"#C8D4E3\"}, \"line\": {\"color\": \"white\"}}, \"type\": \"table\"}]}, \"layout\": {\"annotationdefaults\": {\"arrowcolor\": \"#2a3f5f\", \"arrowhead\": 0, \"arrowwidth\": 1}, \"coloraxis\": {\"colorbar\": {\"outlinewidth\": 0, \"ticks\": \"\"}}, \"colorscale\": {\"diverging\": [[0, \"#8e0152\"], [0.1, \"#c51b7d\"], [0.2, \"#de77ae\"], [0.3, \"#f1b6da\"], [0.4, \"#fde0ef\"], [0.5, \"#f7f7f7\"], [0.6, \"#e6f5d0\"], [0.7, \"#b8e186\"], [0.8, \"#7fbc41\"], [0.9, \"#4d9221\"], [1, \"#276419\"]], \"sequential\": [[0.0, \"#0d0887\"], [0.1111111111111111, \"#46039f\"], [0.2222222222222222, \"#7201a8\"], [0.3333333333333333, \"#9c179e\"], [0.4444444444444444, \"#bd3786\"], [0.5555555555555556, \"#d8576b\"], [0.6666666666666666, \"#ed7953\"], [0.7777777777777778, \"#fb9f3a\"], [0.8888888888888888, \"#fdca26\"], [1.0, \"#f0f921\"]], \"sequentialminus\": [[0.0, \"#0d0887\"], [0.1111111111111111, \"#46039f\"], [0.2222222222222222, \"#7201a8\"], [0.3333333333333333, \"#9c179e\"], [0.4444444444444444, \"#bd3786\"], [0.5555555555555556, \"#d8576b\"], [0.6666666666666666, \"#ed7953\"], [0.7777777777777778, \"#fb9f3a\"], [0.8888888888888888, \"#fdca26\"], [1.0, \"#f0f921\"]]}, \"colorway\": [\"#636efa\", \"#EF553B\", \"#00cc96\", \"#ab63fa\", \"#FFA15A\", \"#19d3f3\", \"#FF6692\", \"#B6E880\", \"#FF97FF\", \"#FECB52\"], \"font\": {\"color\": \"#2a3f5f\"}, \"geo\": {\"bgcolor\": \"white\", \"lakecolor\": \"white\", \"landcolor\": \"#E5ECF6\", \"showlakes\": true, \"showland\": true, \"subunitcolor\": \"white\"}, \"hoverlabel\": {\"align\": \"left\"}, \"hovermode\": \"closest\", \"mapbox\": {\"style\": \"light\"}, \"paper_bgcolor\": \"white\", \"plot_bgcolor\": \"#E5ECF6\", \"polar\": {\"angularaxis\": {\"gridcolor\": \"white\", \"linecolor\": \"white\", \"ticks\": \"\"}, \"bgcolor\": \"#E5ECF6\", \"radialaxis\": {\"gridcolor\": \"white\", \"linecolor\": \"white\", \"ticks\": \"\"}}, \"scene\": {\"xaxis\": {\"backgroundcolor\": \"#E5ECF6\", \"gridcolor\": \"white\", \"gridwidth\": 2, \"linecolor\": \"white\", \"showbackground\": true, \"ticks\": \"\", \"zerolinecolor\": \"white\"}, \"yaxis\": {\"backgroundcolor\": \"#E5ECF6\", \"gridcolor\": \"white\", \"gridwidth\": 2, \"linecolor\": \"white\", \"showbackground\": true, \"ticks\": \"\", \"zerolinecolor\": \"white\"}, \"zaxis\": {\"backgroundcolor\": \"#E5ECF6\", \"gridcolor\": \"white\", \"gridwidth\": 2, \"linecolor\": \"white\", \"showbackground\": true, \"ticks\": \"\", \"zerolinecolor\": \"white\"}}, \"shapedefaults\": {\"line\": {\"color\": \"#2a3f5f\"}}, \"ternary\": {\"aaxis\": {\"gridcolor\": \"white\", \"linecolor\": \"white\", \"ticks\": \"\"}, \"baxis\": {\"gridcolor\": \"white\", \"linecolor\": \"white\", \"ticks\": \"\"}, \"bgcolor\": \"#E5ECF6\", \"caxis\": {\"gridcolor\": \"white\", \"linecolor\": \"white\", \"ticks\": \"\"}}, \"title\": {\"x\": 0.05}, \"xaxis\": {\"automargin\": true, \"gridcolor\": \"white\", \"linecolor\": \"white\", \"ticks\": \"\", \"title\": {\"standoff\": 15}, \"zerolinecolor\": \"white\", \"zerolinewidth\": 2}, \"yaxis\": {\"automargin\": true, \"gridcolor\": \"white\", \"linecolor\": \"white\", \"ticks\": \"\", \"title\": {\"standoff\": 15}, \"zerolinecolor\": \"white\", \"zerolinewidth\": 2}}}, \"title\": {\"font\": {\"size\": 25}, \"text\": \"NA \\uac8c\\uc784 \\uc21c\\uc704 TOP 5\", \"x\": 0.5}, \"width\": 1200, \"xaxis\": {\"anchor\": \"y\", \"domain\": [0.0, 1.0], \"title\": {\"text\": \"Year\"}}, \"yaxis\": {\"anchor\": \"x\", \"domain\": [0.0, 1.0], \"title\": {\"text\": \"\\ucd9c\\uace0\\ub7c9\"}}},\n",
              "                        {\"responsive\": true}\n",
              "                    ).then(function(){\n",
              "                            \n",
              "var gd = document.getElementById('dbdb4b2d-67ce-432f-b5b9-68d2673f2641');\n",
              "var x = new MutationObserver(function (mutations, observer) {{\n",
              "        var display = window.getComputedStyle(gd).display;\n",
              "        if (!display || display === 'none') {{\n",
              "            console.log([gd, 'removed!']);\n",
              "            Plotly.purge(gd);\n",
              "            observer.disconnect();\n",
              "        }}\n",
              "}});\n",
              "\n",
              "// Listen for the removal of the full notebook cells\n",
              "var notebookContainer = gd.closest('#notebook-container');\n",
              "if (notebookContainer) {{\n",
              "    x.observe(notebookContainer, {childList: true});\n",
              "}}\n",
              "\n",
              "// Listen for the clearing of the current output cell\n",
              "var outputEl = gd.closest('.output');\n",
              "if (outputEl) {{\n",
              "    x.observe(outputEl, {childList: true});\n",
              "}}\n",
              "\n",
              "                        })\n",
              "                };\n",
              "                \n",
              "            </script>\n",
              "        </div>\n",
              "</body>\n",
              "</html>"
            ]
          },
          "metadata": {}
        },
        {
          "output_type": "display_data",
          "data": {
            "text/html": [
              "<html>\n",
              "<head><meta charset=\"utf-8\" /></head>\n",
              "<body>\n",
              "    <div>\n",
              "            <script src=\"https://cdnjs.cloudflare.com/ajax/libs/mathjax/2.7.5/MathJax.js?config=TeX-AMS-MML_SVG\"></script><script type=\"text/javascript\">if (window.MathJax) {MathJax.Hub.Config({SVG: {font: \"STIX-Web\"}});}</script>\n",
              "                <script type=\"text/javascript\">window.PlotlyConfig = {MathJaxConfig: 'local'};</script>\n",
              "        <script src=\"https://cdn.plot.ly/plotly-latest.min.js\"></script>    \n",
              "            <div id=\"f9151357-109f-4af5-8972-82c786f4ab4e\" class=\"plotly-graph-div\" style=\"height:800px; width:1200px;\"></div>\n",
              "            <script type=\"text/javascript\">\n",
              "                \n",
              "                    window.PLOTLYENV=window.PLOTLYENV || {};\n",
              "                    \n",
              "                if (document.getElementById(\"f9151357-109f-4af5-8972-82c786f4ab4e\")) {\n",
              "                    Plotly.newPlot(\n",
              "                        'f9151357-109f-4af5-8972-82c786f4ab4e',\n",
              "                        [{\"alignmentgroup\": \"True\", \"hoverlabel\": {\"namelength\": 0}, \"hovertemplate\": \"Genre=Shooter<br>Year=%{x}<br>value=%{y}<br>Name=%{text}\", \"legendgroup\": \"Genre=Shooter\", \"marker\": {\"color\": \"#636efa\"}, \"name\": \"Shooter\", \"offsetgroup\": \"Genre=Shooter\", \"orientation\": \"v\", \"showlegend\": true, \"text\": [\"Call of Duty: Black Ops\", \"Call of Duty: Modern Warfare 3\", \"Battlefield 3\", \"Call of Duty: Black Ops II\", \"Far Cry 3\", \"Call of Duty: Ghosts\", \"Battlefield 4\", \"Call of Duty: Advanced Warfare\", \"Far Cry 4\", \"Call of Duty: Black Ops 3\", \"Star Wars Battlefront (2015)\", \"Tom Clancy's The Division\", \"Uncharted 4: A Thief's End\", \"Overwatch\"], \"textposition\": \"auto\", \"type\": \"bar\", \"x\": [2010, 2011, 2011, 2012, 2012, 2013, 2013, 2014, 2014, 2015, 2015, 2016, 2016, 2016], \"xaxis\": \"x\", \"y\": [8.690000000000001, 11.290000000000003, 6.49, 11.049999999999999, 3.72, 9.049999999999999, 5.57, 8.18, 4.45, 9.56, 4.88, 2.37, 2.07, 1.11], \"yaxis\": \"y\"}, {\"alignmentgroup\": \"True\", \"hoverlabel\": {\"namelength\": 0}, \"hovertemplate\": \"Genre=Sports<br>Year=%{x}<br>value=%{y}<br>Name=%{text}\", \"legendgroup\": \"Genre=Sports\", \"marker\": {\"color\": \"#EF553B\"}, \"name\": \"Sports\", \"offsetgroup\": \"Genre=Sports\", \"orientation\": \"v\", \"showlegend\": true, \"text\": [\"FIFA Soccer 11\", \"FIFA 12\", \"FIFA 14\", \"FIFA 15\", \"FIFA 16\", \"FIFA 17\"], \"textposition\": \"auto\", \"type\": \"bar\", \"x\": [2010, 2011, 2013, 2014, 2015, 2016], \"xaxis\": \"x\", \"y\": [8.01, 8.5, 11.140000000000002, 12.400000000000002, 11.290000000000001, 5.48], \"yaxis\": \"y\"}, {\"alignmentgroup\": \"True\", \"hoverlabel\": {\"namelength\": 0}, \"hovertemplate\": \"Genre=Misc<br>Year=%{x}<br>value=%{y}<br>Name=%{text}\", \"legendgroup\": \"Genre=Misc\", \"marker\": {\"color\": \"#00cc96\"}, \"name\": \"Misc\", \"offsetgroup\": \"Genre=Misc\", \"orientation\": \"v\", \"showlegend\": true, \"text\": [\"Kinect Adventures!\", \"Minecraft\"], \"textposition\": \"auto\", \"type\": \"bar\", \"x\": [2010, 2014], \"xaxis\": \"x\", \"y\": [4.94, 5.93], \"yaxis\": \"y\"}, {\"alignmentgroup\": \"True\", \"hoverlabel\": {\"namelength\": 0}, \"hovertemplate\": \"Genre=Racing<br>Year=%{x}<br>value=%{y}<br>Name=%{text}\", \"legendgroup\": \"Genre=Racing\", \"marker\": {\"color\": \"#ab63fa\"}, \"name\": \"Racing\", \"offsetgroup\": \"Genre=Racing\", \"orientation\": \"v\", \"showlegend\": true, \"text\": [\"Gran Turismo 5\"], \"textposition\": \"auto\", \"type\": \"bar\", \"x\": [2010], \"xaxis\": \"x\", \"y\": [4.88], \"yaxis\": \"y\"}, {\"alignmentgroup\": \"True\", \"hoverlabel\": {\"namelength\": 0}, \"hovertemplate\": \"Genre=Action<br>Year=%{x}<br>value=%{y}<br>Name=%{text}\", \"legendgroup\": \"Genre=Action\", \"marker\": {\"color\": \"#FFA15A\"}, \"name\": \"Action\", \"offsetgroup\": \"Genre=Action\", \"orientation\": \"v\", \"showlegend\": true, \"text\": [\"Red Dead Redemption\", \"Assassin's Creed: Revelations\", \"FIFA Soccer 13\", \"Assassin's Creed III\", \"Grand Theft Auto V\", \"Assassin's Creed IV: Black Flag\", \"Grand Theft Auto V\", \"Far Cry: Primal\"], \"textposition\": \"auto\", \"type\": \"bar\", \"x\": [2010, 2011, 2012, 2012, 2013, 2013, 2014, 2016], \"xaxis\": \"x\", \"y\": [4.58, 3.9699999999999998, 10.25, 4.93, 14.579999999999998, 5.18, 7.819999999999999, 1.57], \"yaxis\": \"y\"}, {\"alignmentgroup\": \"True\", \"hoverlabel\": {\"namelength\": 0}, \"hovertemplate\": \"Genre=Role-Playing<br>Year=%{x}<br>value=%{y}<br>Name=%{text}\", \"legendgroup\": \"Genre=Role-Playing\", \"marker\": {\"color\": \"#19d3f3\"}, \"name\": \"Role-Playing\", \"offsetgroup\": \"Genre=Role-Playing\", \"orientation\": \"v\", \"showlegend\": true, \"text\": [\"The Elder Scrolls V: Skyrim\", \"Fallout 4\", \"The Witcher 3: Wild Hunt\"], \"textposition\": \"auto\", \"type\": \"bar\", \"x\": [2011, 2015, 2015], \"xaxis\": \"x\", \"y\": [7.659999999999999, 5.04, 2.8899999999999997], \"yaxis\": \"y\"}, {\"alignmentgroup\": \"True\", \"hoverlabel\": {\"namelength\": 0}, \"hovertemplate\": \"Genre=Platform<br>Year=%{x}<br>value=%{y}<br>Name=%{text}\", \"legendgroup\": \"Genre=Platform\", \"marker\": {\"color\": \"#FF6692\"}, \"name\": \"Platform\", \"offsetgroup\": \"Genre=Platform\", \"orientation\": \"v\", \"showlegend\": true, \"text\": [\"New Super Mario Bros. 2\"], \"textposition\": \"auto\", \"type\": \"bar\", \"x\": [2012], \"xaxis\": \"x\", \"y\": [3.07], \"yaxis\": \"y\"}],\n",
              "                        {\"barmode\": \"relative\", \"font\": {\"color\": \"black\", \"size\": 11}, \"height\": 800, \"legend\": {\"tracegroupgap\": 0}, \"template\": {\"data\": {\"bar\": [{\"error_x\": {\"color\": \"#2a3f5f\"}, \"error_y\": {\"color\": \"#2a3f5f\"}, \"marker\": {\"line\": {\"color\": \"#E5ECF6\", \"width\": 0.5}}, \"type\": \"bar\"}], \"barpolar\": [{\"marker\": {\"line\": {\"color\": \"#E5ECF6\", \"width\": 0.5}}, \"type\": \"barpolar\"}], \"carpet\": [{\"aaxis\": {\"endlinecolor\": \"#2a3f5f\", \"gridcolor\": \"white\", \"linecolor\": \"white\", \"minorgridcolor\": \"white\", \"startlinecolor\": \"#2a3f5f\"}, \"baxis\": {\"endlinecolor\": \"#2a3f5f\", \"gridcolor\": \"white\", \"linecolor\": \"white\", \"minorgridcolor\": \"white\", \"startlinecolor\": \"#2a3f5f\"}, \"type\": \"carpet\"}], \"choropleth\": [{\"colorbar\": {\"outlinewidth\": 0, \"ticks\": \"\"}, \"type\": \"choropleth\"}], \"contour\": [{\"colorbar\": {\"outlinewidth\": 0, \"ticks\": \"\"}, \"colorscale\": [[0.0, \"#0d0887\"], [0.1111111111111111, \"#46039f\"], [0.2222222222222222, \"#7201a8\"], [0.3333333333333333, \"#9c179e\"], [0.4444444444444444, \"#bd3786\"], [0.5555555555555556, \"#d8576b\"], [0.6666666666666666, \"#ed7953\"], [0.7777777777777778, \"#fb9f3a\"], [0.8888888888888888, \"#fdca26\"], [1.0, \"#f0f921\"]], \"type\": \"contour\"}], \"contourcarpet\": [{\"colorbar\": {\"outlinewidth\": 0, \"ticks\": \"\"}, \"type\": \"contourcarpet\"}], \"heatmap\": [{\"colorbar\": {\"outlinewidth\": 0, \"ticks\": \"\"}, \"colorscale\": [[0.0, \"#0d0887\"], [0.1111111111111111, \"#46039f\"], [0.2222222222222222, \"#7201a8\"], [0.3333333333333333, \"#9c179e\"], [0.4444444444444444, \"#bd3786\"], [0.5555555555555556, \"#d8576b\"], [0.6666666666666666, \"#ed7953\"], [0.7777777777777778, \"#fb9f3a\"], [0.8888888888888888, \"#fdca26\"], [1.0, \"#f0f921\"]], \"type\": \"heatmap\"}], \"heatmapgl\": [{\"colorbar\": {\"outlinewidth\": 0, \"ticks\": \"\"}, \"colorscale\": [[0.0, \"#0d0887\"], [0.1111111111111111, \"#46039f\"], [0.2222222222222222, \"#7201a8\"], [0.3333333333333333, \"#9c179e\"], [0.4444444444444444, \"#bd3786\"], [0.5555555555555556, \"#d8576b\"], [0.6666666666666666, \"#ed7953\"], [0.7777777777777778, \"#fb9f3a\"], [0.8888888888888888, \"#fdca26\"], [1.0, \"#f0f921\"]], \"type\": \"heatmapgl\"}], \"histogram\": [{\"marker\": {\"colorbar\": {\"outlinewidth\": 0, \"ticks\": \"\"}}, \"type\": \"histogram\"}], \"histogram2d\": [{\"colorbar\": {\"outlinewidth\": 0, \"ticks\": \"\"}, \"colorscale\": [[0.0, \"#0d0887\"], [0.1111111111111111, \"#46039f\"], [0.2222222222222222, \"#7201a8\"], [0.3333333333333333, \"#9c179e\"], [0.4444444444444444, \"#bd3786\"], [0.5555555555555556, \"#d8576b\"], [0.6666666666666666, \"#ed7953\"], [0.7777777777777778, \"#fb9f3a\"], [0.8888888888888888, \"#fdca26\"], [1.0, \"#f0f921\"]], \"type\": \"histogram2d\"}], \"histogram2dcontour\": [{\"colorbar\": {\"outlinewidth\": 0, \"ticks\": \"\"}, \"colorscale\": [[0.0, \"#0d0887\"], [0.1111111111111111, \"#46039f\"], [0.2222222222222222, \"#7201a8\"], [0.3333333333333333, \"#9c179e\"], [0.4444444444444444, \"#bd3786\"], [0.5555555555555556, \"#d8576b\"], [0.6666666666666666, \"#ed7953\"], [0.7777777777777778, \"#fb9f3a\"], [0.8888888888888888, \"#fdca26\"], [1.0, \"#f0f921\"]], \"type\": \"histogram2dcontour\"}], \"mesh3d\": [{\"colorbar\": {\"outlinewidth\": 0, \"ticks\": \"\"}, \"type\": \"mesh3d\"}], \"parcoords\": [{\"line\": {\"colorbar\": {\"outlinewidth\": 0, \"ticks\": \"\"}}, \"type\": \"parcoords\"}], \"pie\": [{\"automargin\": true, \"type\": \"pie\"}], \"scatter\": [{\"marker\": {\"colorbar\": {\"outlinewidth\": 0, \"ticks\": \"\"}}, \"type\": \"scatter\"}], \"scatter3d\": [{\"line\": {\"colorbar\": {\"outlinewidth\": 0, \"ticks\": \"\"}}, \"marker\": {\"colorbar\": {\"outlinewidth\": 0, \"ticks\": \"\"}}, \"type\": \"scatter3d\"}], \"scattercarpet\": [{\"marker\": {\"colorbar\": {\"outlinewidth\": 0, \"ticks\": \"\"}}, \"type\": \"scattercarpet\"}], \"scattergeo\": [{\"marker\": {\"colorbar\": {\"outlinewidth\": 0, \"ticks\": \"\"}}, \"type\": \"scattergeo\"}], \"scattergl\": [{\"marker\": {\"colorbar\": {\"outlinewidth\": 0, \"ticks\": \"\"}}, \"type\": \"scattergl\"}], \"scattermapbox\": [{\"marker\": {\"colorbar\": {\"outlinewidth\": 0, \"ticks\": \"\"}}, \"type\": \"scattermapbox\"}], \"scatterpolar\": [{\"marker\": {\"colorbar\": {\"outlinewidth\": 0, \"ticks\": \"\"}}, \"type\": \"scatterpolar\"}], \"scatterpolargl\": [{\"marker\": {\"colorbar\": {\"outlinewidth\": 0, \"ticks\": \"\"}}, \"type\": \"scatterpolargl\"}], \"scatterternary\": [{\"marker\": {\"colorbar\": {\"outlinewidth\": 0, \"ticks\": \"\"}}, \"type\": \"scatterternary\"}], \"surface\": [{\"colorbar\": {\"outlinewidth\": 0, \"ticks\": \"\"}, \"colorscale\": [[0.0, \"#0d0887\"], [0.1111111111111111, \"#46039f\"], [0.2222222222222222, \"#7201a8\"], [0.3333333333333333, \"#9c179e\"], [0.4444444444444444, \"#bd3786\"], [0.5555555555555556, \"#d8576b\"], [0.6666666666666666, \"#ed7953\"], [0.7777777777777778, \"#fb9f3a\"], [0.8888888888888888, \"#fdca26\"], [1.0, \"#f0f921\"]], \"type\": \"surface\"}], \"table\": [{\"cells\": {\"fill\": {\"color\": \"#EBF0F8\"}, \"line\": {\"color\": \"white\"}}, \"header\": {\"fill\": {\"color\": \"#C8D4E3\"}, \"line\": {\"color\": \"white\"}}, \"type\": \"table\"}]}, \"layout\": {\"annotationdefaults\": {\"arrowcolor\": \"#2a3f5f\", \"arrowhead\": 0, \"arrowwidth\": 1}, \"coloraxis\": {\"colorbar\": {\"outlinewidth\": 0, \"ticks\": \"\"}}, \"colorscale\": {\"diverging\": [[0, \"#8e0152\"], [0.1, \"#c51b7d\"], [0.2, \"#de77ae\"], [0.3, \"#f1b6da\"], [0.4, \"#fde0ef\"], [0.5, \"#f7f7f7\"], [0.6, \"#e6f5d0\"], [0.7, \"#b8e186\"], [0.8, \"#7fbc41\"], [0.9, \"#4d9221\"], [1, \"#276419\"]], \"sequential\": [[0.0, \"#0d0887\"], [0.1111111111111111, \"#46039f\"], [0.2222222222222222, \"#7201a8\"], [0.3333333333333333, \"#9c179e\"], [0.4444444444444444, \"#bd3786\"], [0.5555555555555556, \"#d8576b\"], [0.6666666666666666, \"#ed7953\"], [0.7777777777777778, \"#fb9f3a\"], [0.8888888888888888, \"#fdca26\"], [1.0, \"#f0f921\"]], \"sequentialminus\": [[0.0, \"#0d0887\"], [0.1111111111111111, \"#46039f\"], [0.2222222222222222, \"#7201a8\"], [0.3333333333333333, \"#9c179e\"], [0.4444444444444444, \"#bd3786\"], [0.5555555555555556, \"#d8576b\"], [0.6666666666666666, \"#ed7953\"], [0.7777777777777778, \"#fb9f3a\"], [0.8888888888888888, \"#fdca26\"], [1.0, \"#f0f921\"]]}, \"colorway\": [\"#636efa\", \"#EF553B\", \"#00cc96\", \"#ab63fa\", \"#FFA15A\", \"#19d3f3\", \"#FF6692\", \"#B6E880\", \"#FF97FF\", \"#FECB52\"], \"font\": {\"color\": \"#2a3f5f\"}, \"geo\": {\"bgcolor\": \"white\", \"lakecolor\": \"white\", \"landcolor\": \"#E5ECF6\", \"showlakes\": true, \"showland\": true, \"subunitcolor\": \"white\"}, \"hoverlabel\": {\"align\": \"left\"}, \"hovermode\": \"closest\", \"mapbox\": {\"style\": \"light\"}, \"paper_bgcolor\": \"white\", \"plot_bgcolor\": \"#E5ECF6\", \"polar\": {\"angularaxis\": {\"gridcolor\": \"white\", \"linecolor\": \"white\", \"ticks\": \"\"}, \"bgcolor\": \"#E5ECF6\", \"radialaxis\": {\"gridcolor\": \"white\", \"linecolor\": \"white\", \"ticks\": \"\"}}, \"scene\": {\"xaxis\": {\"backgroundcolor\": \"#E5ECF6\", \"gridcolor\": \"white\", \"gridwidth\": 2, \"linecolor\": \"white\", \"showbackground\": true, \"ticks\": \"\", \"zerolinecolor\": \"white\"}, \"yaxis\": {\"backgroundcolor\": \"#E5ECF6\", \"gridcolor\": \"white\", \"gridwidth\": 2, \"linecolor\": \"white\", \"showbackground\": true, \"ticks\": \"\", \"zerolinecolor\": \"white\"}, \"zaxis\": {\"backgroundcolor\": \"#E5ECF6\", \"gridcolor\": \"white\", \"gridwidth\": 2, \"linecolor\": \"white\", \"showbackground\": true, \"ticks\": \"\", \"zerolinecolor\": \"white\"}}, \"shapedefaults\": {\"line\": {\"color\": \"#2a3f5f\"}}, \"ternary\": {\"aaxis\": {\"gridcolor\": \"white\", \"linecolor\": \"white\", \"ticks\": \"\"}, \"baxis\": {\"gridcolor\": \"white\", \"linecolor\": \"white\", \"ticks\": \"\"}, \"bgcolor\": \"#E5ECF6\", \"caxis\": {\"gridcolor\": \"white\", \"linecolor\": \"white\", \"ticks\": \"\"}}, \"title\": {\"x\": 0.05}, \"xaxis\": {\"automargin\": true, \"gridcolor\": \"white\", \"linecolor\": \"white\", \"ticks\": \"\", \"title\": {\"standoff\": 15}, \"zerolinecolor\": \"white\", \"zerolinewidth\": 2}, \"yaxis\": {\"automargin\": true, \"gridcolor\": \"white\", \"linecolor\": \"white\", \"ticks\": \"\", \"title\": {\"standoff\": 15}, \"zerolinecolor\": \"white\", \"zerolinewidth\": 2}}}, \"title\": {\"font\": {\"size\": 25}, \"text\": \"EU \\uac8c\\uc784 \\uc21c\\uc704 TOP 5\", \"x\": 0.5}, \"width\": 1200, \"xaxis\": {\"anchor\": \"y\", \"domain\": [0.0, 1.0], \"title\": {\"text\": \"Year\"}}, \"yaxis\": {\"anchor\": \"x\", \"domain\": [0.0, 1.0], \"title\": {\"text\": \"\\ucd9c\\uace0\\ub7c9\"}}},\n",
              "                        {\"responsive\": true}\n",
              "                    ).then(function(){\n",
              "                            \n",
              "var gd = document.getElementById('f9151357-109f-4af5-8972-82c786f4ab4e');\n",
              "var x = new MutationObserver(function (mutations, observer) {{\n",
              "        var display = window.getComputedStyle(gd).display;\n",
              "        if (!display || display === 'none') {{\n",
              "            console.log([gd, 'removed!']);\n",
              "            Plotly.purge(gd);\n",
              "            observer.disconnect();\n",
              "        }}\n",
              "}});\n",
              "\n",
              "// Listen for the removal of the full notebook cells\n",
              "var notebookContainer = gd.closest('#notebook-container');\n",
              "if (notebookContainer) {{\n",
              "    x.observe(notebookContainer, {childList: true});\n",
              "}}\n",
              "\n",
              "// Listen for the clearing of the current output cell\n",
              "var outputEl = gd.closest('.output');\n",
              "if (outputEl) {{\n",
              "    x.observe(outputEl, {childList: true});\n",
              "}}\n",
              "\n",
              "                        })\n",
              "                };\n",
              "                \n",
              "            </script>\n",
              "        </div>\n",
              "</body>\n",
              "</html>"
            ]
          },
          "metadata": {}
        },
        {
          "output_type": "display_data",
          "data": {
            "text/html": [
              "<html>\n",
              "<head><meta charset=\"utf-8\" /></head>\n",
              "<body>\n",
              "    <div>\n",
              "            <script src=\"https://cdnjs.cloudflare.com/ajax/libs/mathjax/2.7.5/MathJax.js?config=TeX-AMS-MML_SVG\"></script><script type=\"text/javascript\">if (window.MathJax) {MathJax.Hub.Config({SVG: {font: \"STIX-Web\"}});}</script>\n",
              "                <script type=\"text/javascript\">window.PlotlyConfig = {MathJaxConfig: 'local'};</script>\n",
              "        <script src=\"https://cdn.plot.ly/plotly-latest.min.js\"></script>    \n",
              "            <div id=\"6f03d93e-1be0-4f9a-a4ef-7f4f0ae5fa72\" class=\"plotly-graph-div\" style=\"height:800px; width:1200px;\"></div>\n",
              "            <script type=\"text/javascript\">\n",
              "                \n",
              "                    window.PLOTLYENV=window.PLOTLYENV || {};\n",
              "                    \n",
              "                if (document.getElementById(\"6f03d93e-1be0-4f9a-a4ef-7f4f0ae5fa72\")) {\n",
              "                    Plotly.newPlot(\n",
              "                        '6f03d93e-1be0-4f9a-a4ef-7f4f0ae5fa72',\n",
              "                        [{\"alignmentgroup\": \"True\", \"hoverlabel\": {\"namelength\": 0}, \"hovertemplate\": \"Genre=Role-Playing<br>Year=%{x}<br>value=%{y}<br>Name=%{text}\", \"legendgroup\": \"Genre=Role-Playing\", \"marker\": {\"color\": \"#636efa\"}, \"name\": \"Role-Playing\", \"offsetgroup\": \"Genre=Role-Playing\", \"orientation\": \"v\", \"showlegend\": true, \"text\": [\"Pokemon Black/Pokemon White\", \"Monster Hunter Freedom 3\", \"Dragon Quest VI: Realms of Revelation\", \"Dragon Quest Monsters: Joker 2\", \"Monster Hunter Tri\", \"Final Fantasy XIII-2\", \"Pokemon Black 2/Pokemon White 2\", \"Dragon Quest Monsters: Terry's Wonderland 3D\", \"Monster Hunter 4\", \"Puzzle & Dragons\", \"Yokai Watch\", \"Dragon Quest VII: Warriors of Eden\", \"Yokai Watch 2 Ganso/Honke\", \"Pokemon Omega Ruby/Pokemon Alpha Sapphire\", \"Yokai Watch 2 Shinuchi\", \"Monster Hunter 4 Ultimate\", \"Dragon Quest Builders: Revive Alefgard\", \"Dragon Quest Monsters Joker 3\"], \"textposition\": \"auto\", \"type\": \"bar\", \"x\": [2010, 2010, 2010, 2010, 2011, 2011, 2012, 2012, 2013, 2013, 2013, 2013, 2014, 2014, 2014, 2014, 2016, 2016], \"xaxis\": \"x\", \"y\": [5.65, 4.87, 1.35, 1.24, 1.96, 0.91, 3.14, 0.96, 3.44, 1.51, 1.33, 1.3, 3.18, 3.08, 2.68, 2.62, 0.64, 0.63], \"yaxis\": \"y\"}, {\"alignmentgroup\": \"True\", \"hoverlabel\": {\"namelength\": 0}, \"hovertemplate\": \"Genre=Platform<br>Year=%{x}<br>value=%{y}<br>Name=%{text}\", \"legendgroup\": \"Genre=Platform\", \"marker\": {\"color\": \"#EF553B\"}, \"name\": \"Platform\", \"offsetgroup\": \"Genre=Platform\", \"orientation\": \"v\", \"showlegend\": true, \"text\": [\"Donkey Kong Country Returns\", \"Super Mario 3D Land\", \"New Super Mario Bros. 2\", \"New Super Mario Bros. U\", \"Super Mario Maker\"], \"textposition\": \"auto\", \"type\": \"bar\", \"x\": [2010, 2011, 2012, 2012, 2015], \"xaxis\": \"x\", \"y\": [1.03, 2.13, 2.47, 1.27, 0.93], \"yaxis\": \"y\"}, {\"alignmentgroup\": \"True\", \"hoverlabel\": {\"namelength\": 0}, \"hovertemplate\": \"Genre=Racing<br>Year=%{x}<br>value=%{y}<br>Name=%{text}\", \"legendgroup\": \"Genre=Racing\", \"marker\": {\"color\": \"#00cc96\"}, \"name\": \"Racing\", \"offsetgroup\": \"Genre=Racing\", \"orientation\": \"v\", \"showlegend\": true, \"text\": [\"Mario Kart 7\"], \"textposition\": \"auto\", \"type\": \"bar\", \"x\": [2011], \"xaxis\": \"x\", \"y\": [2.67], \"yaxis\": \"y\"}, {\"alignmentgroup\": \"True\", \"hoverlabel\": {\"namelength\": 0}, \"hovertemplate\": \"Genre=Action<br>Year=%{x}<br>value=%{y}<br>Name=%{text}\", \"legendgroup\": \"Genre=Action\", \"marker\": {\"color\": \"#ab63fa\"}, \"name\": \"Action\", \"offsetgroup\": \"Genre=Action\", \"orientation\": \"v\", \"showlegend\": true, \"text\": [\"Pro Evolution Soccer 2012\", \"Monster Hunter X\", \"Yokai Watch Busters\", \"Yokai Watch 3\", \"Dragon Quest Heroes II: Twin Kings and the Prophecy's End\", \"Yokai Sangokushi\"], \"textposition\": \"auto\", \"type\": \"bar\", \"x\": [2011, 2015, 2015, 2016, 2016, 2016], \"xaxis\": \"x\", \"y\": [0.9300000000000002, 2.78, 2.28, 1.27, 0.64, 0.55], \"yaxis\": \"y\"}, {\"alignmentgroup\": \"True\", \"hoverlabel\": {\"namelength\": 0}, \"hovertemplate\": \"Genre=Simulation<br>Year=%{x}<br>value=%{y}<br>Name=%{text}\", \"legendgroup\": \"Genre=Simulation\", \"marker\": {\"color\": \"#FFA15A\"}, \"name\": \"Simulation\", \"offsetgroup\": \"Genre=Simulation\", \"orientation\": \"v\", \"showlegend\": true, \"text\": [\"Animal Crossing: New Leaf\", \"Tomodachi Life\", \"Animal Crossing: Happy Home Designer\"], \"textposition\": \"auto\", \"type\": \"bar\", \"x\": [2012, 2013, 2015], \"xaxis\": \"x\", \"y\": [4.36, 1.89, 1.39], \"yaxis\": \"y\"}, {\"alignmentgroup\": \"True\", \"hoverlabel\": {\"namelength\": 0}, \"hovertemplate\": \"Genre=Fighting<br>Year=%{x}<br>value=%{y}<br>Name=%{text}\", \"legendgroup\": \"Genre=Fighting\", \"marker\": {\"color\": \"#19d3f3\"}, \"name\": \"Fighting\", \"offsetgroup\": \"Genre=Fighting\", \"orientation\": \"v\", \"showlegend\": true, \"text\": [\"Super Smash Bros. for Wii U and 3DS\"], \"textposition\": \"auto\", \"type\": \"bar\", \"x\": [2014], \"xaxis\": \"x\", \"y\": [3.2199999999999998], \"yaxis\": \"y\"}, {\"alignmentgroup\": \"True\", \"hoverlabel\": {\"namelength\": 0}, \"hovertemplate\": \"Genre=Shooter<br>Year=%{x}<br>value=%{y}<br>Name=%{text}\", \"legendgroup\": \"Genre=Shooter\", \"marker\": {\"color\": \"#FF6692\"}, \"name\": \"Shooter\", \"offsetgroup\": \"Genre=Shooter\", \"orientation\": \"v\", \"showlegend\": true, \"text\": [\"Splatoon\"], \"textposition\": \"auto\", \"type\": \"bar\", \"x\": [2015], \"xaxis\": \"x\", \"y\": [1.44], \"yaxis\": \"y\"}],\n",
              "                        {\"barmode\": \"relative\", \"font\": {\"color\": \"black\", \"size\": 11}, \"height\": 800, \"legend\": {\"tracegroupgap\": 0}, \"template\": {\"data\": {\"bar\": [{\"error_x\": {\"color\": \"#2a3f5f\"}, \"error_y\": {\"color\": \"#2a3f5f\"}, \"marker\": {\"line\": {\"color\": \"#E5ECF6\", \"width\": 0.5}}, \"type\": \"bar\"}], \"barpolar\": [{\"marker\": {\"line\": {\"color\": \"#E5ECF6\", \"width\": 0.5}}, \"type\": \"barpolar\"}], \"carpet\": [{\"aaxis\": {\"endlinecolor\": \"#2a3f5f\", \"gridcolor\": \"white\", \"linecolor\": \"white\", \"minorgridcolor\": \"white\", \"startlinecolor\": \"#2a3f5f\"}, \"baxis\": {\"endlinecolor\": \"#2a3f5f\", \"gridcolor\": \"white\", \"linecolor\": \"white\", \"minorgridcolor\": \"white\", \"startlinecolor\": \"#2a3f5f\"}, \"type\": \"carpet\"}], \"choropleth\": [{\"colorbar\": {\"outlinewidth\": 0, \"ticks\": \"\"}, \"type\": \"choropleth\"}], \"contour\": [{\"colorbar\": {\"outlinewidth\": 0, \"ticks\": \"\"}, \"colorscale\": [[0.0, \"#0d0887\"], [0.1111111111111111, \"#46039f\"], [0.2222222222222222, \"#7201a8\"], [0.3333333333333333, \"#9c179e\"], [0.4444444444444444, \"#bd3786\"], [0.5555555555555556, \"#d8576b\"], [0.6666666666666666, \"#ed7953\"], [0.7777777777777778, \"#fb9f3a\"], [0.8888888888888888, \"#fdca26\"], [1.0, \"#f0f921\"]], \"type\": \"contour\"}], \"contourcarpet\": [{\"colorbar\": {\"outlinewidth\": 0, \"ticks\": \"\"}, \"type\": \"contourcarpet\"}], \"heatmap\": [{\"colorbar\": {\"outlinewidth\": 0, \"ticks\": \"\"}, \"colorscale\": [[0.0, \"#0d0887\"], [0.1111111111111111, \"#46039f\"], [0.2222222222222222, \"#7201a8\"], [0.3333333333333333, \"#9c179e\"], [0.4444444444444444, \"#bd3786\"], [0.5555555555555556, \"#d8576b\"], [0.6666666666666666, \"#ed7953\"], [0.7777777777777778, \"#fb9f3a\"], [0.8888888888888888, \"#fdca26\"], [1.0, \"#f0f921\"]], \"type\": \"heatmap\"}], \"heatmapgl\": [{\"colorbar\": {\"outlinewidth\": 0, \"ticks\": \"\"}, \"colorscale\": [[0.0, \"#0d0887\"], [0.1111111111111111, \"#46039f\"], [0.2222222222222222, \"#7201a8\"], [0.3333333333333333, \"#9c179e\"], [0.4444444444444444, \"#bd3786\"], [0.5555555555555556, \"#d8576b\"], [0.6666666666666666, \"#ed7953\"], [0.7777777777777778, \"#fb9f3a\"], [0.8888888888888888, \"#fdca26\"], [1.0, \"#f0f921\"]], \"type\": \"heatmapgl\"}], \"histogram\": [{\"marker\": {\"colorbar\": {\"outlinewidth\": 0, \"ticks\": \"\"}}, \"type\": \"histogram\"}], \"histogram2d\": [{\"colorbar\": {\"outlinewidth\": 0, \"ticks\": \"\"}, \"colorscale\": [[0.0, \"#0d0887\"], [0.1111111111111111, \"#46039f\"], [0.2222222222222222, \"#7201a8\"], [0.3333333333333333, \"#9c179e\"], [0.4444444444444444, \"#bd3786\"], [0.5555555555555556, \"#d8576b\"], [0.6666666666666666, \"#ed7953\"], [0.7777777777777778, \"#fb9f3a\"], [0.8888888888888888, \"#fdca26\"], [1.0, \"#f0f921\"]], \"type\": \"histogram2d\"}], \"histogram2dcontour\": [{\"colorbar\": {\"outlinewidth\": 0, \"ticks\": \"\"}, \"colorscale\": [[0.0, \"#0d0887\"], [0.1111111111111111, \"#46039f\"], [0.2222222222222222, \"#7201a8\"], [0.3333333333333333, \"#9c179e\"], [0.4444444444444444, \"#bd3786\"], [0.5555555555555556, \"#d8576b\"], [0.6666666666666666, \"#ed7953\"], [0.7777777777777778, \"#fb9f3a\"], [0.8888888888888888, \"#fdca26\"], [1.0, \"#f0f921\"]], \"type\": \"histogram2dcontour\"}], \"mesh3d\": [{\"colorbar\": {\"outlinewidth\": 0, \"ticks\": \"\"}, \"type\": \"mesh3d\"}], \"parcoords\": [{\"line\": {\"colorbar\": {\"outlinewidth\": 0, \"ticks\": \"\"}}, \"type\": \"parcoords\"}], \"pie\": [{\"automargin\": true, \"type\": \"pie\"}], \"scatter\": [{\"marker\": {\"colorbar\": {\"outlinewidth\": 0, \"ticks\": \"\"}}, \"type\": \"scatter\"}], \"scatter3d\": [{\"line\": {\"colorbar\": {\"outlinewidth\": 0, \"ticks\": \"\"}}, \"marker\": {\"colorbar\": {\"outlinewidth\": 0, \"ticks\": \"\"}}, \"type\": \"scatter3d\"}], \"scattercarpet\": [{\"marker\": {\"colorbar\": {\"outlinewidth\": 0, \"ticks\": \"\"}}, \"type\": \"scattercarpet\"}], \"scattergeo\": [{\"marker\": {\"colorbar\": {\"outlinewidth\": 0, \"ticks\": \"\"}}, \"type\": \"scattergeo\"}], \"scattergl\": [{\"marker\": {\"colorbar\": {\"outlinewidth\": 0, \"ticks\": \"\"}}, \"type\": \"scattergl\"}], \"scattermapbox\": [{\"marker\": {\"colorbar\": {\"outlinewidth\": 0, \"ticks\": \"\"}}, \"type\": \"scattermapbox\"}], \"scatterpolar\": [{\"marker\": {\"colorbar\": {\"outlinewidth\": 0, \"ticks\": \"\"}}, \"type\": \"scatterpolar\"}], \"scatterpolargl\": [{\"marker\": {\"colorbar\": {\"outlinewidth\": 0, \"ticks\": \"\"}}, \"type\": \"scatterpolargl\"}], \"scatterternary\": [{\"marker\": {\"colorbar\": {\"outlinewidth\": 0, \"ticks\": \"\"}}, \"type\": \"scatterternary\"}], \"surface\": [{\"colorbar\": {\"outlinewidth\": 0, \"ticks\": \"\"}, \"colorscale\": [[0.0, \"#0d0887\"], [0.1111111111111111, \"#46039f\"], [0.2222222222222222, \"#7201a8\"], [0.3333333333333333, \"#9c179e\"], [0.4444444444444444, \"#bd3786\"], [0.5555555555555556, \"#d8576b\"], [0.6666666666666666, \"#ed7953\"], [0.7777777777777778, \"#fb9f3a\"], [0.8888888888888888, \"#fdca26\"], [1.0, \"#f0f921\"]], \"type\": \"surface\"}], \"table\": [{\"cells\": {\"fill\": {\"color\": \"#EBF0F8\"}, \"line\": {\"color\": \"white\"}}, \"header\": {\"fill\": {\"color\": \"#C8D4E3\"}, \"line\": {\"color\": \"white\"}}, \"type\": \"table\"}]}, \"layout\": {\"annotationdefaults\": {\"arrowcolor\": \"#2a3f5f\", \"arrowhead\": 0, \"arrowwidth\": 1}, \"coloraxis\": {\"colorbar\": {\"outlinewidth\": 0, \"ticks\": \"\"}}, \"colorscale\": {\"diverging\": [[0, \"#8e0152\"], [0.1, \"#c51b7d\"], [0.2, \"#de77ae\"], [0.3, \"#f1b6da\"], [0.4, \"#fde0ef\"], [0.5, \"#f7f7f7\"], [0.6, \"#e6f5d0\"], [0.7, \"#b8e186\"], [0.8, \"#7fbc41\"], [0.9, \"#4d9221\"], [1, \"#276419\"]], \"sequential\": [[0.0, \"#0d0887\"], [0.1111111111111111, \"#46039f\"], [0.2222222222222222, \"#7201a8\"], [0.3333333333333333, \"#9c179e\"], [0.4444444444444444, \"#bd3786\"], [0.5555555555555556, \"#d8576b\"], [0.6666666666666666, \"#ed7953\"], [0.7777777777777778, \"#fb9f3a\"], [0.8888888888888888, \"#fdca26\"], [1.0, \"#f0f921\"]], \"sequentialminus\": [[0.0, \"#0d0887\"], [0.1111111111111111, \"#46039f\"], [0.2222222222222222, \"#7201a8\"], [0.3333333333333333, \"#9c179e\"], [0.4444444444444444, \"#bd3786\"], [0.5555555555555556, \"#d8576b\"], [0.6666666666666666, \"#ed7953\"], [0.7777777777777778, \"#fb9f3a\"], [0.8888888888888888, \"#fdca26\"], [1.0, \"#f0f921\"]]}, \"colorway\": [\"#636efa\", \"#EF553B\", \"#00cc96\", \"#ab63fa\", \"#FFA15A\", \"#19d3f3\", \"#FF6692\", \"#B6E880\", \"#FF97FF\", \"#FECB52\"], \"font\": {\"color\": \"#2a3f5f\"}, \"geo\": {\"bgcolor\": \"white\", \"lakecolor\": \"white\", \"landcolor\": \"#E5ECF6\", \"showlakes\": true, \"showland\": true, \"subunitcolor\": \"white\"}, \"hoverlabel\": {\"align\": \"left\"}, \"hovermode\": \"closest\", \"mapbox\": {\"style\": \"light\"}, \"paper_bgcolor\": \"white\", \"plot_bgcolor\": \"#E5ECF6\", \"polar\": {\"angularaxis\": {\"gridcolor\": \"white\", \"linecolor\": \"white\", \"ticks\": \"\"}, \"bgcolor\": \"#E5ECF6\", \"radialaxis\": {\"gridcolor\": \"white\", \"linecolor\": \"white\", \"ticks\": \"\"}}, \"scene\": {\"xaxis\": {\"backgroundcolor\": \"#E5ECF6\", \"gridcolor\": \"white\", \"gridwidth\": 2, \"linecolor\": \"white\", \"showbackground\": true, \"ticks\": \"\", \"zerolinecolor\": \"white\"}, \"yaxis\": {\"backgroundcolor\": \"#E5ECF6\", \"gridcolor\": \"white\", \"gridwidth\": 2, \"linecolor\": \"white\", \"showbackground\": true, \"ticks\": \"\", \"zerolinecolor\": \"white\"}, \"zaxis\": {\"backgroundcolor\": \"#E5ECF6\", \"gridcolor\": \"white\", \"gridwidth\": 2, \"linecolor\": \"white\", \"showbackground\": true, \"ticks\": \"\", \"zerolinecolor\": \"white\"}}, \"shapedefaults\": {\"line\": {\"color\": \"#2a3f5f\"}}, \"ternary\": {\"aaxis\": {\"gridcolor\": \"white\", \"linecolor\": \"white\", \"ticks\": \"\"}, \"baxis\": {\"gridcolor\": \"white\", \"linecolor\": \"white\", \"ticks\": \"\"}, \"bgcolor\": \"#E5ECF6\", \"caxis\": {\"gridcolor\": \"white\", \"linecolor\": \"white\", \"ticks\": \"\"}}, \"title\": {\"x\": 0.05}, \"xaxis\": {\"automargin\": true, \"gridcolor\": \"white\", \"linecolor\": \"white\", \"ticks\": \"\", \"title\": {\"standoff\": 15}, \"zerolinecolor\": \"white\", \"zerolinewidth\": 2}, \"yaxis\": {\"automargin\": true, \"gridcolor\": \"white\", \"linecolor\": \"white\", \"ticks\": \"\", \"title\": {\"standoff\": 15}, \"zerolinecolor\": \"white\", \"zerolinewidth\": 2}}}, \"title\": {\"font\": {\"size\": 25}, \"text\": \"JP \\uac8c\\uc784 \\uc21c\\uc704 TOP 5\", \"x\": 0.5}, \"width\": 1200, \"xaxis\": {\"anchor\": \"y\", \"domain\": [0.0, 1.0], \"title\": {\"text\": \"Year\"}}, \"yaxis\": {\"anchor\": \"x\", \"domain\": [0.0, 1.0], \"title\": {\"text\": \"\\ucd9c\\uace0\\ub7c9\"}}},\n",
              "                        {\"responsive\": true}\n",
              "                    ).then(function(){\n",
              "                            \n",
              "var gd = document.getElementById('6f03d93e-1be0-4f9a-a4ef-7f4f0ae5fa72');\n",
              "var x = new MutationObserver(function (mutations, observer) {{\n",
              "        var display = window.getComputedStyle(gd).display;\n",
              "        if (!display || display === 'none') {{\n",
              "            console.log([gd, 'removed!']);\n",
              "            Plotly.purge(gd);\n",
              "            observer.disconnect();\n",
              "        }}\n",
              "}});\n",
              "\n",
              "// Listen for the removal of the full notebook cells\n",
              "var notebookContainer = gd.closest('#notebook-container');\n",
              "if (notebookContainer) {{\n",
              "    x.observe(notebookContainer, {childList: true});\n",
              "}}\n",
              "\n",
              "// Listen for the clearing of the current output cell\n",
              "var outputEl = gd.closest('.output');\n",
              "if (outputEl) {{\n",
              "    x.observe(outputEl, {childList: true});\n",
              "}}\n",
              "\n",
              "                        })\n",
              "                };\n",
              "                \n",
              "            </script>\n",
              "        </div>\n",
              "</body>\n",
              "</html>"
            ]
          },
          "metadata": {}
        },
        {
          "output_type": "display_data",
          "data": {
            "text/html": [
              "<html>\n",
              "<head><meta charset=\"utf-8\" /></head>\n",
              "<body>\n",
              "    <div>\n",
              "            <script src=\"https://cdnjs.cloudflare.com/ajax/libs/mathjax/2.7.5/MathJax.js?config=TeX-AMS-MML_SVG\"></script><script type=\"text/javascript\">if (window.MathJax) {MathJax.Hub.Config({SVG: {font: \"STIX-Web\"}});}</script>\n",
              "                <script type=\"text/javascript\">window.PlotlyConfig = {MathJaxConfig: 'local'};</script>\n",
              "        <script src=\"https://cdn.plot.ly/plotly-latest.min.js\"></script>    \n",
              "            <div id=\"b76b2ad6-b3e6-4357-90a0-5a47fbac65dd\" class=\"plotly-graph-div\" style=\"height:800px; width:1200px;\"></div>\n",
              "            <script type=\"text/javascript\">\n",
              "                \n",
              "                    window.PLOTLYENV=window.PLOTLYENV || {};\n",
              "                    \n",
              "                if (document.getElementById(\"b76b2ad6-b3e6-4357-90a0-5a47fbac65dd\")) {\n",
              "                    Plotly.newPlot(\n",
              "                        'b76b2ad6-b3e6-4357-90a0-5a47fbac65dd',\n",
              "                        [{\"alignmentgroup\": \"True\", \"hoverlabel\": {\"namelength\": 0}, \"hovertemplate\": \"Genre=Shooter<br>Year=%{x}<br>value=%{y}<br>Name=%{text}\", \"legendgroup\": \"Genre=Shooter\", \"marker\": {\"color\": \"#636efa\"}, \"name\": \"Shooter\", \"offsetgroup\": \"Genre=Shooter\", \"orientation\": \"v\", \"showlegend\": true, \"text\": [\"Call of Duty: Black Ops\", \"Call of Duty: Modern Warfare 3\", \"Battlefield 3\", \"Call of Duty: Black Ops II\", \"Far Cry 3\", \"Call of Duty: Ghosts\", \"Battlefield 4\", \"Call of Duty: Advanced Warfare\", \"Destiny\", \"Call of Duty: Black Ops 3\", \"Star Wars Battlefront (2015)\", \"Tom Clancy's The Division\", \"Uncharted 4: A Thief's End\", \"Overwatch\"], \"textposition\": \"auto\", \"type\": \"bar\", \"x\": [2010, 2011, 2011, 2012, 2012, 2013, 2013, 2014, 2014, 2015, 2015, 2016, 2016, 2016], \"xaxis\": \"x\", \"y\": [3.12, 3.3500000000000005, 2.27, 3.88, 1.1400000000000001, 2.9199999999999995, 1.6, 2.93, 1.6199999999999999, 3.42, 1.58, 0.78, 0.65, 0.38], \"yaxis\": \"y\"}, {\"alignmentgroup\": \"True\", \"hoverlabel\": {\"namelength\": 0}, \"hovertemplate\": \"Genre=Sports<br>Year=%{x}<br>value=%{y}<br>Name=%{text}\", \"legendgroup\": \"Genre=Sports\", \"marker\": {\"color\": \"#EF553B\"}, \"name\": \"Sports\", \"offsetgroup\": \"Genre=Sports\", \"orientation\": \"v\", \"showlegend\": true, \"text\": [\"FIFA Soccer 11\", \"FIFA 12\", \"FIFA 14\", \"FIFA 15\", \"FIFA 16\", \"NBA 2K16\", \"FIFA 17\"], \"textposition\": \"auto\", \"type\": \"bar\", \"x\": [2010, 2011, 2013, 2014, 2015, 2015, 2016], \"xaxis\": \"x\", \"y\": [2.51, 2.41, 2.9799999999999995, 3.2900000000000005, 2.05, 1.17, 0.85], \"yaxis\": \"y\"}, {\"alignmentgroup\": \"True\", \"hoverlabel\": {\"namelength\": 0}, \"hovertemplate\": \"Genre=Racing<br>Year=%{x}<br>value=%{y}<br>Name=%{text}\", \"legendgroup\": \"Genre=Racing\", \"marker\": {\"color\": \"#00cc96\"}, \"name\": \"Racing\", \"offsetgroup\": \"Genre=Racing\", \"orientation\": \"v\", \"showlegend\": true, \"text\": [\"Gran Turismo 5\", \"Need for Speed: Most Wanted\"], \"textposition\": \"auto\", \"type\": \"bar\", \"x\": [2010, 2012], \"xaxis\": \"x\", \"y\": [2.12, 1.03], \"yaxis\": \"y\"}, {\"alignmentgroup\": \"True\", \"hoverlabel\": {\"namelength\": 0}, \"hovertemplate\": \"Genre=Misc<br>Year=%{x}<br>value=%{y}<br>Name=%{text}\", \"legendgroup\": \"Genre=Misc\", \"marker\": {\"color\": \"#ab63fa\"}, \"name\": \"Misc\", \"offsetgroup\": \"Genre=Misc\", \"orientation\": \"v\", \"showlegend\": true, \"text\": [\"Kinect Adventures!\", \"Just Dance 3\", \"Minecraft\"], \"textposition\": \"auto\", \"type\": \"bar\", \"x\": [2010, 2011, 2014], \"xaxis\": \"x\", \"y\": [1.67, 1.32, 2.13], \"yaxis\": \"y\"}, {\"alignmentgroup\": \"True\", \"hoverlabel\": {\"namelength\": 0}, \"hovertemplate\": \"Genre=Action<br>Year=%{x}<br>value=%{y}<br>Name=%{text}\", \"legendgroup\": \"Genre=Action\", \"marker\": {\"color\": \"#FFA15A\"}, \"name\": \"Action\", \"offsetgroup\": \"Genre=Action\", \"orientation\": \"v\", \"showlegend\": true, \"text\": [\"Red Dead Redemption\", \"FIFA Soccer 13\", \"Assassin's Creed III\", \"Grand Theft Auto V\", \"Assassin's Creed IV: Black Flag\", \"Grand Theft Auto V\", \"Far Cry: Primal\"], \"textposition\": \"auto\", \"type\": \"bar\", \"x\": [2010, 2012, 2012, 2013, 2013, 2014, 2016], \"xaxis\": \"x\", \"y\": [1.6, 3.03, 1.7399999999999998, 5.52, 1.6500000000000001, 2.43, 0.41000000000000003], \"yaxis\": \"y\"}, {\"alignmentgroup\": \"True\", \"hoverlabel\": {\"namelength\": 0}, \"hovertemplate\": \"Genre=Role-Playing<br>Year=%{x}<br>value=%{y}<br>Name=%{text}\", \"legendgroup\": \"Genre=Role-Playing\", \"marker\": {\"color\": \"#19d3f3\"}, \"name\": \"Role-Playing\", \"offsetgroup\": \"Genre=Role-Playing\", \"orientation\": \"v\", \"showlegend\": true, \"text\": [\"The Elder Scrolls V: Skyrim\", \"Fallout 4\"], \"textposition\": \"auto\", \"type\": \"bar\", \"x\": [2011, 2015], \"xaxis\": \"x\", \"y\": [2.54, 1.57], \"yaxis\": \"y\"}],\n",
              "                        {\"barmode\": \"relative\", \"font\": {\"color\": \"black\", \"size\": 11}, \"height\": 800, \"legend\": {\"tracegroupgap\": 0}, \"template\": {\"data\": {\"bar\": [{\"error_x\": {\"color\": \"#2a3f5f\"}, \"error_y\": {\"color\": \"#2a3f5f\"}, \"marker\": {\"line\": {\"color\": \"#E5ECF6\", \"width\": 0.5}}, \"type\": \"bar\"}], \"barpolar\": [{\"marker\": {\"line\": {\"color\": \"#E5ECF6\", \"width\": 0.5}}, \"type\": \"barpolar\"}], \"carpet\": [{\"aaxis\": {\"endlinecolor\": \"#2a3f5f\", \"gridcolor\": \"white\", \"linecolor\": \"white\", \"minorgridcolor\": \"white\", \"startlinecolor\": \"#2a3f5f\"}, \"baxis\": {\"endlinecolor\": \"#2a3f5f\", \"gridcolor\": \"white\", \"linecolor\": \"white\", \"minorgridcolor\": \"white\", \"startlinecolor\": \"#2a3f5f\"}, \"type\": \"carpet\"}], \"choropleth\": [{\"colorbar\": {\"outlinewidth\": 0, \"ticks\": \"\"}, \"type\": \"choropleth\"}], \"contour\": [{\"colorbar\": {\"outlinewidth\": 0, \"ticks\": \"\"}, \"colorscale\": [[0.0, \"#0d0887\"], [0.1111111111111111, \"#46039f\"], [0.2222222222222222, \"#7201a8\"], [0.3333333333333333, \"#9c179e\"], [0.4444444444444444, \"#bd3786\"], [0.5555555555555556, \"#d8576b\"], [0.6666666666666666, \"#ed7953\"], [0.7777777777777778, \"#fb9f3a\"], [0.8888888888888888, \"#fdca26\"], [1.0, \"#f0f921\"]], \"type\": \"contour\"}], \"contourcarpet\": [{\"colorbar\": {\"outlinewidth\": 0, \"ticks\": \"\"}, \"type\": \"contourcarpet\"}], \"heatmap\": [{\"colorbar\": {\"outlinewidth\": 0, \"ticks\": \"\"}, \"colorscale\": [[0.0, \"#0d0887\"], [0.1111111111111111, \"#46039f\"], [0.2222222222222222, \"#7201a8\"], [0.3333333333333333, \"#9c179e\"], [0.4444444444444444, \"#bd3786\"], [0.5555555555555556, \"#d8576b\"], [0.6666666666666666, \"#ed7953\"], [0.7777777777777778, \"#fb9f3a\"], [0.8888888888888888, \"#fdca26\"], [1.0, \"#f0f921\"]], \"type\": \"heatmap\"}], \"heatmapgl\": [{\"colorbar\": {\"outlinewidth\": 0, \"ticks\": \"\"}, \"colorscale\": [[0.0, \"#0d0887\"], [0.1111111111111111, \"#46039f\"], [0.2222222222222222, \"#7201a8\"], [0.3333333333333333, \"#9c179e\"], [0.4444444444444444, \"#bd3786\"], [0.5555555555555556, \"#d8576b\"], [0.6666666666666666, \"#ed7953\"], [0.7777777777777778, \"#fb9f3a\"], [0.8888888888888888, \"#fdca26\"], [1.0, \"#f0f921\"]], \"type\": \"heatmapgl\"}], \"histogram\": [{\"marker\": {\"colorbar\": {\"outlinewidth\": 0, \"ticks\": \"\"}}, \"type\": \"histogram\"}], \"histogram2d\": [{\"colorbar\": {\"outlinewidth\": 0, \"ticks\": \"\"}, \"colorscale\": [[0.0, \"#0d0887\"], [0.1111111111111111, \"#46039f\"], [0.2222222222222222, \"#7201a8\"], [0.3333333333333333, \"#9c179e\"], [0.4444444444444444, \"#bd3786\"], [0.5555555555555556, \"#d8576b\"], [0.6666666666666666, \"#ed7953\"], [0.7777777777777778, \"#fb9f3a\"], [0.8888888888888888, \"#fdca26\"], [1.0, \"#f0f921\"]], \"type\": \"histogram2d\"}], \"histogram2dcontour\": [{\"colorbar\": {\"outlinewidth\": 0, \"ticks\": \"\"}, \"colorscale\": [[0.0, \"#0d0887\"], [0.1111111111111111, \"#46039f\"], [0.2222222222222222, \"#7201a8\"], [0.3333333333333333, \"#9c179e\"], [0.4444444444444444, \"#bd3786\"], [0.5555555555555556, \"#d8576b\"], [0.6666666666666666, \"#ed7953\"], [0.7777777777777778, \"#fb9f3a\"], [0.8888888888888888, \"#fdca26\"], [1.0, \"#f0f921\"]], \"type\": \"histogram2dcontour\"}], \"mesh3d\": [{\"colorbar\": {\"outlinewidth\": 0, \"ticks\": \"\"}, \"type\": \"mesh3d\"}], \"parcoords\": [{\"line\": {\"colorbar\": {\"outlinewidth\": 0, \"ticks\": \"\"}}, \"type\": \"parcoords\"}], \"pie\": [{\"automargin\": true, \"type\": \"pie\"}], \"scatter\": [{\"marker\": {\"colorbar\": {\"outlinewidth\": 0, \"ticks\": \"\"}}, \"type\": \"scatter\"}], \"scatter3d\": [{\"line\": {\"colorbar\": {\"outlinewidth\": 0, \"ticks\": \"\"}}, \"marker\": {\"colorbar\": {\"outlinewidth\": 0, \"ticks\": \"\"}}, \"type\": \"scatter3d\"}], \"scattercarpet\": [{\"marker\": {\"colorbar\": {\"outlinewidth\": 0, \"ticks\": \"\"}}, \"type\": \"scattercarpet\"}], \"scattergeo\": [{\"marker\": {\"colorbar\": {\"outlinewidth\": 0, \"ticks\": \"\"}}, \"type\": \"scattergeo\"}], \"scattergl\": [{\"marker\": {\"colorbar\": {\"outlinewidth\": 0, \"ticks\": \"\"}}, \"type\": \"scattergl\"}], \"scattermapbox\": [{\"marker\": {\"colorbar\": {\"outlinewidth\": 0, \"ticks\": \"\"}}, \"type\": \"scattermapbox\"}], \"scatterpolar\": [{\"marker\": {\"colorbar\": {\"outlinewidth\": 0, \"ticks\": \"\"}}, \"type\": \"scatterpolar\"}], \"scatterpolargl\": [{\"marker\": {\"colorbar\": {\"outlinewidth\": 0, \"ticks\": \"\"}}, \"type\": \"scatterpolargl\"}], \"scatterternary\": [{\"marker\": {\"colorbar\": {\"outlinewidth\": 0, \"ticks\": \"\"}}, \"type\": \"scatterternary\"}], \"surface\": [{\"colorbar\": {\"outlinewidth\": 0, \"ticks\": \"\"}, \"colorscale\": [[0.0, \"#0d0887\"], [0.1111111111111111, \"#46039f\"], [0.2222222222222222, \"#7201a8\"], [0.3333333333333333, \"#9c179e\"], [0.4444444444444444, \"#bd3786\"], [0.5555555555555556, \"#d8576b\"], [0.6666666666666666, \"#ed7953\"], [0.7777777777777778, \"#fb9f3a\"], [0.8888888888888888, \"#fdca26\"], [1.0, \"#f0f921\"]], \"type\": \"surface\"}], \"table\": [{\"cells\": {\"fill\": {\"color\": \"#EBF0F8\"}, \"line\": {\"color\": \"white\"}}, \"header\": {\"fill\": {\"color\": \"#C8D4E3\"}, \"line\": {\"color\": \"white\"}}, \"type\": \"table\"}]}, \"layout\": {\"annotationdefaults\": {\"arrowcolor\": \"#2a3f5f\", \"arrowhead\": 0, \"arrowwidth\": 1}, \"coloraxis\": {\"colorbar\": {\"outlinewidth\": 0, \"ticks\": \"\"}}, \"colorscale\": {\"diverging\": [[0, \"#8e0152\"], [0.1, \"#c51b7d\"], [0.2, \"#de77ae\"], [0.3, \"#f1b6da\"], [0.4, \"#fde0ef\"], [0.5, \"#f7f7f7\"], [0.6, \"#e6f5d0\"], [0.7, \"#b8e186\"], [0.8, \"#7fbc41\"], [0.9, \"#4d9221\"], [1, \"#276419\"]], \"sequential\": [[0.0, \"#0d0887\"], [0.1111111111111111, \"#46039f\"], [0.2222222222222222, \"#7201a8\"], [0.3333333333333333, \"#9c179e\"], [0.4444444444444444, \"#bd3786\"], [0.5555555555555556, \"#d8576b\"], [0.6666666666666666, \"#ed7953\"], [0.7777777777777778, \"#fb9f3a\"], [0.8888888888888888, \"#fdca26\"], [1.0, \"#f0f921\"]], \"sequentialminus\": [[0.0, \"#0d0887\"], [0.1111111111111111, \"#46039f\"], [0.2222222222222222, \"#7201a8\"], [0.3333333333333333, \"#9c179e\"], [0.4444444444444444, \"#bd3786\"], [0.5555555555555556, \"#d8576b\"], [0.6666666666666666, \"#ed7953\"], [0.7777777777777778, \"#fb9f3a\"], [0.8888888888888888, \"#fdca26\"], [1.0, \"#f0f921\"]]}, \"colorway\": [\"#636efa\", \"#EF553B\", \"#00cc96\", \"#ab63fa\", \"#FFA15A\", \"#19d3f3\", \"#FF6692\", \"#B6E880\", \"#FF97FF\", \"#FECB52\"], \"font\": {\"color\": \"#2a3f5f\"}, \"geo\": {\"bgcolor\": \"white\", \"lakecolor\": \"white\", \"landcolor\": \"#E5ECF6\", \"showlakes\": true, \"showland\": true, \"subunitcolor\": \"white\"}, \"hoverlabel\": {\"align\": \"left\"}, \"hovermode\": \"closest\", \"mapbox\": {\"style\": \"light\"}, \"paper_bgcolor\": \"white\", \"plot_bgcolor\": \"#E5ECF6\", \"polar\": {\"angularaxis\": {\"gridcolor\": \"white\", \"linecolor\": \"white\", \"ticks\": \"\"}, \"bgcolor\": \"#E5ECF6\", \"radialaxis\": {\"gridcolor\": \"white\", \"linecolor\": \"white\", \"ticks\": \"\"}}, \"scene\": {\"xaxis\": {\"backgroundcolor\": \"#E5ECF6\", \"gridcolor\": \"white\", \"gridwidth\": 2, \"linecolor\": \"white\", \"showbackground\": true, \"ticks\": \"\", \"zerolinecolor\": \"white\"}, \"yaxis\": {\"backgroundcolor\": \"#E5ECF6\", \"gridcolor\": \"white\", \"gridwidth\": 2, \"linecolor\": \"white\", \"showbackground\": true, \"ticks\": \"\", \"zerolinecolor\": \"white\"}, \"zaxis\": {\"backgroundcolor\": \"#E5ECF6\", \"gridcolor\": \"white\", \"gridwidth\": 2, \"linecolor\": \"white\", \"showbackground\": true, \"ticks\": \"\", \"zerolinecolor\": \"white\"}}, \"shapedefaults\": {\"line\": {\"color\": \"#2a3f5f\"}}, \"ternary\": {\"aaxis\": {\"gridcolor\": \"white\", \"linecolor\": \"white\", \"ticks\": \"\"}, \"baxis\": {\"gridcolor\": \"white\", \"linecolor\": \"white\", \"ticks\": \"\"}, \"bgcolor\": \"#E5ECF6\", \"caxis\": {\"gridcolor\": \"white\", \"linecolor\": \"white\", \"ticks\": \"\"}}, \"title\": {\"x\": 0.05}, \"xaxis\": {\"automargin\": true, \"gridcolor\": \"white\", \"linecolor\": \"white\", \"ticks\": \"\", \"title\": {\"standoff\": 15}, \"zerolinecolor\": \"white\", \"zerolinewidth\": 2}, \"yaxis\": {\"automargin\": true, \"gridcolor\": \"white\", \"linecolor\": \"white\", \"ticks\": \"\", \"title\": {\"standoff\": 15}, \"zerolinecolor\": \"white\", \"zerolinewidth\": 2}}}, \"title\": {\"font\": {\"size\": 25}, \"text\": \"Other \\uac8c\\uc784 \\uc21c\\uc704 TOP 5\", \"x\": 0.5}, \"width\": 1200, \"xaxis\": {\"anchor\": \"y\", \"domain\": [0.0, 1.0], \"title\": {\"text\": \"Year\"}}, \"yaxis\": {\"anchor\": \"x\", \"domain\": [0.0, 1.0], \"title\": {\"text\": \"\\ucd9c\\uace0\\ub7c9\"}}},\n",
              "                        {\"responsive\": true}\n",
              "                    ).then(function(){\n",
              "                            \n",
              "var gd = document.getElementById('b76b2ad6-b3e6-4357-90a0-5a47fbac65dd');\n",
              "var x = new MutationObserver(function (mutations, observer) {{\n",
              "        var display = window.getComputedStyle(gd).display;\n",
              "        if (!display || display === 'none') {{\n",
              "            console.log([gd, 'removed!']);\n",
              "            Plotly.purge(gd);\n",
              "            observer.disconnect();\n",
              "        }}\n",
              "}});\n",
              "\n",
              "// Listen for the removal of the full notebook cells\n",
              "var notebookContainer = gd.closest('#notebook-container');\n",
              "if (notebookContainer) {{\n",
              "    x.observe(notebookContainer, {childList: true});\n",
              "}}\n",
              "\n",
              "// Listen for the clearing of the current output cell\n",
              "var outputEl = gd.closest('.output');\n",
              "if (outputEl) {{\n",
              "    x.observe(outputEl, {childList: true});\n",
              "}}\n",
              "\n",
              "                        })\n",
              "                };\n",
              "                \n",
              "            </script>\n",
              "        </div>\n",
              "</body>\n",
              "</html>"
            ]
          },
          "metadata": {}
        }
      ]
    },
    {
      "cell_type": "code",
      "source": [
        "df.head(5)"
      ],
      "metadata": {
        "colab": {
          "base_uri": "https://localhost:8080/",
          "height": 206
        },
        "id": "FX7XnzrOrGbP",
        "outputId": "7b1a26b9-32b2-4950-c8a4-4310da75c3ca"
      },
      "execution_count": 198,
      "outputs": [
        {
          "output_type": "execute_result",
          "data": {
            "text/html": [
              "<div>\n",
              "<style scoped>\n",
              "    .dataframe tbody tr th:only-of-type {\n",
              "        vertical-align: middle;\n",
              "    }\n",
              "\n",
              "    .dataframe tbody tr th {\n",
              "        vertical-align: top;\n",
              "    }\n",
              "\n",
              "    .dataframe thead th {\n",
              "        text-align: right;\n",
              "    }\n",
              "</style>\n",
              "<table border=\"1\" class=\"dataframe\">\n",
              "  <thead>\n",
              "    <tr style=\"text-align: right;\">\n",
              "      <th></th>\n",
              "      <th>Name</th>\n",
              "      <th>Platform</th>\n",
              "      <th>Year</th>\n",
              "      <th>Genre</th>\n",
              "      <th>Publisher</th>\n",
              "      <th>NA_Sales</th>\n",
              "      <th>EU_Sales</th>\n",
              "      <th>JP_Sales</th>\n",
              "      <th>Other_Sales</th>\n",
              "      <th>Total_Sales</th>\n",
              "    </tr>\n",
              "  </thead>\n",
              "  <tbody>\n",
              "    <tr>\n",
              "      <th>7317</th>\n",
              "      <td>Checkers</td>\n",
              "      <td>2600</td>\n",
              "      <td>1980</td>\n",
              "      <td>Misc</td>\n",
              "      <td>Atari</td>\n",
              "      <td>0.22</td>\n",
              "      <td>0.01</td>\n",
              "      <td>0.0</td>\n",
              "      <td>0.00</td>\n",
              "      <td>0.23</td>\n",
              "    </tr>\n",
              "    <tr>\n",
              "      <th>5938</th>\n",
              "      <td>Kaboom!</td>\n",
              "      <td>2600</td>\n",
              "      <td>1980</td>\n",
              "      <td>Misc</td>\n",
              "      <td>Activision</td>\n",
              "      <td>1.07</td>\n",
              "      <td>0.07</td>\n",
              "      <td>0.0</td>\n",
              "      <td>0.01</td>\n",
              "      <td>1.15</td>\n",
              "    </tr>\n",
              "    <tr>\n",
              "      <th>5723</th>\n",
              "      <td>Asteroids</td>\n",
              "      <td>2600</td>\n",
              "      <td>1980</td>\n",
              "      <td>Shooter</td>\n",
              "      <td>Atari</td>\n",
              "      <td>4.00</td>\n",
              "      <td>0.26</td>\n",
              "      <td>0.0</td>\n",
              "      <td>0.05</td>\n",
              "      <td>4.31</td>\n",
              "    </tr>\n",
              "    <tr>\n",
              "      <th>13133</th>\n",
              "      <td>Freeway</td>\n",
              "      <td>2600</td>\n",
              "      <td>1980</td>\n",
              "      <td>Action</td>\n",
              "      <td>Activision</td>\n",
              "      <td>0.32</td>\n",
              "      <td>0.02</td>\n",
              "      <td>0.0</td>\n",
              "      <td>0.00</td>\n",
              "      <td>0.34</td>\n",
              "    </tr>\n",
              "    <tr>\n",
              "      <th>14264</th>\n",
              "      <td>Boxing</td>\n",
              "      <td>2600</td>\n",
              "      <td>1980</td>\n",
              "      <td>Fighting</td>\n",
              "      <td>Activision</td>\n",
              "      <td>0.72</td>\n",
              "      <td>0.04</td>\n",
              "      <td>0.0</td>\n",
              "      <td>0.01</td>\n",
              "      <td>0.77</td>\n",
              "    </tr>\n",
              "  </tbody>\n",
              "</table>\n",
              "</div>"
            ],
            "text/plain": [
              "            Name Platform  Year  ... JP_Sales Other_Sales  Total_Sales\n",
              "7317    Checkers     2600  1980  ...      0.0        0.00         0.23\n",
              "5938     Kaboom!     2600  1980  ...      0.0        0.01         1.15\n",
              "5723   Asteroids     2600  1980  ...      0.0        0.05         4.31\n",
              "13133    Freeway     2600  1980  ...      0.0        0.00         0.34\n",
              "14264     Boxing     2600  1980  ...      0.0        0.01         0.77\n",
              "\n",
              "[5 rows x 10 columns]"
            ]
          },
          "metadata": {},
          "execution_count": 198
        }
      ]
    },
    {
      "cell_type": "code",
      "source": [
        "def showBarByYear(data, target):  \n",
        "  fig = px.bar(data, x = 'Year', y = 'value',\n",
        "                text = target,\n",
        "                color = target,\n",
        "                hover_data=[target],\n",
        "                height=800, width=1200).for_each_trace(lambda t: t.update(name=t.name.split(\"=\")[1]))\n",
        "  fig.update_layout(yaxis_title=\"출고량\")\n",
        "  fig.show()\n",
        "\n",
        "data = PreferenceByYear('Total_Sales', 'Platform', 2010, 2016)\n",
        "showBarByYear(data, 'Platform')"
      ],
      "metadata": {
        "colab": {
          "base_uri": "https://localhost:8080/",
          "height": 817
        },
        "id": "UZBOX_anrSzg",
        "outputId": "3cb137fb-5fcf-46fe-dfac-89ff7050369f"
      },
      "execution_count": 209,
      "outputs": [
        {
          "output_type": "display_data",
          "data": {
            "text/html": [
              "<html>\n",
              "<head><meta charset=\"utf-8\" /></head>\n",
              "<body>\n",
              "    <div>\n",
              "            <script src=\"https://cdnjs.cloudflare.com/ajax/libs/mathjax/2.7.5/MathJax.js?config=TeX-AMS-MML_SVG\"></script><script type=\"text/javascript\">if (window.MathJax) {MathJax.Hub.Config({SVG: {font: \"STIX-Web\"}});}</script>\n",
              "                <script type=\"text/javascript\">window.PlotlyConfig = {MathJaxConfig: 'local'};</script>\n",
              "        <script src=\"https://cdn.plot.ly/plotly-latest.min.js\"></script>    \n",
              "            <div id=\"cf7731d2-8db0-4339-950c-73e265e4a2eb\" class=\"plotly-graph-div\" style=\"height:800px; width:1200px;\"></div>\n",
              "            <script type=\"text/javascript\">\n",
              "                \n",
              "                    window.PLOTLYENV=window.PLOTLYENV || {};\n",
              "                    \n",
              "                if (document.getElementById(\"cf7731d2-8db0-4339-950c-73e265e4a2eb\")) {\n",
              "                    Plotly.newPlot(\n",
              "                        'cf7731d2-8db0-4339-950c-73e265e4a2eb',\n",
              "                        [{\"alignmentgroup\": \"True\", \"customdata\": [[\"PS4\"], [\"PS4\"], [\"PS4\"], [\"PS4\"]], \"hoverlabel\": {\"namelength\": 0}, \"hovertemplate\": \"Platform=%{text}<br>Year=%{x}<br>value=%{y}\", \"legendgroup\": \"Platform=PS4\", \"marker\": {\"color\": \"#636efa\"}, \"name\": \"PS4\", \"offsetgroup\": \"Platform=PS4\", \"orientation\": \"v\", \"showlegend\": true, \"text\": [\"PS4\", \"PS4\", \"PS4\", \"PS4\"], \"textposition\": \"auto\", \"type\": \"bar\", \"x\": [2016, 2015, 2014, 2013], \"xaxis\": \"x\", \"y\": [39.3, 112.86000000000001, 98.83000000000006, 24.76], \"yaxis\": \"y\"}, {\"alignmentgroup\": \"True\", \"customdata\": [[\"XOne\"], [\"XOne\"], [\"XOne\"], [\"XOne\"]], \"hoverlabel\": {\"namelength\": 0}, \"hovertemplate\": \"Platform=%{text}<br>Year=%{x}<br>value=%{y}\", \"legendgroup\": \"Platform=XOne\", \"marker\": {\"color\": \"#EF553B\"}, \"name\": \"XOne\", \"offsetgroup\": \"Platform=XOne\", \"orientation\": \"v\", \"showlegend\": true, \"text\": [\"XOne\", \"XOne\", \"XOne\", \"XOne\"], \"textposition\": \"auto\", \"type\": \"bar\", \"x\": [2016, 2015, 2014, 2013], \"xaxis\": \"x\", \"y\": [12.379999999999997, 57.650000000000006, 52.440000000000005, 18.61], \"yaxis\": \"y\"}, {\"alignmentgroup\": \"True\", \"customdata\": [[\"3DS\"], [\"3DS\"], [\"3DS\"], [\"3DS\"], [\"3DS\"], [\"3DS\"]], \"hoverlabel\": {\"namelength\": 0}, \"hovertemplate\": \"Platform=%{text}<br>Year=%{x}<br>value=%{y}\", \"legendgroup\": \"Platform=3DS\", \"marker\": {\"color\": \"#00cc96\"}, \"name\": \"3DS\", \"offsetgroup\": \"Platform=3DS\", \"orientation\": \"v\", \"showlegend\": true, \"text\": [\"3DS\", \"3DS\", \"3DS\", \"3DS\", \"3DS\", \"3DS\"], \"textposition\": \"auto\", \"type\": \"bar\", \"x\": [2016, 2015, 2014, 2013, 2012, 2011], \"xaxis\": \"x\", \"y\": [6.55, 26.96999999999999, 43.11000000000001, 41.51, 51.10000000000004, 62.580000000000005], \"yaxis\": \"y\"}, {\"alignmentgroup\": \"True\", \"customdata\": [[\"PSV\"], [\"PSV\"], [\"PSV\"], [\"PSV\"], [\"PSV\"], [\"PSV\"]], \"hoverlabel\": {\"namelength\": 0}, \"hovertemplate\": \"Platform=%{text}<br>Year=%{x}<br>value=%{y}\", \"legendgroup\": \"Platform=PSV\", \"marker\": {\"color\": \"#ab63fa\"}, \"name\": \"PSV\", \"offsetgroup\": \"Platform=PSV\", \"orientation\": \"v\", \"showlegend\": true, \"text\": [\"PSV\", \"PSV\", \"PSV\", \"PSV\", \"PSV\", \"PSV\"], \"textposition\": \"auto\", \"type\": \"bar\", \"x\": [2016, 2015, 2014, 2013, 2012, 2011], \"xaxis\": \"x\", \"y\": [3.349999999999998, 7.069999999999994, 14.749999999999996, 12.63, 18.54, 5.199999999999999], \"yaxis\": \"y\"}, {\"alignmentgroup\": \"True\", \"customdata\": [[\"WiiU\"], [\"WiiU\"], [\"WiiU\"], [\"WiiU\"], [\"WiiU\"]], \"hoverlabel\": {\"namelength\": 0}, \"hovertemplate\": \"Platform=%{text}<br>Year=%{x}<br>value=%{y}\", \"legendgroup\": \"Platform=WiiU\", \"marker\": {\"color\": \"#FFA15A\"}, \"name\": \"WiiU\", \"offsetgroup\": \"Platform=WiiU\", \"orientation\": \"v\", \"showlegend\": true, \"text\": [\"WiiU\", \"WiiU\", \"WiiU\", \"WiiU\", \"WiiU\"], \"textposition\": \"auto\", \"type\": \"bar\", \"x\": [2016, 2015, 2014, 2013, 2012], \"xaxis\": \"x\", \"y\": [3.28, 16.37, 22.54, 21.81, 17.79], \"yaxis\": \"y\"}, {\"alignmentgroup\": \"True\", \"customdata\": [[\"PC\"], [\"PC\"], [\"PC\"], [\"PC\"], [\"PC\"], [\"PC\"], [\"PC\"]], \"hoverlabel\": {\"namelength\": 0}, \"hovertemplate\": \"Platform=%{text}<br>Year=%{x}<br>value=%{y}\", \"legendgroup\": \"Platform=PC\", \"marker\": {\"color\": \"#19d3f3\"}, \"name\": \"PC\", \"offsetgroup\": \"Platform=PC\", \"orientation\": \"v\", \"showlegend\": true, \"text\": [\"PC\", \"PC\", \"PC\", \"PC\", \"PC\", \"PC\", \"PC\"], \"textposition\": \"auto\", \"type\": \"bar\", \"x\": [2016, 2015, 2014, 2013, 2012, 2011, 2010], \"xaxis\": \"x\", \"y\": [2.5999999999999988, 8.030000000000001, 13.329999999999995, 12.799999999999995, 23.5, 34.999999999999986, 24.220000000000002], \"yaxis\": \"y\"}, {\"alignmentgroup\": \"True\", \"customdata\": [[\"PS3\"], [\"PS3\"], [\"PS3\"], [\"PS3\"], [\"PS3\"], [\"PS3\"], [\"PS3\"]], \"hoverlabel\": {\"namelength\": 0}, \"hovertemplate\": \"Platform=%{text}<br>Year=%{x}<br>value=%{y}\", \"legendgroup\": \"Platform=PS3\", \"marker\": {\"color\": \"#FF6692\"}, \"name\": \"PS3\", \"offsetgroup\": \"Platform=PS3\", \"orientation\": \"v\", \"showlegend\": true, \"text\": [\"PS3\", \"PS3\", \"PS3\", \"PS3\", \"PS3\", \"PS3\", \"PS3\"], \"textposition\": \"auto\", \"type\": \"bar\", \"x\": [2016, 2015, 2014, 2013, 2012, 2011, 2010], \"xaxis\": \"x\", \"y\": [2.55, 18.179999999999993, 50.970000000000006, 117.42000000000003, 108.32000000000002, 159.37, 144.38000000000005], \"yaxis\": \"y\"}, {\"alignmentgroup\": \"True\", \"customdata\": [[\"X360\"], [\"X360\"], [\"X360\"], [\"X360\"], [\"X360\"], [\"X360\"], [\"X360\"]], \"hoverlabel\": {\"namelength\": 0}, \"hovertemplate\": \"Platform=%{text}<br>Year=%{x}<br>value=%{y}\", \"legendgroup\": \"Platform=X360\", \"marker\": {\"color\": \"#B6E880\"}, \"name\": \"X360\", \"offsetgroup\": \"Platform=X360\", \"orientation\": \"v\", \"showlegend\": true, \"text\": [\"X360\", \"X360\", \"X360\", \"X360\", \"X360\", \"X360\", \"X360\"], \"textposition\": \"auto\", \"type\": \"bar\", \"x\": [2016, 2015, 2014, 2013, 2012, 2011, 2010], \"xaxis\": \"x\", \"y\": [0.8300000000000001, 13.02, 36.41999999999999, 89.55999999999997, 100.81999999999998, 144.54, 170.9500000000001], \"yaxis\": \"y\"}, {\"alignmentgroup\": \"True\", \"customdata\": [[\"Wii\"], [\"Wii\"], [\"Wii\"], [\"Wii\"], [\"Wii\"], [\"Wii\"]], \"hoverlabel\": {\"namelength\": 0}, \"hovertemplate\": \"Platform=%{text}<br>Year=%{x}<br>value=%{y}\", \"legendgroup\": \"Platform=Wii\", \"marker\": {\"color\": \"#FF97FF\"}, \"name\": \"Wii\", \"offsetgroup\": \"Platform=Wii\", \"orientation\": \"v\", \"showlegend\": true, \"text\": [\"Wii\", \"Wii\", \"Wii\", \"Wii\", \"Wii\", \"Wii\"], \"textposition\": \"auto\", \"type\": \"bar\", \"x\": [2015, 2014, 2013, 2012, 2011, 2010], \"xaxis\": \"x\", \"y\": [1.56, 4.43, 9.379999999999999, 22.780000000000005, 62.01999999999998, 123.29000000000003], \"yaxis\": \"y\"}, {\"alignmentgroup\": \"True\", \"customdata\": [[\"PSP\"], [\"PSP\"], [\"PSP\"], [\"PSP\"], [\"PSP\"], [\"PSP\"]], \"hoverlabel\": {\"namelength\": 0}, \"hovertemplate\": \"Platform=%{text}<br>Year=%{x}<br>value=%{y}\", \"legendgroup\": \"Platform=PSP\", \"marker\": {\"color\": \"#FECB52\"}, \"name\": \"PSP\", \"offsetgroup\": \"Platform=PSP\", \"orientation\": \"v\", \"showlegend\": true, \"text\": [\"PSP\", \"PSP\", \"PSP\", \"PSP\", \"PSP\", \"PSP\"], \"textposition\": \"auto\", \"type\": \"bar\", \"x\": [2015, 2014, 2013, 2012, 2011, 2010], \"xaxis\": \"x\", \"y\": [0.12, 0.24000000000000002, 3.19, 7.659999999999997, 17.929999999999993, 35.170000000000016], \"yaxis\": \"y\"}, {\"alignmentgroup\": \"True\", \"customdata\": [[\"DS\"], [\"DS\"], [\"DS\"], [\"DS\"], [\"DS\"]], \"hoverlabel\": {\"namelength\": 0}, \"hovertemplate\": \"Platform=%{text}<br>Year=%{x}<br>value=%{y}\", \"legendgroup\": \"Platform=DS\", \"marker\": {\"color\": \"#636efa\"}, \"name\": \"DS\", \"offsetgroup\": \"Platform=DS\", \"orientation\": \"v\", \"showlegend\": true, \"text\": [\"DS\", \"DS\", \"DS\", \"DS\", \"DS\"], \"textposition\": \"auto\", \"type\": \"bar\", \"x\": [2014, 2013, 2012, 2011, 2010], \"xaxis\": \"x\", \"y\": [0.02, 1.96, 11.549999999999994, 27.759999999999994, 88.02000000000001], \"yaxis\": \"y\"}, {\"alignmentgroup\": \"True\", \"customdata\": [[\"PS2\"], [\"PS2\"]], \"hoverlabel\": {\"namelength\": 0}, \"hovertemplate\": \"Platform=%{text}<br>Year=%{x}<br>value=%{y}\", \"legendgroup\": \"Platform=PS2\", \"marker\": {\"color\": \"#EF553B\"}, \"name\": \"PS2\", \"offsetgroup\": \"Platform=PS2\", \"orientation\": \"v\", \"showlegend\": true, \"text\": [\"PS2\", \"PS2\"], \"textposition\": \"auto\", \"type\": \"bar\", \"x\": [2011, 2010], \"xaxis\": \"x\", \"y\": [0.45, 5.119999999999999], \"yaxis\": \"y\"}],\n",
              "                        {\"barmode\": \"relative\", \"height\": 800, \"legend\": {\"tracegroupgap\": 0}, \"margin\": {\"t\": 60}, \"template\": {\"data\": {\"bar\": [{\"error_x\": {\"color\": \"#2a3f5f\"}, \"error_y\": {\"color\": \"#2a3f5f\"}, \"marker\": {\"line\": {\"color\": \"#E5ECF6\", \"width\": 0.5}}, \"type\": \"bar\"}], \"barpolar\": [{\"marker\": {\"line\": {\"color\": \"#E5ECF6\", \"width\": 0.5}}, \"type\": \"barpolar\"}], \"carpet\": [{\"aaxis\": {\"endlinecolor\": \"#2a3f5f\", \"gridcolor\": \"white\", \"linecolor\": \"white\", \"minorgridcolor\": \"white\", \"startlinecolor\": \"#2a3f5f\"}, \"baxis\": {\"endlinecolor\": \"#2a3f5f\", \"gridcolor\": \"white\", \"linecolor\": \"white\", \"minorgridcolor\": \"white\", \"startlinecolor\": \"#2a3f5f\"}, \"type\": \"carpet\"}], \"choropleth\": [{\"colorbar\": {\"outlinewidth\": 0, \"ticks\": \"\"}, \"type\": \"choropleth\"}], \"contour\": [{\"colorbar\": {\"outlinewidth\": 0, \"ticks\": \"\"}, \"colorscale\": [[0.0, \"#0d0887\"], [0.1111111111111111, \"#46039f\"], [0.2222222222222222, \"#7201a8\"], [0.3333333333333333, \"#9c179e\"], [0.4444444444444444, \"#bd3786\"], [0.5555555555555556, \"#d8576b\"], [0.6666666666666666, \"#ed7953\"], [0.7777777777777778, \"#fb9f3a\"], [0.8888888888888888, \"#fdca26\"], [1.0, \"#f0f921\"]], \"type\": \"contour\"}], \"contourcarpet\": [{\"colorbar\": {\"outlinewidth\": 0, \"ticks\": \"\"}, \"type\": \"contourcarpet\"}], \"heatmap\": [{\"colorbar\": {\"outlinewidth\": 0, \"ticks\": \"\"}, \"colorscale\": [[0.0, \"#0d0887\"], [0.1111111111111111, \"#46039f\"], [0.2222222222222222, \"#7201a8\"], [0.3333333333333333, \"#9c179e\"], [0.4444444444444444, \"#bd3786\"], [0.5555555555555556, \"#d8576b\"], [0.6666666666666666, \"#ed7953\"], [0.7777777777777778, \"#fb9f3a\"], [0.8888888888888888, \"#fdca26\"], [1.0, \"#f0f921\"]], \"type\": \"heatmap\"}], \"heatmapgl\": [{\"colorbar\": {\"outlinewidth\": 0, \"ticks\": \"\"}, \"colorscale\": [[0.0, \"#0d0887\"], [0.1111111111111111, \"#46039f\"], [0.2222222222222222, \"#7201a8\"], [0.3333333333333333, \"#9c179e\"], [0.4444444444444444, \"#bd3786\"], [0.5555555555555556, \"#d8576b\"], [0.6666666666666666, \"#ed7953\"], [0.7777777777777778, \"#fb9f3a\"], [0.8888888888888888, \"#fdca26\"], [1.0, \"#f0f921\"]], \"type\": \"heatmapgl\"}], \"histogram\": [{\"marker\": {\"colorbar\": {\"outlinewidth\": 0, \"ticks\": \"\"}}, \"type\": \"histogram\"}], \"histogram2d\": [{\"colorbar\": {\"outlinewidth\": 0, \"ticks\": \"\"}, \"colorscale\": [[0.0, \"#0d0887\"], [0.1111111111111111, \"#46039f\"], [0.2222222222222222, \"#7201a8\"], [0.3333333333333333, \"#9c179e\"], [0.4444444444444444, \"#bd3786\"], [0.5555555555555556, \"#d8576b\"], [0.6666666666666666, \"#ed7953\"], [0.7777777777777778, \"#fb9f3a\"], [0.8888888888888888, \"#fdca26\"], [1.0, \"#f0f921\"]], \"type\": \"histogram2d\"}], \"histogram2dcontour\": [{\"colorbar\": {\"outlinewidth\": 0, \"ticks\": \"\"}, \"colorscale\": [[0.0, \"#0d0887\"], [0.1111111111111111, \"#46039f\"], [0.2222222222222222, \"#7201a8\"], [0.3333333333333333, \"#9c179e\"], [0.4444444444444444, \"#bd3786\"], [0.5555555555555556, \"#d8576b\"], [0.6666666666666666, \"#ed7953\"], [0.7777777777777778, \"#fb9f3a\"], [0.8888888888888888, \"#fdca26\"], [1.0, \"#f0f921\"]], \"type\": \"histogram2dcontour\"}], \"mesh3d\": [{\"colorbar\": {\"outlinewidth\": 0, \"ticks\": \"\"}, \"type\": \"mesh3d\"}], \"parcoords\": [{\"line\": {\"colorbar\": {\"outlinewidth\": 0, \"ticks\": \"\"}}, \"type\": \"parcoords\"}], \"pie\": [{\"automargin\": true, \"type\": \"pie\"}], \"scatter\": [{\"marker\": {\"colorbar\": {\"outlinewidth\": 0, \"ticks\": \"\"}}, \"type\": \"scatter\"}], \"scatter3d\": [{\"line\": {\"colorbar\": {\"outlinewidth\": 0, \"ticks\": \"\"}}, \"marker\": {\"colorbar\": {\"outlinewidth\": 0, \"ticks\": \"\"}}, \"type\": \"scatter3d\"}], \"scattercarpet\": [{\"marker\": {\"colorbar\": {\"outlinewidth\": 0, \"ticks\": \"\"}}, \"type\": \"scattercarpet\"}], \"scattergeo\": [{\"marker\": {\"colorbar\": {\"outlinewidth\": 0, \"ticks\": \"\"}}, \"type\": \"scattergeo\"}], \"scattergl\": [{\"marker\": {\"colorbar\": {\"outlinewidth\": 0, \"ticks\": \"\"}}, \"type\": \"scattergl\"}], \"scattermapbox\": [{\"marker\": {\"colorbar\": {\"outlinewidth\": 0, \"ticks\": \"\"}}, \"type\": \"scattermapbox\"}], \"scatterpolar\": [{\"marker\": {\"colorbar\": {\"outlinewidth\": 0, \"ticks\": \"\"}}, \"type\": \"scatterpolar\"}], \"scatterpolargl\": [{\"marker\": {\"colorbar\": {\"outlinewidth\": 0, \"ticks\": \"\"}}, \"type\": \"scatterpolargl\"}], \"scatterternary\": [{\"marker\": {\"colorbar\": {\"outlinewidth\": 0, \"ticks\": \"\"}}, \"type\": \"scatterternary\"}], \"surface\": [{\"colorbar\": {\"outlinewidth\": 0, \"ticks\": \"\"}, \"colorscale\": [[0.0, \"#0d0887\"], [0.1111111111111111, \"#46039f\"], [0.2222222222222222, \"#7201a8\"], [0.3333333333333333, \"#9c179e\"], [0.4444444444444444, \"#bd3786\"], [0.5555555555555556, \"#d8576b\"], [0.6666666666666666, \"#ed7953\"], [0.7777777777777778, \"#fb9f3a\"], [0.8888888888888888, \"#fdca26\"], [1.0, \"#f0f921\"]], \"type\": \"surface\"}], \"table\": [{\"cells\": {\"fill\": {\"color\": \"#EBF0F8\"}, \"line\": {\"color\": \"white\"}}, \"header\": {\"fill\": {\"color\": \"#C8D4E3\"}, \"line\": {\"color\": \"white\"}}, \"type\": \"table\"}]}, \"layout\": {\"annotationdefaults\": {\"arrowcolor\": \"#2a3f5f\", \"arrowhead\": 0, \"arrowwidth\": 1}, \"coloraxis\": {\"colorbar\": {\"outlinewidth\": 0, \"ticks\": \"\"}}, \"colorscale\": {\"diverging\": [[0, \"#8e0152\"], [0.1, \"#c51b7d\"], [0.2, \"#de77ae\"], [0.3, \"#f1b6da\"], [0.4, \"#fde0ef\"], [0.5, \"#f7f7f7\"], [0.6, \"#e6f5d0\"], [0.7, \"#b8e186\"], [0.8, \"#7fbc41\"], [0.9, \"#4d9221\"], [1, \"#276419\"]], \"sequential\": [[0.0, \"#0d0887\"], [0.1111111111111111, \"#46039f\"], [0.2222222222222222, \"#7201a8\"], [0.3333333333333333, \"#9c179e\"], [0.4444444444444444, \"#bd3786\"], [0.5555555555555556, \"#d8576b\"], [0.6666666666666666, \"#ed7953\"], [0.7777777777777778, \"#fb9f3a\"], [0.8888888888888888, \"#fdca26\"], [1.0, \"#f0f921\"]], \"sequentialminus\": [[0.0, \"#0d0887\"], [0.1111111111111111, \"#46039f\"], [0.2222222222222222, \"#7201a8\"], [0.3333333333333333, \"#9c179e\"], [0.4444444444444444, \"#bd3786\"], [0.5555555555555556, \"#d8576b\"], [0.6666666666666666, \"#ed7953\"], [0.7777777777777778, \"#fb9f3a\"], [0.8888888888888888, \"#fdca26\"], [1.0, \"#f0f921\"]]}, \"colorway\": [\"#636efa\", \"#EF553B\", \"#00cc96\", \"#ab63fa\", \"#FFA15A\", \"#19d3f3\", \"#FF6692\", \"#B6E880\", \"#FF97FF\", \"#FECB52\"], \"font\": {\"color\": \"#2a3f5f\"}, \"geo\": {\"bgcolor\": \"white\", \"lakecolor\": \"white\", \"landcolor\": \"#E5ECF6\", \"showlakes\": true, \"showland\": true, \"subunitcolor\": \"white\"}, \"hoverlabel\": {\"align\": \"left\"}, \"hovermode\": \"closest\", \"mapbox\": {\"style\": \"light\"}, \"paper_bgcolor\": \"white\", \"plot_bgcolor\": \"#E5ECF6\", \"polar\": {\"angularaxis\": {\"gridcolor\": \"white\", \"linecolor\": \"white\", \"ticks\": \"\"}, \"bgcolor\": \"#E5ECF6\", \"radialaxis\": {\"gridcolor\": \"white\", \"linecolor\": \"white\", \"ticks\": \"\"}}, \"scene\": {\"xaxis\": {\"backgroundcolor\": \"#E5ECF6\", \"gridcolor\": \"white\", \"gridwidth\": 2, \"linecolor\": \"white\", \"showbackground\": true, \"ticks\": \"\", \"zerolinecolor\": \"white\"}, \"yaxis\": {\"backgroundcolor\": \"#E5ECF6\", \"gridcolor\": \"white\", \"gridwidth\": 2, \"linecolor\": \"white\", \"showbackground\": true, \"ticks\": \"\", \"zerolinecolor\": \"white\"}, \"zaxis\": {\"backgroundcolor\": \"#E5ECF6\", \"gridcolor\": \"white\", \"gridwidth\": 2, \"linecolor\": \"white\", \"showbackground\": true, \"ticks\": \"\", \"zerolinecolor\": \"white\"}}, \"shapedefaults\": {\"line\": {\"color\": \"#2a3f5f\"}}, \"ternary\": {\"aaxis\": {\"gridcolor\": \"white\", \"linecolor\": \"white\", \"ticks\": \"\"}, \"baxis\": {\"gridcolor\": \"white\", \"linecolor\": \"white\", \"ticks\": \"\"}, \"bgcolor\": \"#E5ECF6\", \"caxis\": {\"gridcolor\": \"white\", \"linecolor\": \"white\", \"ticks\": \"\"}}, \"title\": {\"x\": 0.05}, \"xaxis\": {\"automargin\": true, \"gridcolor\": \"white\", \"linecolor\": \"white\", \"ticks\": \"\", \"title\": {\"standoff\": 15}, \"zerolinecolor\": \"white\", \"zerolinewidth\": 2}, \"yaxis\": {\"automargin\": true, \"gridcolor\": \"white\", \"linecolor\": \"white\", \"ticks\": \"\", \"title\": {\"standoff\": 15}, \"zerolinecolor\": \"white\", \"zerolinewidth\": 2}}}, \"width\": 1200, \"xaxis\": {\"anchor\": \"y\", \"domain\": [0.0, 1.0], \"title\": {\"text\": \"Year\"}}, \"yaxis\": {\"anchor\": \"x\", \"domain\": [0.0, 1.0], \"title\": {\"text\": \"\\ucd9c\\uace0\\ub7c9\"}}},\n",
              "                        {\"responsive\": true}\n",
              "                    ).then(function(){\n",
              "                            \n",
              "var gd = document.getElementById('cf7731d2-8db0-4339-950c-73e265e4a2eb');\n",
              "var x = new MutationObserver(function (mutations, observer) {{\n",
              "        var display = window.getComputedStyle(gd).display;\n",
              "        if (!display || display === 'none') {{\n",
              "            console.log([gd, 'removed!']);\n",
              "            Plotly.purge(gd);\n",
              "            observer.disconnect();\n",
              "        }}\n",
              "}});\n",
              "\n",
              "// Listen for the removal of the full notebook cells\n",
              "var notebookContainer = gd.closest('#notebook-container');\n",
              "if (notebookContainer) {{\n",
              "    x.observe(notebookContainer, {childList: true});\n",
              "}}\n",
              "\n",
              "// Listen for the clearing of the current output cell\n",
              "var outputEl = gd.closest('.output');\n",
              "if (outputEl) {{\n",
              "    x.observe(outputEl, {childList: true});\n",
              "}}\n",
              "\n",
              "                        })\n",
              "                };\n",
              "                \n",
              "            </script>\n",
              "        </div>\n",
              "</body>\n",
              "</html>"
            ]
          },
          "metadata": {}
        }
      ]
    },
    {
      "cell_type": "code",
      "source": [
        "def PreferenceByPublisher(area, target, start, end, top = 5):\n",
        "  con = (df['Year'] >= start) & (df['Year'] <= end)\n",
        "  melt = pd.melt(df[con], id_vars=[target,'Publisher'], value_vars=area)\n",
        "  melt_sum = melt.groupby(['Publisher', target])['value'].agg(**{'value':'sum'}).sort_values(by=['value'], ascending=False)\n",
        "  melt_sum.reset_index(inplace=True)\n",
        "  publisher_sum = melt.groupby(['Publisher'])['value'].agg(**{'value':'sum'}).sort_values(by=['value'], ascending=False)\n",
        "  publisher_sum.sort_values(by='value', ascending=False, inplace=True)\n",
        "  publisher_sum.reset_index(inplace=True)\n",
        "  topPublisherColumns = publisher_sum.head(top)['Publisher']\n",
        "  melt_sum.set_index('Publisher', inplace=True)\n",
        "  return melt_sum.loc[topPublisherColumns].reset_index()\n",
        "\n",
        "def showBarByPublisher(data, target):  \n",
        "  fig = px.bar(data, x = 'Publisher', y = 'value',\n",
        "                text = target,\n",
        "                color = target,\n",
        "                hover_data=[target],\n",
        "                height=800, width=1200).for_each_trace(lambda t: t.update(name=t.name.split(\"=\")[1]))\n",
        "  fig.update_layout(yaxis_title=\"출고량\")\n",
        "  fig.show()\n",
        "\n",
        "data = PreferenceByPublisher('Total_Sales', 'Genre', 2010, 2020)\n",
        "showBarByPublisher(data, 'Genre')"
      ],
      "metadata": {
        "colab": {
          "base_uri": "https://localhost:8080/",
          "height": 817
        },
        "id": "tjBY3MvkvH_L",
        "outputId": "a4605f16-0b14-45db-e6a2-22cfe86cc7f6"
      },
      "execution_count": 201,
      "outputs": [
        {
          "output_type": "display_data",
          "data": {
            "text/html": [
              "<html>\n",
              "<head><meta charset=\"utf-8\" /></head>\n",
              "<body>\n",
              "    <div>\n",
              "            <script src=\"https://cdnjs.cloudflare.com/ajax/libs/mathjax/2.7.5/MathJax.js?config=TeX-AMS-MML_SVG\"></script><script type=\"text/javascript\">if (window.MathJax) {MathJax.Hub.Config({SVG: {font: \"STIX-Web\"}});}</script>\n",
              "                <script type=\"text/javascript\">window.PlotlyConfig = {MathJaxConfig: 'local'};</script>\n",
              "        <script src=\"https://cdn.plot.ly/plotly-latest.min.js\"></script>    \n",
              "            <div id=\"a85a5f0e-32d1-4175-929f-1642924f6d4b\" class=\"plotly-graph-div\" style=\"height:800px; width:1200px;\"></div>\n",
              "            <script type=\"text/javascript\">\n",
              "                \n",
              "                    window.PLOTLYENV=window.PLOTLYENV || {};\n",
              "                    \n",
              "                if (document.getElementById(\"a85a5f0e-32d1-4175-929f-1642924f6d4b\")) {\n",
              "                    Plotly.newPlot(\n",
              "                        'a85a5f0e-32d1-4175-929f-1642924f6d4b',\n",
              "                        [{\"alignmentgroup\": \"True\", \"customdata\": [[\"Sports\"], [\"Sports\"], [\"Sports\"], [\"Sports\"], [\"Sports\"]], \"hoverlabel\": {\"namelength\": 0}, \"hovertemplate\": \"Genre=%{text}<br>Publisher=%{x}<br>value=%{y}\", \"legendgroup\": \"Genre=Sports\", \"marker\": {\"color\": \"#636efa\"}, \"name\": \"Sports\", \"offsetgroup\": \"Genre=Sports\", \"orientation\": \"v\", \"showlegend\": true, \"text\": [\"Sports\", \"Sports\", \"Sports\", \"Sports\", \"Sports\"], \"textposition\": \"auto\", \"type\": \"bar\", \"x\": [\"Electronic Arts\", \"Activision\", \"Nintendo\", \"Ubisoft\", \"Take-Two Interactive\"], \"xaxis\": \"x\", \"y\": [167.66, 7.65, 6.26, 7.36, 50.86999999999999], \"yaxis\": \"y\"}, {\"alignmentgroup\": \"True\", \"customdata\": [[\"Shooter\"], [\"Shooter\"], [\"Shooter\"], [\"Shooter\"], [\"Shooter\"]], \"hoverlabel\": {\"namelength\": 0}, \"hovertemplate\": \"Genre=%{text}<br>Publisher=%{x}<br>value=%{y}\", \"legendgroup\": \"Genre=Shooter\", \"marker\": {\"color\": \"#EF553B\"}, \"name\": \"Shooter\", \"offsetgroup\": \"Genre=Shooter\", \"orientation\": \"v\", \"showlegend\": true, \"text\": [\"Shooter\", \"Shooter\", \"Shooter\", \"Shooter\", \"Shooter\"], \"textposition\": \"auto\", \"type\": \"bar\", \"x\": [\"Electronic Arts\", \"Activision\", \"Nintendo\", \"Ubisoft\", \"Take-Two Interactive\"], \"xaxis\": \"x\", \"y\": [80.16000000000001, 190.82, 5.880000000000001, 30.67, 29.52], \"yaxis\": \"y\"}, {\"alignmentgroup\": \"True\", \"customdata\": [[\"Action\"], [\"Action\"], [\"Action\"], [\"Action\"], [\"Action\"]], \"hoverlabel\": {\"namelength\": 0}, \"hovertemplate\": \"Genre=%{text}<br>Publisher=%{x}<br>value=%{y}\", \"legendgroup\": \"Genre=Action\", \"marker\": {\"color\": \"#00cc96\"}, \"name\": \"Action\", \"offsetgroup\": \"Genre=Action\", \"orientation\": \"v\", \"showlegend\": true, \"text\": [\"Action\", \"Action\", \"Action\", \"Action\", \"Action\"], \"textposition\": \"auto\", \"type\": \"bar\", \"x\": [\"Electronic Arts\", \"Activision\", \"Nintendo\", \"Ubisoft\", \"Take-Two Interactive\"], \"xaxis\": \"x\", \"y\": [43.309999999999995, 40.58000000000003, 35.540000000000006, 85.16999999999999, 82.7], \"yaxis\": \"y\"}, {\"alignmentgroup\": \"True\", \"customdata\": [[\"Role-Playing\"], [\"Role-Playing\"], [\"Role-Playing\"], [\"Role-Playing\"]], \"hoverlabel\": {\"namelength\": 0}, \"hovertemplate\": \"Genre=%{text}<br>Publisher=%{x}<br>value=%{y}\", \"legendgroup\": \"Genre=Role-Playing\", \"marker\": {\"color\": \"#ab63fa\"}, \"name\": \"Role-Playing\", \"offsetgroup\": \"Genre=Role-Playing\", \"orientation\": \"v\", \"showlegend\": true, \"text\": [\"Role-Playing\", \"Role-Playing\", \"Role-Playing\", \"Role-Playing\"], \"textposition\": \"auto\", \"type\": \"bar\", \"x\": [\"Electronic Arts\", \"Activision\", \"Nintendo\", \"Ubisoft\"], \"xaxis\": \"x\", \"y\": [21.49, 15.58, 72.50000000000001, 2.61], \"yaxis\": \"y\"}, {\"alignmentgroup\": \"True\", \"customdata\": [[\"Racing\"], [\"Racing\"], [\"Racing\"], [\"Racing\"]], \"hoverlabel\": {\"namelength\": 0}, \"hovertemplate\": \"Genre=%{text}<br>Publisher=%{x}<br>value=%{y}\", \"legendgroup\": \"Genre=Racing\", \"marker\": {\"color\": \"#FFA15A\"}, \"name\": \"Racing\", \"offsetgroup\": \"Genre=Racing\", \"orientation\": \"v\", \"showlegend\": true, \"text\": [\"Racing\", \"Racing\", \"Racing\", \"Racing\"], \"textposition\": \"auto\", \"type\": \"bar\", \"x\": [\"Electronic Arts\", \"Activision\", \"Nintendo\", \"Ubisoft\"], \"xaxis\": \"x\", \"y\": [21.400000000000002, 5.1000000000000005, 19.17, 6.44], \"yaxis\": \"y\"}, {\"alignmentgroup\": \"True\", \"customdata\": [[\"Simulation\"], [\"Simulation\"], [\"Simulation\"], [\"Simulation\"]], \"hoverlabel\": {\"namelength\": 0}, \"hovertemplate\": \"Genre=%{text}<br>Publisher=%{x}<br>value=%{y}\", \"legendgroup\": \"Genre=Simulation\", \"marker\": {\"color\": \"#19d3f3\"}, \"name\": \"Simulation\", \"offsetgroup\": \"Genre=Simulation\", \"orientation\": \"v\", \"showlegend\": true, \"text\": [\"Simulation\", \"Simulation\", \"Simulation\", \"Simulation\"], \"textposition\": \"auto\", \"type\": \"bar\", \"x\": [\"Electronic Arts\", \"Activision\", \"Nintendo\", \"Ubisoft\"], \"xaxis\": \"x\", \"y\": [17.96, 3.8699999999999997, 23.41, 1.7400000000000002], \"yaxis\": \"y\"}, {\"alignmentgroup\": \"True\", \"customdata\": [[\"Misc\"], [\"Misc\"], [\"Misc\"], [\"Misc\"], [\"Misc\"]], \"hoverlabel\": {\"namelength\": 0}, \"hovertemplate\": \"Genre=%{text}<br>Publisher=%{x}<br>value=%{y}\", \"legendgroup\": \"Genre=Misc\", \"marker\": {\"color\": \"#FF6692\"}, \"name\": \"Misc\", \"offsetgroup\": \"Genre=Misc\", \"orientation\": \"v\", \"showlegend\": true, \"text\": [\"Misc\", \"Misc\", \"Misc\", \"Misc\", \"Misc\"], \"textposition\": \"auto\", \"type\": \"bar\", \"x\": [\"Electronic Arts\", \"Activision\", \"Nintendo\", \"Ubisoft\", \"Take-Two Interactive\"], \"xaxis\": \"x\", \"y\": [3.97, 13.069999999999999, 21.930000000000003, 69.70999999999997, 2.1100000000000003], \"yaxis\": \"y\"}, {\"alignmentgroup\": \"True\", \"customdata\": [[\"Fighting\"], [\"Fighting\"], [\"Fighting\"], [\"Fighting\"]], \"hoverlabel\": {\"namelength\": 0}, \"hovertemplate\": \"Genre=%{text}<br>Publisher=%{x}<br>value=%{y}\", \"legendgroup\": \"Genre=Fighting\", \"marker\": {\"color\": \"#B6E880\"}, \"name\": \"Fighting\", \"offsetgroup\": \"Genre=Fighting\", \"orientation\": \"v\", \"showlegend\": true, \"text\": [\"Fighting\", \"Fighting\", \"Fighting\", \"Fighting\"], \"textposition\": \"auto\", \"type\": \"bar\", \"x\": [\"Electronic Arts\", \"Nintendo\", \"Ubisoft\", \"Take-Two Interactive\"], \"xaxis\": \"x\", \"y\": [2.69, 12.66, 1.12, 0.06], \"yaxis\": \"y\"}, {\"alignmentgroup\": \"True\", \"customdata\": [[\"Adventure\"], [\"Adventure\"], [\"Adventure\"], [\"Adventure\"], [\"Adventure\"]], \"hoverlabel\": {\"namelength\": 0}, \"hovertemplate\": \"Genre=%{text}<br>Publisher=%{x}<br>value=%{y}\", \"legendgroup\": \"Genre=Adventure\", \"marker\": {\"color\": \"#FF97FF\"}, \"name\": \"Adventure\", \"offsetgroup\": \"Genre=Adventure\", \"orientation\": \"v\", \"showlegend\": true, \"text\": [\"Adventure\", \"Adventure\", \"Adventure\", \"Adventure\", \"Adventure\"], \"textposition\": \"auto\", \"type\": \"bar\", \"x\": [\"Electronic Arts\", \"Activision\", \"Nintendo\", \"Ubisoft\", \"Take-Two Interactive\"], \"xaxis\": \"x\", \"y\": [1.2200000000000002, 1.1800000000000002, 2.33, 2.29, 6.2], \"yaxis\": \"y\"}, {\"alignmentgroup\": \"True\", \"customdata\": [[\"Platform\"], [\"Platform\"], [\"Platform\"], [\"Platform\"]], \"hoverlabel\": {\"namelength\": 0}, \"hovertemplate\": \"Genre=%{text}<br>Publisher=%{x}<br>value=%{y}\", \"legendgroup\": \"Genre=Platform\", \"marker\": {\"color\": \"#FECB52\"}, \"name\": \"Platform\", \"offsetgroup\": \"Genre=Platform\", \"orientation\": \"v\", \"showlegend\": true, \"text\": [\"Platform\", \"Platform\", \"Platform\", \"Platform\"], \"textposition\": \"auto\", \"type\": \"bar\", \"x\": [\"Electronic Arts\", \"Activision\", \"Nintendo\", \"Ubisoft\"], \"xaxis\": \"x\", \"y\": [0.52, 7.48, 68.39000000000001, 8.350000000000001], \"yaxis\": \"y\"}, {\"alignmentgroup\": \"True\", \"customdata\": [[\"Strategy\"], [\"Strategy\"], [\"Strategy\"], [\"Strategy\"], [\"Strategy\"]], \"hoverlabel\": {\"namelength\": 0}, \"hovertemplate\": \"Genre=%{text}<br>Publisher=%{x}<br>value=%{y}\", \"legendgroup\": \"Genre=Strategy\", \"marker\": {\"color\": \"#636efa\"}, \"name\": \"Strategy\", \"offsetgroup\": \"Genre=Strategy\", \"orientation\": \"v\", \"showlegend\": true, \"text\": [\"Strategy\", \"Strategy\", \"Strategy\", \"Strategy\", \"Strategy\"], \"textposition\": \"auto\", \"type\": \"bar\", \"x\": [\"Electronic Arts\", \"Activision\", \"Nintendo\", \"Ubisoft\", \"Take-Two Interactive\"], \"xaxis\": \"x\", \"y\": [0.01, 9.009999999999998, 1.6500000000000001, 4.42, 4.599999999999999], \"yaxis\": \"y\"}, {\"alignmentgroup\": \"True\", \"customdata\": [[\"Puzzle\"], [\"Puzzle\"], [\"Puzzle\"]], \"hoverlabel\": {\"namelength\": 0}, \"hovertemplate\": \"Genre=%{text}<br>Publisher=%{x}<br>value=%{y}\", \"legendgroup\": \"Genre=Puzzle\", \"marker\": {\"color\": \"#EF553B\"}, \"name\": \"Puzzle\", \"offsetgroup\": \"Genre=Puzzle\", \"orientation\": \"v\", \"showlegend\": true, \"text\": [\"Puzzle\", \"Puzzle\", \"Puzzle\"], \"textposition\": \"auto\", \"type\": \"bar\", \"x\": [\"Activision\", \"Nintendo\", \"Ubisoft\"], \"xaxis\": \"x\", \"y\": [0.06999999999999999, 8.53, 0.26], \"yaxis\": \"y\"}],\n",
              "                        {\"barmode\": \"relative\", \"height\": 800, \"legend\": {\"tracegroupgap\": 0}, \"margin\": {\"t\": 60}, \"template\": {\"data\": {\"bar\": [{\"error_x\": {\"color\": \"#2a3f5f\"}, \"error_y\": {\"color\": \"#2a3f5f\"}, \"marker\": {\"line\": {\"color\": \"#E5ECF6\", \"width\": 0.5}}, \"type\": \"bar\"}], \"barpolar\": [{\"marker\": {\"line\": {\"color\": \"#E5ECF6\", \"width\": 0.5}}, \"type\": \"barpolar\"}], \"carpet\": [{\"aaxis\": {\"endlinecolor\": \"#2a3f5f\", \"gridcolor\": \"white\", \"linecolor\": \"white\", \"minorgridcolor\": \"white\", \"startlinecolor\": \"#2a3f5f\"}, \"baxis\": {\"endlinecolor\": \"#2a3f5f\", \"gridcolor\": \"white\", \"linecolor\": \"white\", \"minorgridcolor\": \"white\", \"startlinecolor\": \"#2a3f5f\"}, \"type\": \"carpet\"}], \"choropleth\": [{\"colorbar\": {\"outlinewidth\": 0, \"ticks\": \"\"}, \"type\": \"choropleth\"}], \"contour\": [{\"colorbar\": {\"outlinewidth\": 0, \"ticks\": \"\"}, \"colorscale\": [[0.0, \"#0d0887\"], [0.1111111111111111, \"#46039f\"], [0.2222222222222222, \"#7201a8\"], [0.3333333333333333, \"#9c179e\"], [0.4444444444444444, \"#bd3786\"], [0.5555555555555556, \"#d8576b\"], [0.6666666666666666, \"#ed7953\"], [0.7777777777777778, \"#fb9f3a\"], [0.8888888888888888, \"#fdca26\"], [1.0, \"#f0f921\"]], \"type\": \"contour\"}], \"contourcarpet\": [{\"colorbar\": {\"outlinewidth\": 0, \"ticks\": \"\"}, \"type\": \"contourcarpet\"}], \"heatmap\": [{\"colorbar\": {\"outlinewidth\": 0, \"ticks\": \"\"}, \"colorscale\": [[0.0, \"#0d0887\"], [0.1111111111111111, \"#46039f\"], [0.2222222222222222, \"#7201a8\"], [0.3333333333333333, \"#9c179e\"], [0.4444444444444444, \"#bd3786\"], [0.5555555555555556, \"#d8576b\"], [0.6666666666666666, \"#ed7953\"], [0.7777777777777778, \"#fb9f3a\"], [0.8888888888888888, \"#fdca26\"], [1.0, \"#f0f921\"]], \"type\": \"heatmap\"}], \"heatmapgl\": [{\"colorbar\": {\"outlinewidth\": 0, \"ticks\": \"\"}, \"colorscale\": [[0.0, \"#0d0887\"], [0.1111111111111111, \"#46039f\"], [0.2222222222222222, \"#7201a8\"], [0.3333333333333333, \"#9c179e\"], [0.4444444444444444, \"#bd3786\"], [0.5555555555555556, \"#d8576b\"], [0.6666666666666666, \"#ed7953\"], [0.7777777777777778, \"#fb9f3a\"], [0.8888888888888888, \"#fdca26\"], [1.0, \"#f0f921\"]], \"type\": \"heatmapgl\"}], \"histogram\": [{\"marker\": {\"colorbar\": {\"outlinewidth\": 0, \"ticks\": \"\"}}, \"type\": \"histogram\"}], \"histogram2d\": [{\"colorbar\": {\"outlinewidth\": 0, \"ticks\": \"\"}, \"colorscale\": [[0.0, \"#0d0887\"], [0.1111111111111111, \"#46039f\"], [0.2222222222222222, \"#7201a8\"], [0.3333333333333333, \"#9c179e\"], [0.4444444444444444, \"#bd3786\"], [0.5555555555555556, \"#d8576b\"], [0.6666666666666666, \"#ed7953\"], [0.7777777777777778, \"#fb9f3a\"], [0.8888888888888888, \"#fdca26\"], [1.0, \"#f0f921\"]], \"type\": \"histogram2d\"}], \"histogram2dcontour\": [{\"colorbar\": {\"outlinewidth\": 0, \"ticks\": \"\"}, \"colorscale\": [[0.0, \"#0d0887\"], [0.1111111111111111, \"#46039f\"], [0.2222222222222222, \"#7201a8\"], [0.3333333333333333, \"#9c179e\"], [0.4444444444444444, \"#bd3786\"], [0.5555555555555556, \"#d8576b\"], [0.6666666666666666, \"#ed7953\"], [0.7777777777777778, \"#fb9f3a\"], [0.8888888888888888, \"#fdca26\"], [1.0, \"#f0f921\"]], \"type\": \"histogram2dcontour\"}], \"mesh3d\": [{\"colorbar\": {\"outlinewidth\": 0, \"ticks\": \"\"}, \"type\": \"mesh3d\"}], \"parcoords\": [{\"line\": {\"colorbar\": {\"outlinewidth\": 0, \"ticks\": \"\"}}, \"type\": \"parcoords\"}], \"pie\": [{\"automargin\": true, \"type\": \"pie\"}], \"scatter\": [{\"marker\": {\"colorbar\": {\"outlinewidth\": 0, \"ticks\": \"\"}}, \"type\": \"scatter\"}], \"scatter3d\": [{\"line\": {\"colorbar\": {\"outlinewidth\": 0, \"ticks\": \"\"}}, \"marker\": {\"colorbar\": {\"outlinewidth\": 0, \"ticks\": \"\"}}, \"type\": \"scatter3d\"}], \"scattercarpet\": [{\"marker\": {\"colorbar\": {\"outlinewidth\": 0, \"ticks\": \"\"}}, \"type\": \"scattercarpet\"}], \"scattergeo\": [{\"marker\": {\"colorbar\": {\"outlinewidth\": 0, \"ticks\": \"\"}}, \"type\": \"scattergeo\"}], \"scattergl\": [{\"marker\": {\"colorbar\": {\"outlinewidth\": 0, \"ticks\": \"\"}}, \"type\": \"scattergl\"}], \"scattermapbox\": [{\"marker\": {\"colorbar\": {\"outlinewidth\": 0, \"ticks\": \"\"}}, \"type\": \"scattermapbox\"}], \"scatterpolar\": [{\"marker\": {\"colorbar\": {\"outlinewidth\": 0, \"ticks\": \"\"}}, \"type\": \"scatterpolar\"}], \"scatterpolargl\": [{\"marker\": {\"colorbar\": {\"outlinewidth\": 0, \"ticks\": \"\"}}, \"type\": \"scatterpolargl\"}], \"scatterternary\": [{\"marker\": {\"colorbar\": {\"outlinewidth\": 0, \"ticks\": \"\"}}, \"type\": \"scatterternary\"}], \"surface\": [{\"colorbar\": {\"outlinewidth\": 0, \"ticks\": \"\"}, \"colorscale\": [[0.0, \"#0d0887\"], [0.1111111111111111, \"#46039f\"], [0.2222222222222222, \"#7201a8\"], [0.3333333333333333, \"#9c179e\"], [0.4444444444444444, \"#bd3786\"], [0.5555555555555556, \"#d8576b\"], [0.6666666666666666, \"#ed7953\"], [0.7777777777777778, \"#fb9f3a\"], [0.8888888888888888, \"#fdca26\"], [1.0, \"#f0f921\"]], \"type\": \"surface\"}], \"table\": [{\"cells\": {\"fill\": {\"color\": \"#EBF0F8\"}, \"line\": {\"color\": \"white\"}}, \"header\": {\"fill\": {\"color\": \"#C8D4E3\"}, \"line\": {\"color\": \"white\"}}, \"type\": \"table\"}]}, \"layout\": {\"annotationdefaults\": {\"arrowcolor\": \"#2a3f5f\", \"arrowhead\": 0, \"arrowwidth\": 1}, \"coloraxis\": {\"colorbar\": {\"outlinewidth\": 0, \"ticks\": \"\"}}, \"colorscale\": {\"diverging\": [[0, \"#8e0152\"], [0.1, \"#c51b7d\"], [0.2, \"#de77ae\"], [0.3, \"#f1b6da\"], [0.4, \"#fde0ef\"], [0.5, \"#f7f7f7\"], [0.6, \"#e6f5d0\"], [0.7, \"#b8e186\"], [0.8, \"#7fbc41\"], [0.9, \"#4d9221\"], [1, \"#276419\"]], \"sequential\": [[0.0, \"#0d0887\"], [0.1111111111111111, \"#46039f\"], [0.2222222222222222, \"#7201a8\"], [0.3333333333333333, \"#9c179e\"], [0.4444444444444444, \"#bd3786\"], [0.5555555555555556, \"#d8576b\"], [0.6666666666666666, \"#ed7953\"], [0.7777777777777778, \"#fb9f3a\"], [0.8888888888888888, \"#fdca26\"], [1.0, \"#f0f921\"]], \"sequentialminus\": [[0.0, \"#0d0887\"], [0.1111111111111111, \"#46039f\"], [0.2222222222222222, \"#7201a8\"], [0.3333333333333333, \"#9c179e\"], [0.4444444444444444, \"#bd3786\"], [0.5555555555555556, \"#d8576b\"], [0.6666666666666666, \"#ed7953\"], [0.7777777777777778, \"#fb9f3a\"], [0.8888888888888888, \"#fdca26\"], [1.0, \"#f0f921\"]]}, \"colorway\": [\"#636efa\", \"#EF553B\", \"#00cc96\", \"#ab63fa\", \"#FFA15A\", \"#19d3f3\", \"#FF6692\", \"#B6E880\", \"#FF97FF\", \"#FECB52\"], \"font\": {\"color\": \"#2a3f5f\"}, \"geo\": {\"bgcolor\": \"white\", \"lakecolor\": \"white\", \"landcolor\": \"#E5ECF6\", \"showlakes\": true, \"showland\": true, \"subunitcolor\": \"white\"}, \"hoverlabel\": {\"align\": \"left\"}, \"hovermode\": \"closest\", \"mapbox\": {\"style\": \"light\"}, \"paper_bgcolor\": \"white\", \"plot_bgcolor\": \"#E5ECF6\", \"polar\": {\"angularaxis\": {\"gridcolor\": \"white\", \"linecolor\": \"white\", \"ticks\": \"\"}, \"bgcolor\": \"#E5ECF6\", \"radialaxis\": {\"gridcolor\": \"white\", \"linecolor\": \"white\", \"ticks\": \"\"}}, \"scene\": {\"xaxis\": {\"backgroundcolor\": \"#E5ECF6\", \"gridcolor\": \"white\", \"gridwidth\": 2, \"linecolor\": \"white\", \"showbackground\": true, \"ticks\": \"\", \"zerolinecolor\": \"white\"}, \"yaxis\": {\"backgroundcolor\": \"#E5ECF6\", \"gridcolor\": \"white\", \"gridwidth\": 2, \"linecolor\": \"white\", \"showbackground\": true, \"ticks\": \"\", \"zerolinecolor\": \"white\"}, \"zaxis\": {\"backgroundcolor\": \"#E5ECF6\", \"gridcolor\": \"white\", \"gridwidth\": 2, \"linecolor\": \"white\", \"showbackground\": true, \"ticks\": \"\", \"zerolinecolor\": \"white\"}}, \"shapedefaults\": {\"line\": {\"color\": \"#2a3f5f\"}}, \"ternary\": {\"aaxis\": {\"gridcolor\": \"white\", \"linecolor\": \"white\", \"ticks\": \"\"}, \"baxis\": {\"gridcolor\": \"white\", \"linecolor\": \"white\", \"ticks\": \"\"}, \"bgcolor\": \"#E5ECF6\", \"caxis\": {\"gridcolor\": \"white\", \"linecolor\": \"white\", \"ticks\": \"\"}}, \"title\": {\"x\": 0.05}, \"xaxis\": {\"automargin\": true, \"gridcolor\": \"white\", \"linecolor\": \"white\", \"ticks\": \"\", \"title\": {\"standoff\": 15}, \"zerolinecolor\": \"white\", \"zerolinewidth\": 2}, \"yaxis\": {\"automargin\": true, \"gridcolor\": \"white\", \"linecolor\": \"white\", \"ticks\": \"\", \"title\": {\"standoff\": 15}, \"zerolinecolor\": \"white\", \"zerolinewidth\": 2}}}, \"width\": 1200, \"xaxis\": {\"anchor\": \"y\", \"domain\": [0.0, 1.0], \"title\": {\"text\": \"Publisher\"}}, \"yaxis\": {\"anchor\": \"x\", \"domain\": [0.0, 1.0], \"title\": {\"text\": \"\\ucd9c\\uace0\\ub7c9\"}}},\n",
              "                        {\"responsive\": true}\n",
              "                    ).then(function(){\n",
              "                            \n",
              "var gd = document.getElementById('a85a5f0e-32d1-4175-929f-1642924f6d4b');\n",
              "var x = new MutationObserver(function (mutations, observer) {{\n",
              "        var display = window.getComputedStyle(gd).display;\n",
              "        if (!display || display === 'none') {{\n",
              "            console.log([gd, 'removed!']);\n",
              "            Plotly.purge(gd);\n",
              "            observer.disconnect();\n",
              "        }}\n",
              "}});\n",
              "\n",
              "// Listen for the removal of the full notebook cells\n",
              "var notebookContainer = gd.closest('#notebook-container');\n",
              "if (notebookContainer) {{\n",
              "    x.observe(notebookContainer, {childList: true});\n",
              "}}\n",
              "\n",
              "// Listen for the clearing of the current output cell\n",
              "var outputEl = gd.closest('.output');\n",
              "if (outputEl) {{\n",
              "    x.observe(outputEl, {childList: true});\n",
              "}}\n",
              "\n",
              "                        })\n",
              "                };\n",
              "                \n",
              "            </script>\n",
              "        </div>\n",
              "</body>\n",
              "</html>"
            ]
          },
          "metadata": {}
        }
      ]
    },
    {
      "cell_type": "code",
      "source": [
        "!pip install scipy --upgrade\n",
        "from scipy.stats import chi2_contingency"
      ],
      "metadata": {
        "colab": {
          "base_uri": "https://localhost:8080/"
        },
        "id": "EhcQjhINmJHX",
        "outputId": "de632df4-8efd-458b-dfc3-46b5fafdc616"
      },
      "execution_count": 206,
      "outputs": [
        {
          "output_type": "stream",
          "name": "stdout",
          "text": [
            "Requirement already satisfied: scipy in /usr/local/lib/python3.7/dist-packages (1.7.3)\n",
            "Requirement already satisfied: numpy<1.23.0,>=1.16.5 in /usr/local/lib/python3.7/dist-packages (from scipy) (1.19.5)\n"
          ]
        }
      ]
    },
    {
      "cell_type": "code",
      "source": [
        "def contingency(data1, data2):\n",
        "  ct = pd.crosstab(data1, data2)\n",
        "  chi2, pvalue, dof, data = chi2_contingency(ct, correction = False)\n",
        "  print('chi2:',chi2, ' pvalue:', pvalue, 'dof:', dof)\n",
        "  return pvalue"
      ],
      "metadata": {
        "id": "fnioYeRAhINk"
      },
      "execution_count": 212,
      "outputs": []
    },
    {
      "cell_type": "code",
      "source": [
        "df_top50 = df.sort_values(by='Total_Sales', ascending=False).head(50)\n",
        "pvalue1 = contingency(df_top50['Platform'], df_top50['Genre'])  #독립\n",
        "pvalue2 = contingency(df_top50['Platform'], df_top50['Total_Sales'])  #독립\n",
        "pvalue3 = contingency(df_top50['Genre'], df_top50['Total_Sales'])  #독립\n",
        "pvalue4 = contingency(df_top50['Publisher'], df_top50['Total_Sales'])  #독립\n",
        "pvalue5 = contingency(df_top50['Publisher'], df_top50['Genre']) #종속\n",
        "pvalue6 = contingency(df_top50['Platform'], df_top50['Publisher'])  #종속"
      ],
      "metadata": {
        "colab": {
          "base_uri": "https://localhost:8080/"
        },
        "id": "NlVhfxvrxLvv",
        "outputId": "7bb9a581-0496-4484-c094-29bdc7b58215"
      },
      "execution_count": 221,
      "outputs": [
        {
          "output_type": "stream",
          "name": "stdout",
          "text": [
            "chi2: 128.72609599395315  pvalue: 0.10719205235929136 dof: 110\n",
            "chi2: 542.2619047619048  pvalue: 0.3243889234816235 dof: 528\n",
            "chi2: 493.92857142857144  pvalue: 0.3203451757903018 dof: 480\n",
            "chi2: 196.09375000000003  pvalue: 0.40461831493238276 dof: 192\n",
            "chi2: 108.0282738095238  pvalue: 3.6024395522240376e-08 dof: 40\n",
            "chi2: 88.19940476190476  pvalue: 8.683971998024357e-05 dof: 44\n"
          ]
        }
      ]
    },
    {
      "cell_type": "code",
      "source": [
        "px.bar(x=['Platform - Genre', 'Platform - Total_Sales', 'Genre - Total_Sales', 'Publisher - Total_Sales', 'Publisher - Genre', 'Platform - Publisher'],\n",
        "       y = [pvalue1, pvalue2, pvalue3, pvalue4, pvalue5, pvalue6], height = 600, width = 800)"
      ],
      "metadata": {
        "colab": {
          "base_uri": "https://localhost:8080/",
          "height": 617
        },
        "id": "x6vV2rbA-JRp",
        "outputId": "228d5f2c-8fdf-42c4-c2d0-34cd45774ac1"
      },
      "execution_count": 222,
      "outputs": [
        {
          "output_type": "display_data",
          "data": {
            "text/html": [
              "<html>\n",
              "<head><meta charset=\"utf-8\" /></head>\n",
              "<body>\n",
              "    <div>\n",
              "            <script src=\"https://cdnjs.cloudflare.com/ajax/libs/mathjax/2.7.5/MathJax.js?config=TeX-AMS-MML_SVG\"></script><script type=\"text/javascript\">if (window.MathJax) {MathJax.Hub.Config({SVG: {font: \"STIX-Web\"}});}</script>\n",
              "                <script type=\"text/javascript\">window.PlotlyConfig = {MathJaxConfig: 'local'};</script>\n",
              "        <script src=\"https://cdn.plot.ly/plotly-latest.min.js\"></script>    \n",
              "            <div id=\"a1c1246f-0a56-4c1e-9244-276c6823e300\" class=\"plotly-graph-div\" style=\"height:600px; width:800px;\"></div>\n",
              "            <script type=\"text/javascript\">\n",
              "                \n",
              "                    window.PLOTLYENV=window.PLOTLYENV || {};\n",
              "                    \n",
              "                if (document.getElementById(\"a1c1246f-0a56-4c1e-9244-276c6823e300\")) {\n",
              "                    Plotly.newPlot(\n",
              "                        'a1c1246f-0a56-4c1e-9244-276c6823e300',\n",
              "                        [{\"alignmentgroup\": \"True\", \"hoverlabel\": {\"namelength\": 0}, \"hovertemplate\": \"x=%{x}<br>y=%{y}\", \"legendgroup\": \"\", \"marker\": {\"color\": \"#636efa\"}, \"name\": \"\", \"offsetgroup\": \"\", \"orientation\": \"v\", \"showlegend\": false, \"textposition\": \"auto\", \"type\": \"bar\", \"x\": [\"Platform - Genre\", \"Platform - Total_Sales\", \"Genre - Total_Sales\", \"Publisher - Total_Sales\", \"Publisher - Genre\", \"Platform - Publisher\"], \"xaxis\": \"x\", \"y\": [0.10719205235929136, 0.3243889234816235, 0.3203451757903018, 0.40461831493238276, 3.6024395522240376e-08, 8.683971998024357e-05], \"yaxis\": \"y\"}],\n",
              "                        {\"barmode\": \"relative\", \"height\": 600, \"legend\": {\"tracegroupgap\": 0}, \"margin\": {\"t\": 60}, \"template\": {\"data\": {\"bar\": [{\"error_x\": {\"color\": \"#2a3f5f\"}, \"error_y\": {\"color\": \"#2a3f5f\"}, \"marker\": {\"line\": {\"color\": \"#E5ECF6\", \"width\": 0.5}}, \"type\": \"bar\"}], \"barpolar\": [{\"marker\": {\"line\": {\"color\": \"#E5ECF6\", \"width\": 0.5}}, \"type\": \"barpolar\"}], \"carpet\": [{\"aaxis\": {\"endlinecolor\": \"#2a3f5f\", \"gridcolor\": \"white\", \"linecolor\": \"white\", \"minorgridcolor\": \"white\", \"startlinecolor\": \"#2a3f5f\"}, \"baxis\": {\"endlinecolor\": \"#2a3f5f\", \"gridcolor\": \"white\", \"linecolor\": \"white\", \"minorgridcolor\": \"white\", \"startlinecolor\": \"#2a3f5f\"}, \"type\": \"carpet\"}], \"choropleth\": [{\"colorbar\": {\"outlinewidth\": 0, \"ticks\": \"\"}, \"type\": \"choropleth\"}], \"contour\": [{\"colorbar\": {\"outlinewidth\": 0, \"ticks\": \"\"}, \"colorscale\": [[0.0, \"#0d0887\"], [0.1111111111111111, \"#46039f\"], [0.2222222222222222, \"#7201a8\"], [0.3333333333333333, \"#9c179e\"], [0.4444444444444444, \"#bd3786\"], [0.5555555555555556, \"#d8576b\"], [0.6666666666666666, \"#ed7953\"], [0.7777777777777778, \"#fb9f3a\"], [0.8888888888888888, \"#fdca26\"], [1.0, \"#f0f921\"]], \"type\": \"contour\"}], \"contourcarpet\": [{\"colorbar\": {\"outlinewidth\": 0, \"ticks\": \"\"}, \"type\": \"contourcarpet\"}], \"heatmap\": [{\"colorbar\": {\"outlinewidth\": 0, \"ticks\": \"\"}, \"colorscale\": [[0.0, \"#0d0887\"], [0.1111111111111111, \"#46039f\"], [0.2222222222222222, \"#7201a8\"], [0.3333333333333333, \"#9c179e\"], [0.4444444444444444, \"#bd3786\"], [0.5555555555555556, \"#d8576b\"], [0.6666666666666666, \"#ed7953\"], [0.7777777777777778, \"#fb9f3a\"], [0.8888888888888888, \"#fdca26\"], [1.0, \"#f0f921\"]], \"type\": \"heatmap\"}], \"heatmapgl\": [{\"colorbar\": {\"outlinewidth\": 0, \"ticks\": \"\"}, \"colorscale\": [[0.0, \"#0d0887\"], [0.1111111111111111, \"#46039f\"], [0.2222222222222222, \"#7201a8\"], [0.3333333333333333, \"#9c179e\"], [0.4444444444444444, \"#bd3786\"], [0.5555555555555556, \"#d8576b\"], [0.6666666666666666, \"#ed7953\"], [0.7777777777777778, \"#fb9f3a\"], [0.8888888888888888, \"#fdca26\"], [1.0, \"#f0f921\"]], \"type\": \"heatmapgl\"}], \"histogram\": [{\"marker\": {\"colorbar\": {\"outlinewidth\": 0, \"ticks\": \"\"}}, \"type\": \"histogram\"}], \"histogram2d\": [{\"colorbar\": {\"outlinewidth\": 0, \"ticks\": \"\"}, \"colorscale\": [[0.0, \"#0d0887\"], [0.1111111111111111, \"#46039f\"], [0.2222222222222222, \"#7201a8\"], [0.3333333333333333, \"#9c179e\"], [0.4444444444444444, \"#bd3786\"], [0.5555555555555556, \"#d8576b\"], [0.6666666666666666, \"#ed7953\"], [0.7777777777777778, \"#fb9f3a\"], [0.8888888888888888, \"#fdca26\"], [1.0, \"#f0f921\"]], \"type\": \"histogram2d\"}], \"histogram2dcontour\": [{\"colorbar\": {\"outlinewidth\": 0, \"ticks\": \"\"}, \"colorscale\": [[0.0, \"#0d0887\"], [0.1111111111111111, \"#46039f\"], [0.2222222222222222, \"#7201a8\"], [0.3333333333333333, \"#9c179e\"], [0.4444444444444444, \"#bd3786\"], [0.5555555555555556, \"#d8576b\"], [0.6666666666666666, \"#ed7953\"], [0.7777777777777778, \"#fb9f3a\"], [0.8888888888888888, \"#fdca26\"], [1.0, \"#f0f921\"]], \"type\": \"histogram2dcontour\"}], \"mesh3d\": [{\"colorbar\": {\"outlinewidth\": 0, \"ticks\": \"\"}, \"type\": \"mesh3d\"}], \"parcoords\": [{\"line\": {\"colorbar\": {\"outlinewidth\": 0, \"ticks\": \"\"}}, \"type\": \"parcoords\"}], \"pie\": [{\"automargin\": true, \"type\": \"pie\"}], \"scatter\": [{\"marker\": {\"colorbar\": {\"outlinewidth\": 0, \"ticks\": \"\"}}, \"type\": \"scatter\"}], \"scatter3d\": [{\"line\": {\"colorbar\": {\"outlinewidth\": 0, \"ticks\": \"\"}}, \"marker\": {\"colorbar\": {\"outlinewidth\": 0, \"ticks\": \"\"}}, \"type\": \"scatter3d\"}], \"scattercarpet\": [{\"marker\": {\"colorbar\": {\"outlinewidth\": 0, \"ticks\": \"\"}}, \"type\": \"scattercarpet\"}], \"scattergeo\": [{\"marker\": {\"colorbar\": {\"outlinewidth\": 0, \"ticks\": \"\"}}, \"type\": \"scattergeo\"}], \"scattergl\": [{\"marker\": {\"colorbar\": {\"outlinewidth\": 0, \"ticks\": \"\"}}, \"type\": \"scattergl\"}], \"scattermapbox\": [{\"marker\": {\"colorbar\": {\"outlinewidth\": 0, \"ticks\": \"\"}}, \"type\": \"scattermapbox\"}], \"scatterpolar\": [{\"marker\": {\"colorbar\": {\"outlinewidth\": 0, \"ticks\": \"\"}}, \"type\": \"scatterpolar\"}], \"scatterpolargl\": [{\"marker\": {\"colorbar\": {\"outlinewidth\": 0, \"ticks\": \"\"}}, \"type\": \"scatterpolargl\"}], \"scatterternary\": [{\"marker\": {\"colorbar\": {\"outlinewidth\": 0, \"ticks\": \"\"}}, \"type\": \"scatterternary\"}], \"surface\": [{\"colorbar\": {\"outlinewidth\": 0, \"ticks\": \"\"}, \"colorscale\": [[0.0, \"#0d0887\"], [0.1111111111111111, \"#46039f\"], [0.2222222222222222, \"#7201a8\"], [0.3333333333333333, \"#9c179e\"], [0.4444444444444444, \"#bd3786\"], [0.5555555555555556, \"#d8576b\"], [0.6666666666666666, \"#ed7953\"], [0.7777777777777778, \"#fb9f3a\"], [0.8888888888888888, \"#fdca26\"], [1.0, \"#f0f921\"]], \"type\": \"surface\"}], \"table\": [{\"cells\": {\"fill\": {\"color\": \"#EBF0F8\"}, \"line\": {\"color\": \"white\"}}, \"header\": {\"fill\": {\"color\": \"#C8D4E3\"}, \"line\": {\"color\": \"white\"}}, \"type\": \"table\"}]}, \"layout\": {\"annotationdefaults\": {\"arrowcolor\": \"#2a3f5f\", \"arrowhead\": 0, \"arrowwidth\": 1}, \"coloraxis\": {\"colorbar\": {\"outlinewidth\": 0, \"ticks\": \"\"}}, \"colorscale\": {\"diverging\": [[0, \"#8e0152\"], [0.1, \"#c51b7d\"], [0.2, \"#de77ae\"], [0.3, \"#f1b6da\"], [0.4, \"#fde0ef\"], [0.5, \"#f7f7f7\"], [0.6, \"#e6f5d0\"], [0.7, \"#b8e186\"], [0.8, \"#7fbc41\"], [0.9, \"#4d9221\"], [1, \"#276419\"]], \"sequential\": [[0.0, \"#0d0887\"], [0.1111111111111111, \"#46039f\"], [0.2222222222222222, \"#7201a8\"], [0.3333333333333333, \"#9c179e\"], [0.4444444444444444, \"#bd3786\"], [0.5555555555555556, \"#d8576b\"], [0.6666666666666666, \"#ed7953\"], [0.7777777777777778, \"#fb9f3a\"], [0.8888888888888888, \"#fdca26\"], [1.0, \"#f0f921\"]], \"sequentialminus\": [[0.0, \"#0d0887\"], [0.1111111111111111, \"#46039f\"], [0.2222222222222222, \"#7201a8\"], [0.3333333333333333, \"#9c179e\"], [0.4444444444444444, \"#bd3786\"], [0.5555555555555556, \"#d8576b\"], [0.6666666666666666, \"#ed7953\"], [0.7777777777777778, \"#fb9f3a\"], [0.8888888888888888, \"#fdca26\"], [1.0, \"#f0f921\"]]}, \"colorway\": [\"#636efa\", \"#EF553B\", \"#00cc96\", \"#ab63fa\", \"#FFA15A\", \"#19d3f3\", \"#FF6692\", \"#B6E880\", \"#FF97FF\", \"#FECB52\"], \"font\": {\"color\": \"#2a3f5f\"}, \"geo\": {\"bgcolor\": \"white\", \"lakecolor\": \"white\", \"landcolor\": \"#E5ECF6\", \"showlakes\": true, \"showland\": true, \"subunitcolor\": \"white\"}, \"hoverlabel\": {\"align\": \"left\"}, \"hovermode\": \"closest\", \"mapbox\": {\"style\": \"light\"}, \"paper_bgcolor\": \"white\", \"plot_bgcolor\": \"#E5ECF6\", \"polar\": {\"angularaxis\": {\"gridcolor\": \"white\", \"linecolor\": \"white\", \"ticks\": \"\"}, \"bgcolor\": \"#E5ECF6\", \"radialaxis\": {\"gridcolor\": \"white\", \"linecolor\": \"white\", \"ticks\": \"\"}}, \"scene\": {\"xaxis\": {\"backgroundcolor\": \"#E5ECF6\", \"gridcolor\": \"white\", \"gridwidth\": 2, \"linecolor\": \"white\", \"showbackground\": true, \"ticks\": \"\", \"zerolinecolor\": \"white\"}, \"yaxis\": {\"backgroundcolor\": \"#E5ECF6\", \"gridcolor\": \"white\", \"gridwidth\": 2, \"linecolor\": \"white\", \"showbackground\": true, \"ticks\": \"\", \"zerolinecolor\": \"white\"}, \"zaxis\": {\"backgroundcolor\": \"#E5ECF6\", \"gridcolor\": \"white\", \"gridwidth\": 2, \"linecolor\": \"white\", \"showbackground\": true, \"ticks\": \"\", \"zerolinecolor\": \"white\"}}, \"shapedefaults\": {\"line\": {\"color\": \"#2a3f5f\"}}, \"ternary\": {\"aaxis\": {\"gridcolor\": \"white\", \"linecolor\": \"white\", \"ticks\": \"\"}, \"baxis\": {\"gridcolor\": \"white\", \"linecolor\": \"white\", \"ticks\": \"\"}, \"bgcolor\": \"#E5ECF6\", \"caxis\": {\"gridcolor\": \"white\", \"linecolor\": \"white\", \"ticks\": \"\"}}, \"title\": {\"x\": 0.05}, \"xaxis\": {\"automargin\": true, \"gridcolor\": \"white\", \"linecolor\": \"white\", \"ticks\": \"\", \"title\": {\"standoff\": 15}, \"zerolinecolor\": \"white\", \"zerolinewidth\": 2}, \"yaxis\": {\"automargin\": true, \"gridcolor\": \"white\", \"linecolor\": \"white\", \"ticks\": \"\", \"title\": {\"standoff\": 15}, \"zerolinecolor\": \"white\", \"zerolinewidth\": 2}}}, \"width\": 800, \"xaxis\": {\"anchor\": \"y\", \"domain\": [0.0, 1.0], \"title\": {\"text\": \"x\"}}, \"yaxis\": {\"anchor\": \"x\", \"domain\": [0.0, 1.0], \"title\": {\"text\": \"y\"}}},\n",
              "                        {\"responsive\": true}\n",
              "                    ).then(function(){\n",
              "                            \n",
              "var gd = document.getElementById('a1c1246f-0a56-4c1e-9244-276c6823e300');\n",
              "var x = new MutationObserver(function (mutations, observer) {{\n",
              "        var display = window.getComputedStyle(gd).display;\n",
              "        if (!display || display === 'none') {{\n",
              "            console.log([gd, 'removed!']);\n",
              "            Plotly.purge(gd);\n",
              "            observer.disconnect();\n",
              "        }}\n",
              "}});\n",
              "\n",
              "// Listen for the removal of the full notebook cells\n",
              "var notebookContainer = gd.closest('#notebook-container');\n",
              "if (notebookContainer) {{\n",
              "    x.observe(notebookContainer, {childList: true});\n",
              "}}\n",
              "\n",
              "// Listen for the clearing of the current output cell\n",
              "var outputEl = gd.closest('.output');\n",
              "if (outputEl) {{\n",
              "    x.observe(outputEl, {childList: true});\n",
              "}}\n",
              "\n",
              "                        })\n",
              "                };\n",
              "                \n",
              "            </script>\n",
              "        </div>\n",
              "</body>\n",
              "</html>"
            ]
          },
          "metadata": {}
        }
      ]
    },
    {
      "cell_type": "markdown",
      "source": [
        "# 다음 분기에 어떤 게임을 설계해야 할까?"
      ],
      "metadata": {
        "id": "xPK0Rwrc6YJJ"
      }
    },
    {
      "cell_type": "markdown",
      "source": [
        "2010년도 부터 액션 슈팅 게임의 인기가 가장 높기 때문에\n",
        "GTA나 콜오브 듀티같은 액션, 슈팅 게임을 만들어야 한다.\n",
        "플랫폼은 PS,XBOX360,Wii로 출시하는 것이 좋다"
      ],
      "metadata": {
        "id": "4oLCsoO6zrsa"
      }
    }
  ]
}