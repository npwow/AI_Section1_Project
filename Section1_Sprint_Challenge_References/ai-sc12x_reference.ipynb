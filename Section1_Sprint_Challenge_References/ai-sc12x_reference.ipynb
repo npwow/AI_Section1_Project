{
 "cells": [
  {
   "cell_type": "markdown",
   "id": "c39839c2-240a-4ae6-b73b-40a7eefae393",
   "metadata": {},
   "source": [
    "# SC12x\n",
    "\n",
    "## 데이터 탐색 및 가설 검정\n",
    "\n",
    "이번 SC 에서 여러분은 가상의 마케팅 데이터를 활용한 통계 분석을 진행하시게 됩니다. \n",
    "\n",
    "## 데이터셋 정보 :   \n",
    "이 데이터셋은 알뜰 구매를 도와주는 XYZ사의 마케팅 정보를 다룹니다. 개인 정보는 보호를 위해 제거 되어 있습니다.\n",
    "\n",
    "**Attribute Information:**\n",
    "> 2,240 customers of XYZ company:\n",
    "\n",
    "- ID - 고객의 고유값\n",
    "- Year_Birth - 고객의 출생연도\n",
    "- Education - 고객의 최종학력\n",
    "- Marital_Status - 고객의 혼인여부\n",
    "- Country - 고객의 국적\n",
    "- Income - 고객의 연간 수입\n",
    "- Kidhome - 자녀가 미취학아동인지 여부 (1 - yes, 0 - no)\n",
    "- Teenhome - 자녀가 10대 청소년인지 여부 (1 - yes, 0 - no)\n",
    "- Dt_Customer - 서비스 가입 시기\n",
    "- Recency - 마지막 구매 시기 (일)\n",
    "- MntWines - 최근 2년간 구매한 와인 구매 총액\n",
    "- MntFruits- 최근 2년간 구매한 과일 구매 총액\n",
    "- MntMeatProducts - 최근 2년간 구매한 정육 구매 총액\n",
    "- MntFishProducts - 최근 2년간 구매한 어류 구매 총액\n",
    "- MntSweetProducts - 최근 2년간 구매한 과자 구매 총액\n",
    "- MntGoldProds - 최근 2년간 구매한 황금 구매 총액\n",
    "- NumDealsPurchases - 할인을 통해 제품을 구매한 횟수\n",
    "- NumWebPurchases - 회사의 웹사이트를 통해 구매한 횟수\n",
    "- NumStorePurchases - 가게에서 직접 구매한 횟수\n",
    "- NumWebVisitsMonth - 회사의 웹사이트를 방문한 횟수\n",
    "- Complain - 고객의 최근 2년간 회사에 대한 클레임 여부 (1 - yes, 0 - no)"
   ]
  },
  {
   "cell_type": "markdown",
   "id": "980a3d4b-3c4f-4b0b-bccb-304550e6651d",
   "metadata": {},
   "source": [
    "## Part 1 - 데이터 불러오기"
   ]
  },
  {
   "cell_type": "markdown",
   "id": "3ae7e642-06e6-474c-b7b1-5894f303cab0",
   "metadata": {},
   "source": [
    "### 1) 데이터셋을 업로드합니다"
   ]
  },
  {
   "cell_type": "code",
   "execution_count": 1,
   "id": "a80eed92-08da-47d1-b5d8-106ab899bd41",
   "metadata": {},
   "outputs": [
    {
     "name": "stdout",
     "output_type": "stream",
     "text": [
      "(2240, 21)\n"
     ]
    },
    {
     "data": {
      "text/html": [
       "<div>\n",
       "<style scoped>\n",
       "    .dataframe tbody tr th:only-of-type {\n",
       "        vertical-align: middle;\n",
       "    }\n",
       "\n",
       "    .dataframe tbody tr th {\n",
       "        vertical-align: top;\n",
       "    }\n",
       "\n",
       "    .dataframe thead th {\n",
       "        text-align: right;\n",
       "    }\n",
       "</style>\n",
       "<table border=\"1\" class=\"dataframe\">\n",
       "  <thead>\n",
       "    <tr style=\"text-align: right;\">\n",
       "      <th></th>\n",
       "      <th>ID</th>\n",
       "      <th>Year_Birth</th>\n",
       "      <th>Country</th>\n",
       "      <th>Education</th>\n",
       "      <th>Marital_Status</th>\n",
       "      <th>Income</th>\n",
       "      <th>Kidhome</th>\n",
       "      <th>Teenhome</th>\n",
       "      <th>Dt_Customer</th>\n",
       "      <th>Recency</th>\n",
       "      <th>...</th>\n",
       "      <th>MntFruits</th>\n",
       "      <th>MntMeatProducts</th>\n",
       "      <th>MntFishProducts</th>\n",
       "      <th>MntSweetProducts</th>\n",
       "      <th>MntGoldProds</th>\n",
       "      <th>NumDealsPurchases</th>\n",
       "      <th>NumWebPurchases</th>\n",
       "      <th>NumStorePurchases</th>\n",
       "      <th>NumWebVisitsMonth</th>\n",
       "      <th>Complain</th>\n",
       "    </tr>\n",
       "  </thead>\n",
       "  <tbody>\n",
       "    <tr>\n",
       "      <th>0</th>\n",
       "      <td>1826</td>\n",
       "      <td>1970</td>\n",
       "      <td>SP</td>\n",
       "      <td>Graduation</td>\n",
       "      <td>Divorced</td>\n",
       "      <td>$84,835.00</td>\n",
       "      <td>0</td>\n",
       "      <td>0</td>\n",
       "      <td>6/16/14</td>\n",
       "      <td>0</td>\n",
       "      <td>...</td>\n",
       "      <td>104</td>\n",
       "      <td>379</td>\n",
       "      <td>111</td>\n",
       "      <td>189</td>\n",
       "      <td>218</td>\n",
       "      <td>1</td>\n",
       "      <td>4</td>\n",
       "      <td>6</td>\n",
       "      <td>1</td>\n",
       "      <td>0</td>\n",
       "    </tr>\n",
       "    <tr>\n",
       "      <th>1</th>\n",
       "      <td>1</td>\n",
       "      <td>1961</td>\n",
       "      <td>CA</td>\n",
       "      <td>Graduation</td>\n",
       "      <td>Single</td>\n",
       "      <td>$57,091.00</td>\n",
       "      <td>0</td>\n",
       "      <td>0</td>\n",
       "      <td>6/15/14</td>\n",
       "      <td>0</td>\n",
       "      <td>...</td>\n",
       "      <td>5</td>\n",
       "      <td>64</td>\n",
       "      <td>7</td>\n",
       "      <td>0</td>\n",
       "      <td>37</td>\n",
       "      <td>1</td>\n",
       "      <td>7</td>\n",
       "      <td>7</td>\n",
       "      <td>5</td>\n",
       "      <td>0</td>\n",
       "    </tr>\n",
       "    <tr>\n",
       "      <th>2</th>\n",
       "      <td>10476</td>\n",
       "      <td>1958</td>\n",
       "      <td>US</td>\n",
       "      <td>Graduation</td>\n",
       "      <td>Married</td>\n",
       "      <td>$67,267.00</td>\n",
       "      <td>0</td>\n",
       "      <td>1</td>\n",
       "      <td>5/13/14</td>\n",
       "      <td>0</td>\n",
       "      <td>...</td>\n",
       "      <td>11</td>\n",
       "      <td>59</td>\n",
       "      <td>15</td>\n",
       "      <td>2</td>\n",
       "      <td>30</td>\n",
       "      <td>1</td>\n",
       "      <td>3</td>\n",
       "      <td>5</td>\n",
       "      <td>2</td>\n",
       "      <td>0</td>\n",
       "    </tr>\n",
       "    <tr>\n",
       "      <th>3</th>\n",
       "      <td>1386</td>\n",
       "      <td>1967</td>\n",
       "      <td>AUS</td>\n",
       "      <td>Graduation</td>\n",
       "      <td>Together</td>\n",
       "      <td>$32,474.00</td>\n",
       "      <td>1</td>\n",
       "      <td>1</td>\n",
       "      <td>5/11/14</td>\n",
       "      <td>0</td>\n",
       "      <td>...</td>\n",
       "      <td>0</td>\n",
       "      <td>1</td>\n",
       "      <td>0</td>\n",
       "      <td>0</td>\n",
       "      <td>0</td>\n",
       "      <td>1</td>\n",
       "      <td>1</td>\n",
       "      <td>2</td>\n",
       "      <td>7</td>\n",
       "      <td>0</td>\n",
       "    </tr>\n",
       "    <tr>\n",
       "      <th>4</th>\n",
       "      <td>5371</td>\n",
       "      <td>1989</td>\n",
       "      <td>SP</td>\n",
       "      <td>Graduation</td>\n",
       "      <td>Single</td>\n",
       "      <td>$21,474.00</td>\n",
       "      <td>1</td>\n",
       "      <td>0</td>\n",
       "      <td>4/8/14</td>\n",
       "      <td>0</td>\n",
       "      <td>...</td>\n",
       "      <td>16</td>\n",
       "      <td>24</td>\n",
       "      <td>11</td>\n",
       "      <td>0</td>\n",
       "      <td>34</td>\n",
       "      <td>2</td>\n",
       "      <td>3</td>\n",
       "      <td>2</td>\n",
       "      <td>7</td>\n",
       "      <td>0</td>\n",
       "    </tr>\n",
       "  </tbody>\n",
       "</table>\n",
       "<p>5 rows × 21 columns</p>\n",
       "</div>"
      ],
      "text/plain": [
       "      ID  Year_Birth Country   Education Marital_Status      Income   Kidhome  \\\n",
       "0   1826        1970      SP  Graduation       Divorced  $84,835.00         0   \n",
       "1      1        1961      CA  Graduation         Single  $57,091.00         0   \n",
       "2  10476        1958      US  Graduation        Married  $67,267.00         0   \n",
       "3   1386        1967     AUS  Graduation       Together  $32,474.00         1   \n",
       "4   5371        1989      SP  Graduation         Single  $21,474.00         1   \n",
       "\n",
       "   Teenhome Dt_Customer  Recency  ...  MntFruits  MntMeatProducts  \\\n",
       "0         0     6/16/14        0  ...        104              379   \n",
       "1         0     6/15/14        0  ...          5               64   \n",
       "2         1     5/13/14        0  ...         11               59   \n",
       "3         1     5/11/14        0  ...          0                1   \n",
       "4         0      4/8/14        0  ...         16               24   \n",
       "\n",
       "   MntFishProducts  MntSweetProducts  MntGoldProds  NumDealsPurchases  \\\n",
       "0              111               189           218                  1   \n",
       "1                7                 0            37                  1   \n",
       "2               15                 2            30                  1   \n",
       "3                0                 0             0                  1   \n",
       "4               11                 0            34                  2   \n",
       "\n",
       "   NumWebPurchases  NumStorePurchases  NumWebVisitsMonth  Complain  \n",
       "0                4                  6                  1         0  \n",
       "1                7                  7                  5         0  \n",
       "2                3                  5                  2         0  \n",
       "3                1                  2                  7         0  \n",
       "4                3                  2                  7         0  \n",
       "\n",
       "[5 rows x 21 columns]"
      ]
     },
     "execution_count": 1,
     "metadata": {},
     "output_type": "execute_result"
    }
   ],
   "source": [
    "import pandas as pd\n",
    "\n",
    "df = pd.read_csv(\"sc12x_dataset.csv\", index_col=0)\n",
    "print(df.shape)\n",
    "df.head()"
   ]
  },
  {
   "cell_type": "markdown",
   "id": "3fd217d1-44f8-4d1b-9dfb-2256256c0329",
   "metadata": {},
   "source": [
    "### 2) 결측치가 있는지 확인한 후 있다면 제거하세요"
   ]
  },
  {
   "cell_type": "code",
   "execution_count": 17,
   "id": "604bd686-b49f-4a5e-bd2d-22230cec7380",
   "metadata": {},
   "outputs": [
    {
     "name": "stdout",
     "output_type": "stream",
     "text": [
      "<class 'pandas.core.frame.DataFrame'>\n",
      "Int64Index: 2240 entries, 0 to 2239\n",
      "Data columns (total 21 columns):\n",
      " #   Column             Non-Null Count  Dtype \n",
      "---  ------             --------------  ----- \n",
      " 0   ID                 2240 non-null   int64 \n",
      " 1   Year_Birth         2240 non-null   int64 \n",
      " 2   Country            2240 non-null   object\n",
      " 3   Education          2240 non-null   object\n",
      " 4   Marital_Status     2240 non-null   object\n",
      " 5    Income            2216 non-null   object\n",
      " 6   Kidhome            2240 non-null   int64 \n",
      " 7   Teenhome           2240 non-null   int64 \n",
      " 8   Dt_Customer        2240 non-null   object\n",
      " 9   Recency            2240 non-null   int64 \n",
      " 10  MntWines           2240 non-null   int64 \n",
      " 11  MntFruits          2240 non-null   int64 \n",
      " 12  MntMeatProducts    2240 non-null   int64 \n",
      " 13  MntFishProducts    2240 non-null   int64 \n",
      " 14  MntSweetProducts   2240 non-null   int64 \n",
      " 15  MntGoldProds       2240 non-null   int64 \n",
      " 16  NumDealsPurchases  2240 non-null   int64 \n",
      " 17  NumWebPurchases    2240 non-null   int64 \n",
      " 18  NumStorePurchases  2240 non-null   int64 \n",
      " 19  NumWebVisitsMonth  2240 non-null   int64 \n",
      " 20  Complain           2240 non-null   int64 \n",
      "dtypes: int64(16), object(5)\n",
      "memory usage: 385.0+ KB\n"
     ]
    }
   ],
   "source": [
    "# info() : 데이터셋 개요 살펴보기\n",
    "df.info()"
   ]
  },
  {
   "cell_type": "code",
   "execution_count": 18,
   "id": "b884f3f4-cfaf-494d-a9b5-b9cdb145fea4",
   "metadata": {},
   "outputs": [
    {
     "name": "stdout",
     "output_type": "stream",
     "text": [
      "<class 'pandas.core.frame.DataFrame'>\n",
      "Int64Index: 2216 entries, 0 to 2239\n",
      "Data columns (total 21 columns):\n",
      " #   Column             Non-Null Count  Dtype \n",
      "---  ------             --------------  ----- \n",
      " 0   ID                 2216 non-null   int64 \n",
      " 1   Year_Birth         2216 non-null   int64 \n",
      " 2   Country            2216 non-null   object\n",
      " 3   Education          2216 non-null   object\n",
      " 4   Marital_Status     2216 non-null   object\n",
      " 5    Income            2216 non-null   object\n",
      " 6   Kidhome            2216 non-null   int64 \n",
      " 7   Teenhome           2216 non-null   int64 \n",
      " 8   Dt_Customer        2216 non-null   object\n",
      " 9   Recency            2216 non-null   int64 \n",
      " 10  MntWines           2216 non-null   int64 \n",
      " 11  MntFruits          2216 non-null   int64 \n",
      " 12  MntMeatProducts    2216 non-null   int64 \n",
      " 13  MntFishProducts    2216 non-null   int64 \n",
      " 14  MntSweetProducts   2216 non-null   int64 \n",
      " 15  MntGoldProds       2216 non-null   int64 \n",
      " 16  NumDealsPurchases  2216 non-null   int64 \n",
      " 17  NumWebPurchases    2216 non-null   int64 \n",
      " 18  NumStorePurchases  2216 non-null   int64 \n",
      " 19  NumWebVisitsMonth  2216 non-null   int64 \n",
      " 20  Complain           2216 non-null   int64 \n",
      "dtypes: int64(16), object(5)\n",
      "memory usage: 380.9+ KB\n"
     ]
    }
   ],
   "source": [
    "# 결측치 제거\n",
    "df = df.dropna()\n",
    "\n",
    "# 데이터셋 다시 살펴보기\n",
    "df.info()"
   ]
  },
  {
   "cell_type": "markdown",
   "id": "b5affff0-6353-4176-811e-0a167ea2678c",
   "metadata": {},
   "source": [
    "### 3) 아래의 특성들을 만드세요\n",
    "\n",
    "1. **TotalMntProducts** - 최근 2년간 구매한 모든 제품 가격들을 합한 값을 가진 계산한 특성입니다\n",
    "\n",
    "2. **TotalNumPurchases** - 구매횟수를 모두 합친 값을 가진 특성입니다\n",
    "\n",
    "3. **DaysSinceJoined** - 오늘 날짜를 기준으로 가입한 기간을 보여주는 특성입니다 \n",
    "\n",
    "4. **VIP** - 누적 구매 금액이 $2,000 이상을 넘고, 오늘을 기준으로 가입기간이 5년 이상이 된다면 1, 아니면 0의 값을 가진 칼럼을 만듭니다"
   ]
  },
  {
   "cell_type": "code",
   "execution_count": 19,
   "id": "551941f2-27a1-4192-a3f8-b24fa0607862",
   "metadata": {},
   "outputs": [],
   "source": [
    "# TotalMntProducts\n",
    "df['TotalMntPurchases'] = df['MntWines'] + df['MntFruits'] + df['MntMeatProducts'] + df['MntFishProducts'] + df['MntSweetProducts'] + df['MntGoldProds']\n",
    "\n",
    "# TotalNumPurchases\n",
    "df['TotalNumPurchases'] = df['NumDealsPurchases'] + df['NumWebPurchases'] + df['NumStorePurchases']\n",
    "\n",
    "# DaysSinceJoined\n",
    "df[\"Dt_Customer\"] = pd.to_datetime(df['Dt_Customer'])\n",
    "df['DaysSinceJoined'] = (pd.Timestamp.today() - df['Dt_Customer'])\n",
    "\n",
    "# VIP\n",
    "df.loc[((df['TotalMntPurchases'] >= 2000) & (df['DaysSinceJoined'] >= pd.Timedelta(\"1825 days\"))), 'VIP'] = True\n",
    "df.loc[~((df['TotalMntPurchases'] >= 2000) & (df['DaysSinceJoined'] >= pd.Timedelta(\"1825 days\"))), 'VIP'] = False"
   ]
  },
  {
   "cell_type": "markdown",
   "id": "4dfef8dd-c8df-40d7-b3af-80b8ccfaf9ae",
   "metadata": {},
   "source": [
    "## Part 2 - 가설 검정\n",
    "\n",
    "### Hypothesis Test    \n",
    "   - 수치형 (numerical/continuous) 칼럼이 어떤 차이를 보이는지 t-test를 통해 가설을 세우고 검증하세요. (최소 2개)\n",
    "   - 범주형 (categorical) 칼럼이 어떤 차이를 보이는지 $\\chi^2-test$를 통해 가설을 세우고 검증하세요. (최소 2개)  \n",
    "  **Hint:** categorical feature 간의 \"cross tab\"을 생성하여 탐색해 보세요 (aka [contingency tables](https://en.wikipedia.org/wiki/Contingency_table)). 그리고 $\\chi^2 test$를 적용해 보세요. [pandas.crosstab](http://pandas.pydata.org/pandas-docs/stable/reference/api/pandas.crosstab.html)을 사용하면 contingency table 을 생성할 수 있습니다. 그리고 [scipy.stats.chi2_contingency](https://docs.scipy.org/doc/scipy/reference/generated/scipy.stats.chi2_contingency.html)를 사용하면 $\\chi^2$ statistics 를 계산할 수 있습니다.    "
   ]
  },
  {
   "cell_type": "code",
   "execution_count": 20,
   "id": "698873e9-52cd-4451-8385-0e6239d4100d",
   "metadata": {},
   "outputs": [
    {
     "data": {
      "text/plain": [
       "Ttest_indResult(statistic=-18.994289044976455, pvalue=2.103546667549773e-77)"
      ]
     },
     "execution_count": 20,
     "metadata": {},
     "output_type": "execute_result"
    }
   ],
   "source": [
    "# t-test\n",
    "from scipy.stats import ttest_ind, chi2_contingency\n",
    "\n",
    "\"\"\"\n",
    "귀무 가설 : 웹에서의 구매횟수와 가게의 구매횟수 평균은 통계적으로 유의미한 차이가 없다\n",
    "대안 가설 : 웹에서의 구매횟수와 가게의 구매횟수 평균은 통계적으로 유의미한 차이가 있을 것이다\n",
    "\n",
    "\n",
    "t-test로 웹에서의 구매횟수와 가게에서의 구매횟수를 비교했을 때 p-value가 0.05보다 매우 낮게 나왔으므로 귀무가설을\n",
    "기각하고, 웹에서의 구매횟수와 가게의 구매횟수 평균은 통계적으로 유의미한 차이가 있다고 결론 지을 수 있다.\n",
    "\n",
    "\"\"\" \n",
    "\n",
    "ttest_ind(df['NumWebPurchases'], df['NumStorePurchases'])"
   ]
  },
  {
   "cell_type": "code",
   "execution_count": 21,
   "id": "52684072-46d3-4db7-9386-1e6b0f0166ff",
   "metadata": {},
   "outputs": [
    {
     "data": {
      "text/plain": [
       "(29.769450542095363,\n",
       " 0.3743225914546619,\n",
       " 28,\n",
       " array([[1.32671480e+01, 2.40072202e+01, 1.04693141e+01, 1.32671480e+01,\n",
       "         2.70758123e-01, 3.04151625e+01, 9.86462094e+01, 9.65703971e+00],\n",
       "        [3.58212996e+00, 6.48194946e+00, 2.82671480e+00, 3.58212996e+00,\n",
       "         7.31046931e-02, 8.21209386e+00, 2.66344765e+01, 2.60740072e+00],\n",
       "        [7.40306859e+01, 1.33960289e+02, 5.84187726e+01, 7.40306859e+01,\n",
       "         1.51083032e+00, 1.69716606e+02, 5.50445848e+02, 5.38862816e+01],\n",
       "        [2.42125451e+01, 4.38131769e+01, 1.91064982e+01, 2.42125451e+01,\n",
       "         4.94133574e-01, 5.55076715e+01, 1.80029332e+02, 1.76240975e+01],\n",
       "        [3.19074910e+01, 5.77373646e+01, 2.51787004e+01, 3.19074910e+01,\n",
       "         6.51173285e-01, 7.31484657e+01, 2.37244134e+02, 2.32251805e+01]]))"
      ]
     },
     "execution_count": 21,
     "metadata": {},
     "output_type": "execute_result"
    }
   ],
   "source": [
    "# chi-square\n",
    "\n",
    "\"\"\"\n",
    "귀무 가설 : 소비자의 국적과 교육 수준 차이는 서로 연관이 없을 것이다.\n",
    "대안 가설 : 소비자의 국적과 교육 수준 차이는 서로 연관이 있을 것이다.\n",
    "\n",
    "\n",
    "chi-square로 소비자의 국적과 교육 수준 차이 간에 관계 (독립인지 종속인지) 를 비교했을 때, p-value가 0.3이 나왔으므로\n",
    "귀무가설을 기각하지 못하며, 소비자의 국적과 교육 수준 차이는 서로 연관이 없다고 결론 지을 수 있다.\n",
    "\n",
    "\"\"\" \n",
    "\n",
    "chi2_contingency(pd.crosstab(df['Education'], df['Country']))"
   ]
  },
  {
   "cell_type": "markdown",
   "id": "fe2d3868-0826-4f59-bba3-8219abb422d9",
   "metadata": {},
   "source": [
    "## Part 3 - Analysis and Interpretation\n",
    "\n",
    "자, 위 파트들에서 우리는 데이터들을 잘 관찰했습니다. 다음의 질문들에 텍스트로 답변하십시오.  \n",
    "\n",
    "1) 여러분들이 수행한 두 개 이상의 t-test 들을 해석하고 설명해 보세요.\n",
    "2) 여러분들이 수행한 두 개 이상의 $\\chi^2$ test 들을 해석하고 설명해 보세요."
   ]
  },
  {
   "cell_type": "markdown",
   "id": "55cec2cd-3e51-408c-adf3-b6d8cfb1b9c1",
   "metadata": {},
   "source": [
    "** `답안 작성은 이 곳에 하십시오` **"
   ]
  },
  {
   "cell_type": "code",
   "execution_count": 22,
   "id": "c72c7222-9b0c-4ecf-bdcd-e86d6fdb2d0c",
   "metadata": {},
   "outputs": [],
   "source": [
    "# 각 파트가 잘 구분되어질 수 있도록 해 주세요"
   ]
  },
  {
   "cell_type": "markdown",
   "id": "ef1670f6-ecee-4ac4-ba5c-8c0245ce9542",
   "metadata": {},
   "source": [
    "# Advanced Goals: \n",
    "> SC 에서 3점을 얻고 싶으시다면 아래의 문제를 모두 풀어주세요. 다만 2점을 얻었다면 충분합니다. 시간과 여유가 있는 분들만 도전해 보시기 바랍니다. \n",
    "\n",
    "## Part 1: \n",
    "\n",
    "여러분들의 dataframe column들이 적절한 data type을 가지도록 작업해 보세요.   \n",
    "**Hint:** 특정 column datatype 이 float 이나 integer 로 되어있음에도 불구하고 \"object\" 라고 되어 있는 경우가 있습니다. 이 경우, `pd.to_numeric()`, `pd.to_datetime()` 과 같은 방법으로 칼럼들을 변환해 보세요. \n",
    "주석을 통해 읽는 이가 쉽게 읽을 수 있고, 전체 내용을 쉽게 따라갈 수 있다면 3점을 얻을 수 있습니다. \n",
    "\n",
    "## Part 2:\n",
    "\n",
    "데이터 셋의 적절한 column들의 조합으로 $t-test$와 $\\chi^2 test$가 쉽게 수행될 수 있도록 함수를 작성해 보세요.\n",
    "**데이터 타입에 알맞은 가설검정이 실행되야 하는 것을 잊지 마세요**\n",
    "\n",
    "## Part 3: \n",
    "평균 추정치에 대한 신뢰 구간(confidence interval)을 계산하고 결과를 작성하세요 (최소 두 개 선택). 계산한 추정치가 얼마나 정확한지 시각적으로 확인할 수 있도록 matplotlib, seaborn 등의 시각화 라이브러리를 활용해서 나타내세요"
   ]
  },
  {
   "cell_type": "code",
   "execution_count": 23,
   "id": "9c36d746-4327-4bea-91c4-bb74f29bb5ba",
   "metadata": {},
   "outputs": [
    {
     "name": "stderr",
     "output_type": "stream",
     "text": [
      "<ipython-input-23-8f8bd6d057c8>:5: FutureWarning: The default value of regex will change from True to False in a future version. In addition, single character regular expressions will*not* be treated as literal strings when regex=True.\n",
      "  df['Income'] = df['Income'].str.replace(\"$\",\"\").str.replace(\",\",\"\").astype(float)\n"
     ]
    }
   ],
   "source": [
    "### 이곳에 Part 1 답안을 작성해주시기 바랍니다\n",
    "# 칼럼명 변경\n",
    "df['Income'] = df[' Income ']\n",
    "\n",
    "df['Income'] = df['Income'].str.replace(\"$\",\"\").str.replace(\",\",\"\").astype(float)\n",
    "\n",
    "df['Year_Birth'] = pd.to_datetime(df['Year_Birth'])"
   ]
  },
  {
   "cell_type": "code",
   "execution_count": 24,
   "id": "39989023-09a7-48a9-868d-d6b96aaef396",
   "metadata": {},
   "outputs": [
    {
     "data": {
      "text/plain": [
       "True"
      ]
     },
     "execution_count": 24,
     "metadata": {},
     "output_type": "execute_result"
    }
   ],
   "source": [
    "df['Income'].dtype == 'float64'"
   ]
  },
  {
   "cell_type": "code",
   "execution_count": 2,
   "id": "b991c6c7-d850-4e48-a301-9204573e112d",
   "metadata": {},
   "outputs": [],
   "source": [
    "### 이곳에 Part 2 답안을 작성해주시기 바랍니다\n",
    "\n",
    "def which_test_by_dtypes(df1, df2):\n",
    "    \n",
    "    # 사용자 지정 함수 영역 내에서 라이브러리 import\n",
    "    import numpy as np\n",
    "    from scipy.stats import ttest_ind, chi2_contingency\n",
    "        \n",
    "    # t-test    \n",
    "    if (np.issubdtype(df1.dtype, np.number)) & (np.issubdtype(df2.dtype, np.number)):\n",
    "        return ttest_ind(df1, df2)\n",
    "    \n",
    "    # chi-square\n",
    "    else :\n",
    "        cross = pd.crosstab(df1, df2)\n",
    "        return chi2_contingency(cross)[:2]\n"
   ]
  },
  {
   "cell_type": "code",
   "execution_count": 3,
   "id": "0c58ee4b-eac3-4645-b510-2eae9aa0d616",
   "metadata": {},
   "outputs": [
    {
     "data": {
      "text/plain": [
       "Ttest_indResult(statistic=-18.87264298788038, pvalue=1.662084448614062e-76)"
      ]
     },
     "execution_count": 3,
     "metadata": {},
     "output_type": "execute_result"
    }
   ],
   "source": [
    "which_test_by_dtypes(df['NumWebPurchases'], df['NumStorePurchases'])"
   ]
  },
  {
   "cell_type": "code",
   "execution_count": 17,
   "id": "a73ac1bb-cefe-46e4-a396-ba0622085f79",
   "metadata": {},
   "outputs": [
    {
     "data": {
      "image/png": "[encoded data removed]",
      "text/plain": [
       "<Figure size 432x288 with 1 Axes>"
      ]
     },
     "metadata": {
      "needs_background": "light"
     },
     "output_type": "display_data"
    }
   ],
   "source": [
    "### 이곳에 Part 3 답안을 작성해주시기 바랍니다.\n",
    "import numpy as np\n",
    "import matplotlib.pyplot as plt\n",
    "import seaborn as sns\n",
    "from scipy import stats\n",
    "\n",
    "fig = plt.figure()\n",
    "# ax = fig.add_axes([0,0,1,1])\n",
    "\n",
    "\n",
    "# 컬럼 별 평균 계산\n",
    "col1_mean, col2_mean = np.mean(df['NumWebPurchases']), np.mean(df['NumStorePurchases'])\n",
    "\n",
    "\n",
    "# 컬럼 별 신뢰구간 계산\n",
    "def confidence_interval(data, confidence = 0.95):\n",
    "    \n",
    "    data = np.array(data)\n",
    "    mean = np.mean(data)\n",
    "    n = len(data)\n",
    "\n",
    "    stderr = stats.sem(data) \n",
    "\n",
    "    interval = stderr * stats.t.ppf( (1 + confidence) / 2 , n - 1)\n",
    "    return (mean - interval, mean + interval)\n",
    "\n",
    "col1_confidence = confidence_interval(df['NumWebPurchases'])\n",
    "col2_confidence = confidence_interval(df['NumStorePurchases'])\n",
    "\n",
    "\n",
    "# plot 생성\n",
    "plt.bar(x=col1_mean, height=col1_mean, yerr=col1_confidence[0]-col1_mean, capsize=10)\n",
    "plt.bar(x=col2_mean, height=col2_mean, yerr=col2_confidence[0]-col2_mean, capsize=10)\n",
    "\n",
    "# plot 보여주기\n",
    "plt.show()"
   ]
  }
 ],
 "metadata": {
  "kernelspec": {
   "display_name": "Python 3",
   "language": "python",
   "name": "python3"
  },
  "language_info": {
   "codemirror_mode": {
    "name": "ipython",
    "version": 3
   },
   "file_extension": ".py",
   "mimetype": "text/x-python",
   "name": "python",
   "nbconvert_exporter": "python",
   "pygments_lexer": "ipython3",
   "version": "3.8.8"
  }
 },
 "nbformat": 4,
 "nbformat_minor": 5
}
